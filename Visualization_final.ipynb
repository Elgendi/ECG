{
  "nbformat": 4,
  "nbformat_minor": 0,
  "metadata": {
    "kernelspec": {
      "display_name": "Python 3",
      "language": "python",
      "name": "python3"
    },
    "language_info": {
      "codemirror_mode": {
        "name": "ipython",
        "version": 3
      },
      "file_extension": ".py",
      "mimetype": "text/x-python",
      "name": "python",
      "nbconvert_exporter": "python",
      "pygments_lexer": "ipython3",
      "version": "3.6.5"
    },
    "colab": {
      "name": "Visualization-final.ipynb",
      "provenance": [],
      "include_colab_link": true
    }
  },
  "cells": [
    {
      "cell_type": "markdown",
      "metadata": {
        "id": "view-in-github",
        "colab_type": "text"
      },
      "source": [
        "<a href=\"https://colab.research.google.com/github/Elgendi/Machine-Learning-and-Data-Viz-Workshop/blob/master/Visualization_final.ipynb\" target=\"_parent\"><img src=\"https://colab.research.google.com/assets/colab-badge.svg\" alt=\"Open In Colab\"/></a>"
      ]
    },
    {
      "cell_type": "markdown",
      "metadata": {
        "id": "uYlc3etJDNYg"
      },
      "source": [
        "#### Machine Learning and Visulization for Healthcare Data: Foundtions (Part 1)\n",
        "# Python libraries for working with data (load, process, and visulize)"
      ]
    },
    {
      "cell_type": "code",
      "metadata": {
        "id": "w6JcpRavDNYg"
      },
      "source": [
        "# Copyright (c) Mohamed Elgendi 2020. All rights reserved\n",
        "# Author: Mohamed Elgendi \n",
        "# Version: 1.0 (2020.11.29)\n",
        "# Email: moe.elgendi@gmail.com\n",
        "# Platform: Tested on Windows 10 with Python 3.6"
      ],
      "execution_count": 1,
      "outputs": []
    },
    {
      "cell_type": "markdown",
      "metadata": {
        "id": "K546U91zDNYh"
      },
      "source": [
        "### Objectives\n",
        " - Learn how to use Pandas to easily and efficiently analyze data\n",
        " - Review some simple statistical operations\n",
        " - Complete the exercises\n",
        "\n",
        "### Background reading\n",
        "- Pandas dataframe docs: https://pandas.pydata.org/pandas-docs/stable/generated/pandas.DataFrame.html\n",
        "- More on visualization in matplotlib can be found here: https://matplotlib.org/\n",
        "- More on visualization in seaborn can be found here: https://seaborn.pydata.org/\n"
      ]
    },
    {
      "cell_type": "markdown",
      "metadata": {
        "id": "STsC-vLaDNYh"
      },
      "source": [
        "## Introduction to Pandas\n",
        "\n",
        "Pandas is a python library for data analysis. At the core of Pandas, lies the concept of a 'DataFrame' - this can be thought of as powerful type of dictionary designed for data analysis.\n",
        "\n",
        "The DataFrame is designed to manage indexed and labeled data, not too different from a SQL database table or a worksheet in a spreadsheet application. Consider the following creation of a DataFrame object:"
      ]
    },
    {
      "cell_type": "code",
      "metadata": {
        "id": "e4TIFh8-DNYh"
      },
      "source": [
        "#All libs used in the tutorial\n",
        "%matplotlib inline\n",
        "import numpy as np\n",
        "import pandas as pd\n",
        "import matplotlib.pyplot as plt\n",
        "import seaborn as sns"
      ],
      "execution_count": 2,
      "outputs": []
    },
    {
      "cell_type": "code",
      "metadata": {
        "colab": {
          "base_uri": "https://localhost:8080/",
          "height": 172
        },
        "id": "jnftimwnDNYh",
        "outputId": "eb697c7a-db3c-4696-d686-421f5aeace4c"
      },
      "source": [
        "import numpy as np\n",
        "import pandas as pd\n",
        "\n",
        "df = pd.DataFrame([20, 60, 13, 40], columns=['Age'],\n",
        "                  index=['Subject 1', 'Subject 2', 'Subject 3', 'Subject 4'])\n",
        "df"
      ],
      "execution_count": 3,
      "outputs": [
        {
          "output_type": "execute_result",
          "data": {
            "text/html": [
              "<div>\n",
              "<style scoped>\n",
              "    .dataframe tbody tr th:only-of-type {\n",
              "        vertical-align: middle;\n",
              "    }\n",
              "\n",
              "    .dataframe tbody tr th {\n",
              "        vertical-align: top;\n",
              "    }\n",
              "\n",
              "    .dataframe thead th {\n",
              "        text-align: right;\n",
              "    }\n",
              "</style>\n",
              "<table border=\"1\" class=\"dataframe\">\n",
              "  <thead>\n",
              "    <tr style=\"text-align: right;\">\n",
              "      <th></th>\n",
              "      <th>Age</th>\n",
              "    </tr>\n",
              "  </thead>\n",
              "  <tbody>\n",
              "    <tr>\n",
              "      <th>Subject 1</th>\n",
              "      <td>20</td>\n",
              "    </tr>\n",
              "    <tr>\n",
              "      <th>Subject 2</th>\n",
              "      <td>60</td>\n",
              "    </tr>\n",
              "    <tr>\n",
              "      <th>Subject 3</th>\n",
              "      <td>13</td>\n",
              "    </tr>\n",
              "    <tr>\n",
              "      <th>Subject 4</th>\n",
              "      <td>40</td>\n",
              "    </tr>\n",
              "  </tbody>\n",
              "</table>\n",
              "</div>"
            ],
            "text/plain": [
              "           Age\n",
              "Subject 1   20\n",
              "Subject 2   60\n",
              "Subject 3   13\n",
              "Subject 4   40"
            ]
          },
          "metadata": {
            "tags": []
          },
          "execution_count": 3
        }
      ]
    },
    {
      "cell_type": "markdown",
      "metadata": {
        "id": "rspbAHq2DNYj"
      },
      "source": [
        "We observe a number of important proporties of the dataframe:\n",
        "- Data itself can be provided in different shapes and types (list, tuple, ndarray, and dict objects are candidates). \n",
        "- Labels: Data is organized in columns, which can have custom names. \n",
        "- Index: There is an index that can take on different formats (e.g., numbers, strings, time information). "
      ]
    },
    {
      "cell_type": "markdown",
      "metadata": {
        "id": "5BtGrXk0DNYj"
      },
      "source": [
        "The following examples demonstrate several of the most import methods and properties of the Pandas dataframe object."
      ]
    },
    {
      "cell_type": "code",
      "metadata": {
        "id": "JZJ7uPjkDNYj",
        "outputId": "7a224861-5e68-4395-9838-009edac3a373"
      },
      "source": [
        "df.index  # the index values"
      ],
      "execution_count": null,
      "outputs": [
        {
          "output_type": "execute_result",
          "data": {
            "text/plain": [
              "Index(['Subject 1', 'Subject 2', 'Subject 3', 'Subject 4'], dtype='object')"
            ]
          },
          "metadata": {
            "tags": []
          },
          "execution_count": 123
        }
      ]
    },
    {
      "cell_type": "code",
      "metadata": {
        "id": "hlSIQlwxDNYj",
        "outputId": "5dc49177-dfce-4749-ee82-6ec59ae9f46a"
      },
      "source": [
        "df.columns  # the column names"
      ],
      "execution_count": null,
      "outputs": [
        {
          "output_type": "execute_result",
          "data": {
            "text/plain": [
              "Index(['Age'], dtype='object')"
            ]
          },
          "metadata": {
            "tags": []
          },
          "execution_count": 124
        }
      ]
    },
    {
      "cell_type": "code",
      "metadata": {
        "id": "xCfIYSXADNYj",
        "outputId": "18450ec5-fab9-47f4-e903-1d13122af025"
      },
      "source": [
        "df.loc['Subject 1'] # selection via index"
      ],
      "execution_count": null,
      "outputs": [
        {
          "output_type": "execute_result",
          "data": {
            "text/plain": [
              "Age    20\n",
              "Name: Subject 1, dtype: int64"
            ]
          },
          "metadata": {
            "tags": []
          },
          "execution_count": 125
        }
      ]
    },
    {
      "cell_type": "code",
      "metadata": {
        "id": "xw-J2vYdDNYk",
        "outputId": "bed9763a-be66-48fb-ac26-8cff7e348c70"
      },
      "source": [
        "df.loc[['Subject 1', 'Subject 2']]  # selection of multiple indices"
      ],
      "execution_count": null,
      "outputs": [
        {
          "output_type": "execute_result",
          "data": {
            "text/html": [
              "<div>\n",
              "<style scoped>\n",
              "    .dataframe tbody tr th:only-of-type {\n",
              "        vertical-align: middle;\n",
              "    }\n",
              "\n",
              "    .dataframe tbody tr th {\n",
              "        vertical-align: top;\n",
              "    }\n",
              "\n",
              "    .dataframe thead th {\n",
              "        text-align: right;\n",
              "    }\n",
              "</style>\n",
              "<table border=\"1\" class=\"dataframe\">\n",
              "  <thead>\n",
              "    <tr style=\"text-align: right;\">\n",
              "      <th></th>\n",
              "      <th>Age</th>\n",
              "    </tr>\n",
              "  </thead>\n",
              "  <tbody>\n",
              "    <tr>\n",
              "      <th>Subject 1</th>\n",
              "      <td>20</td>\n",
              "    </tr>\n",
              "    <tr>\n",
              "      <th>Subject 2</th>\n",
              "      <td>60</td>\n",
              "    </tr>\n",
              "  </tbody>\n",
              "</table>\n",
              "</div>"
            ],
            "text/plain": [
              "           Age\n",
              "Subject 1   20\n",
              "Subject 2   60"
            ]
          },
          "metadata": {
            "tags": []
          },
          "execution_count": 126
        }
      ]
    },
    {
      "cell_type": "code",
      "metadata": {
        "id": "9rCjd5piDNYk",
        "outputId": "6aa202c6-9663-40cf-faad-167767922e09"
      },
      "source": [
        "df.iloc[-1]  # selection via Index object"
      ],
      "execution_count": null,
      "outputs": [
        {
          "output_type": "execute_result",
          "data": {
            "text/plain": [
              "Age    40\n",
              "Name: Subject 4, dtype: int64"
            ]
          },
          "metadata": {
            "tags": []
          },
          "execution_count": 127
        }
      ]
    },
    {
      "cell_type": "code",
      "metadata": {
        "id": "G2RwvlQGDNYk",
        "outputId": "14d5cecf-9bb6-4be6-f64a-f7296a2c8387"
      },
      "source": [
        "df.values # note: we extract values as an array"
      ],
      "execution_count": null,
      "outputs": [
        {
          "output_type": "execute_result",
          "data": {
            "text/plain": [
              "array([[20],\n",
              "       [60],\n",
              "       [13],\n",
              "       [40]], dtype=int64)"
            ]
          },
          "metadata": {
            "tags": []
          },
          "execution_count": 140
        }
      ]
    },
    {
      "cell_type": "code",
      "metadata": {
        "id": "E9g_Ex_eDNYk",
        "outputId": "66b9b08b-01fd-4977-9a34-08f0002001ec"
      },
      "source": [
        "df.Age.std()  # sum per column"
      ],
      "execution_count": null,
      "outputs": [
        {
          "output_type": "execute_result",
          "data": {
            "text/plain": [
              "21.187653637594387"
            ]
          },
          "metadata": {
            "tags": []
          },
          "execution_count": 136
        }
      ]
    },
    {
      "cell_type": "code",
      "metadata": {
        "id": "Na8_B9P9DNYk",
        "outputId": "4fbf5742-2036-4328-ccab-aa4ae2a0c5b5"
      },
      "source": [
        "df.Age.mean()"
      ],
      "execution_count": null,
      "outputs": [
        {
          "output_type": "execute_result",
          "data": {
            "text/plain": [
              "33.25"
            ]
          },
          "metadata": {
            "tags": []
          },
          "execution_count": 137
        }
      ]
    },
    {
      "cell_type": "code",
      "metadata": {
        "id": "zGyyRg2lDNYk",
        "outputId": "eded3125-1ee4-4c94-e426-e528fcdc75a0"
      },
      "source": [
        "df.apply(lambda x: x ** 2)  # square of every element"
      ],
      "execution_count": null,
      "outputs": [
        {
          "output_type": "execute_result",
          "data": {
            "text/html": [
              "<div>\n",
              "<style scoped>\n",
              "    .dataframe tbody tr th:only-of-type {\n",
              "        vertical-align: middle;\n",
              "    }\n",
              "\n",
              "    .dataframe tbody tr th {\n",
              "        vertical-align: top;\n",
              "    }\n",
              "\n",
              "    .dataframe thead th {\n",
              "        text-align: right;\n",
              "    }\n",
              "</style>\n",
              "<table border=\"1\" class=\"dataframe\">\n",
              "  <thead>\n",
              "    <tr style=\"text-align: right;\">\n",
              "      <th></th>\n",
              "      <th>Age</th>\n",
              "    </tr>\n",
              "  </thead>\n",
              "  <tbody>\n",
              "    <tr>\n",
              "      <th>Subject 1</th>\n",
              "      <td>400</td>\n",
              "    </tr>\n",
              "    <tr>\n",
              "      <th>Subject 2</th>\n",
              "      <td>3600</td>\n",
              "    </tr>\n",
              "    <tr>\n",
              "      <th>Subject 3</th>\n",
              "      <td>169</td>\n",
              "    </tr>\n",
              "    <tr>\n",
              "      <th>Subject 4</th>\n",
              "      <td>1600</td>\n",
              "    </tr>\n",
              "  </tbody>\n",
              "</table>\n",
              "</div>"
            ],
            "text/plain": [
              "            Age\n",
              "Subject 1   400\n",
              "Subject 2  3600\n",
              "Subject 3   169\n",
              "Subject 4  1600"
            ]
          },
          "metadata": {
            "tags": []
          },
          "execution_count": 100
        }
      ]
    },
    {
      "cell_type": "code",
      "metadata": {
        "id": "E2z2ub2ZDNYk",
        "outputId": "3d25e867-492e-4001-a129-56110efbbd5f"
      },
      "source": [
        "df ** 2  # again square, this time NumPy-like"
      ],
      "execution_count": null,
      "outputs": [
        {
          "output_type": "execute_result",
          "data": {
            "text/html": [
              "<div>\n",
              "<style scoped>\n",
              "    .dataframe tbody tr th:only-of-type {\n",
              "        vertical-align: middle;\n",
              "    }\n",
              "\n",
              "    .dataframe tbody tr th {\n",
              "        vertical-align: top;\n",
              "    }\n",
              "\n",
              "    .dataframe thead th {\n",
              "        text-align: right;\n",
              "    }\n",
              "</style>\n",
              "<table border=\"1\" class=\"dataframe\">\n",
              "  <thead>\n",
              "    <tr style=\"text-align: right;\">\n",
              "      <th></th>\n",
              "      <th>Age</th>\n",
              "    </tr>\n",
              "  </thead>\n",
              "  <tbody>\n",
              "    <tr>\n",
              "      <th>Subject 1</th>\n",
              "      <td>400</td>\n",
              "    </tr>\n",
              "    <tr>\n",
              "      <th>Subject 2</th>\n",
              "      <td>3600</td>\n",
              "    </tr>\n",
              "    <tr>\n",
              "      <th>Subject 3</th>\n",
              "      <td>169</td>\n",
              "    </tr>\n",
              "    <tr>\n",
              "      <th>Subject 4</th>\n",
              "      <td>1600</td>\n",
              "    </tr>\n",
              "  </tbody>\n",
              "</table>\n",
              "</div>"
            ],
            "text/plain": [
              "            Age\n",
              "Subject 1   400\n",
              "Subject 2  3600\n",
              "Subject 3   169\n",
              "Subject 4  1600"
            ]
          },
          "metadata": {
            "tags": []
          },
          "execution_count": 101
        }
      ]
    },
    {
      "cell_type": "markdown",
      "metadata": {
        "id": "bybMRjVYDNYk"
      },
      "source": [
        "# Adding a new column\n",
        "Adding a new feature/column to the original dataframe is so simple.\n",
        "All we need to do is put the new column between two single quotations, and then assign values as follows."
      ]
    },
    {
      "cell_type": "code",
      "metadata": {
        "id": "7HZrpjyoDNYk",
        "outputId": "801c9e44-0092-4ba3-fdc1-d2a96627ca8a"
      },
      "source": [
        "df['A'] = [1.9, 2.5, 3.5, 4.5]  # new column is generated\n",
        "df\n"
      ],
      "execution_count": null,
      "outputs": [
        {
          "output_type": "execute_result",
          "data": {
            "text/html": [
              "<div>\n",
              "<style scoped>\n",
              "    .dataframe tbody tr th:only-of-type {\n",
              "        vertical-align: middle;\n",
              "    }\n",
              "\n",
              "    .dataframe tbody tr th {\n",
              "        vertical-align: top;\n",
              "    }\n",
              "\n",
              "    .dataframe thead th {\n",
              "        text-align: right;\n",
              "    }\n",
              "</style>\n",
              "<table border=\"1\" class=\"dataframe\">\n",
              "  <thead>\n",
              "    <tr style=\"text-align: right;\">\n",
              "      <th></th>\n",
              "      <th>Age</th>\n",
              "      <th>A</th>\n",
              "    </tr>\n",
              "  </thead>\n",
              "  <tbody>\n",
              "    <tr>\n",
              "      <th>Subject 1</th>\n",
              "      <td>20</td>\n",
              "      <td>1.9</td>\n",
              "    </tr>\n",
              "    <tr>\n",
              "      <th>Subject 2</th>\n",
              "      <td>60</td>\n",
              "      <td>2.5</td>\n",
              "    </tr>\n",
              "    <tr>\n",
              "      <th>Subject 3</th>\n",
              "      <td>13</td>\n",
              "      <td>3.5</td>\n",
              "    </tr>\n",
              "    <tr>\n",
              "      <th>Subject 4</th>\n",
              "      <td>40</td>\n",
              "      <td>4.5</td>\n",
              "    </tr>\n",
              "  </tbody>\n",
              "</table>\n",
              "</div>"
            ],
            "text/plain": [
              "           Age    A\n",
              "Subject 1   20  1.9\n",
              "Subject 2   60  2.5\n",
              "Subject 3   13  3.5\n",
              "Subject 4   40  4.5"
            ]
          },
          "metadata": {
            "tags": []
          },
          "execution_count": 149
        }
      ]
    },
    {
      "cell_type": "markdown",
      "metadata": {
        "id": "kJSqlKEqDNYl"
      },
      "source": [
        "# Deleting a column\n",
        "\n",
        "We use the drop function in the dataframe."
      ]
    },
    {
      "cell_type": "code",
      "metadata": {
        "id": "ystnLURRDNYl",
        "outputId": "d7cd6b1b-8219-4793-e896-4ab8462a46fc"
      },
      "source": [
        "df.drop(columns='A')"
      ],
      "execution_count": null,
      "outputs": [
        {
          "output_type": "execute_result",
          "data": {
            "text/html": [
              "<div>\n",
              "<style scoped>\n",
              "    .dataframe tbody tr th:only-of-type {\n",
              "        vertical-align: middle;\n",
              "    }\n",
              "\n",
              "    .dataframe tbody tr th {\n",
              "        vertical-align: top;\n",
              "    }\n",
              "\n",
              "    .dataframe thead th {\n",
              "        text-align: right;\n",
              "    }\n",
              "</style>\n",
              "<table border=\"1\" class=\"dataframe\">\n",
              "  <thead>\n",
              "    <tr style=\"text-align: right;\">\n",
              "      <th></th>\n",
              "      <th>Age</th>\n",
              "    </tr>\n",
              "  </thead>\n",
              "  <tbody>\n",
              "    <tr>\n",
              "      <th>Subject 1</th>\n",
              "      <td>20</td>\n",
              "    </tr>\n",
              "    <tr>\n",
              "      <th>Subject 2</th>\n",
              "      <td>60</td>\n",
              "    </tr>\n",
              "    <tr>\n",
              "      <th>Subject 3</th>\n",
              "      <td>13</td>\n",
              "    </tr>\n",
              "    <tr>\n",
              "      <th>Subject 4</th>\n",
              "      <td>40</td>\n",
              "    </tr>\n",
              "  </tbody>\n",
              "</table>\n",
              "</div>"
            ],
            "text/plain": [
              "           Age\n",
              "Subject 1   20\n",
              "Subject 2   60\n",
              "Subject 3   13\n",
              "Subject 4   40"
            ]
          },
          "metadata": {
            "tags": []
          },
          "execution_count": 103
        }
      ]
    },
    {
      "cell_type": "markdown",
      "metadata": {
        "id": "q1YepSDXDNYl"
      },
      "source": [
        "# Exercise 1: Create a new dataframe with 4 attributes/columns for 3 subjects\n",
        "The 4 attributes are Age, BMI, SBP, DBP, Echo"
      ]
    },
    {
      "cell_type": "markdown",
      "metadata": {
        "id": "q_lniG03DNYl"
      },
      "source": [
        "# Exercise 2: Square the Age column\n",
        "\n",
        " Hint: access Age via df first."
      ]
    },
    {
      "cell_type": "markdown",
      "metadata": {
        "id": "8x3v1La6DNYl"
      },
      "source": [
        "# Exercise 3: Remove the Echo column\n",
        "\n",
        " Hint: use the drop built-in function."
      ]
    },
    {
      "cell_type": "code",
      "metadata": {
        "id": "mMn-zbtUDNYl"
      },
      "source": [
        "df2 = pd.DataFrame(np.arange(1,1000),columns=['integers'])\n",
        "df3 = df2.apply(lambda x: np.sin(x))"
      ],
      "execution_count": null,
      "outputs": []
    },
    {
      "cell_type": "code",
      "metadata": {
        "id": "l2CwxRoHDNYl",
        "outputId": "ca9c77c2-1698-4bcc-9e6f-8bfacd9087a1"
      },
      "source": [
        "df3[0:100].plot()"
      ],
      "execution_count": null,
      "outputs": [
        {
          "output_type": "execute_result",
          "data": {
            "text/plain": [
              "<AxesSubplot:>"
            ]
          },
          "metadata": {
            "tags": []
          },
          "execution_count": 150
        },
        {
          "output_type": "display_data",
          "data": {
            "image/png": "[encoded data removed]",
            "text/plain": [
              "<Figure size 432x288 with 1 Axes>"
            ]
          },
          "metadata": {
            "tags": []
          }
        }
      ]
    },
    {
      "cell_type": "code",
      "metadata": {
        "id": "dBhjh_SiDNYl",
        "outputId": "150b7067-6180-4394-a36f-40eaac58b22c"
      },
      "source": [
        "df.plot.scatter('Age','A') # note that it takes columns only"
      ],
      "execution_count": null,
      "outputs": [
        {
          "output_type": "execute_result",
          "data": {
            "text/plain": [
              "<AxesSubplot:xlabel='Age', ylabel='A'>"
            ]
          },
          "metadata": {
            "tags": []
          },
          "execution_count": 171
        },
        {
          "output_type": "display_data",
          "data": {
            "image/png": "[encoded data removed]",
            "text/plain": [
              "<Figure size 432x288 with 1 Axes>"
            ]
          },
          "metadata": {
            "tags": []
          }
        }
      ]
    },
    {
      "cell_type": "markdown",
      "metadata": {
        "id": "1FXQ8xAVDNYl"
      },
      "source": [
        "# Exercise #1: scatter ['s1','s2','s3','s4'] vs. Age."
      ]
    },
    {
      "cell_type": "code",
      "metadata": {
        "id": "9XvWwW09DNYl",
        "outputId": "a0552207-6370-4a2f-a1a5-7a4d126030c8"
      },
      "source": [
        "df['names'] = pd.DataFrame(['Lisa', 'Bill', 'Rob', 'Depang'],\n",
        "                           index=['Subject 1', 'Subject 2', 'Subject 3', 'Subject 4'])\n",
        "df"
      ],
      "execution_count": null,
      "outputs": [
        {
          "output_type": "execute_result",
          "data": {
            "text/html": [
              "<div>\n",
              "<style scoped>\n",
              "    .dataframe tbody tr th:only-of-type {\n",
              "        vertical-align: middle;\n",
              "    }\n",
              "\n",
              "    .dataframe tbody tr th {\n",
              "        vertical-align: top;\n",
              "    }\n",
              "\n",
              "    .dataframe thead th {\n",
              "        text-align: right;\n",
              "    }\n",
              "</style>\n",
              "<table border=\"1\" class=\"dataframe\">\n",
              "  <thead>\n",
              "    <tr style=\"text-align: right;\">\n",
              "      <th></th>\n",
              "      <th>Age</th>\n",
              "      <th>A</th>\n",
              "      <th>names</th>\n",
              "    </tr>\n",
              "  </thead>\n",
              "  <tbody>\n",
              "    <tr>\n",
              "      <th>Subject 1</th>\n",
              "      <td>20</td>\n",
              "      <td>1.5</td>\n",
              "      <td>Lisa</td>\n",
              "    </tr>\n",
              "    <tr>\n",
              "      <th>Subject 2</th>\n",
              "      <td>60</td>\n",
              "      <td>2.5</td>\n",
              "      <td>Bill</td>\n",
              "    </tr>\n",
              "    <tr>\n",
              "      <th>Subject 3</th>\n",
              "      <td>13</td>\n",
              "      <td>3.5</td>\n",
              "      <td>Rob</td>\n",
              "    </tr>\n",
              "    <tr>\n",
              "      <th>Subject 4</th>\n",
              "      <td>40</td>\n",
              "      <td>4.5</td>\n",
              "      <td>Depang</td>\n",
              "    </tr>\n",
              "  </tbody>\n",
              "</table>\n",
              "</div>"
            ],
            "text/plain": [
              "           Age    A   names\n",
              "Subject 1   20  1.5    Lisa\n",
              "Subject 2   60  2.5    Bill\n",
              "Subject 3   13  3.5     Rob\n",
              "Subject 4   40  4.5  Depang"
            ]
          },
          "metadata": {
            "tags": []
          },
          "execution_count": 16
        }
      ]
    },
    {
      "cell_type": "code",
      "metadata": {
        "id": "dyUPLnnsDNYl",
        "outputId": "c4e302c1-2268-407b-a335-afc227401f5b"
      },
      "source": [
        "df = df.append(pd.DataFrame({'numbers': 100, 'floats': 5.75,\n",
        "                             'names': 'Henry'}, index=['z',]))\n",
        "df"
      ],
      "execution_count": null,
      "outputs": [
        {
          "output_type": "execute_result",
          "data": {
            "text/html": [
              "<div>\n",
              "<style scoped>\n",
              "    .dataframe tbody tr th:only-of-type {\n",
              "        vertical-align: middle;\n",
              "    }\n",
              "\n",
              "    .dataframe tbody tr th {\n",
              "        vertical-align: top;\n",
              "    }\n",
              "\n",
              "    .dataframe thead th {\n",
              "        text-align: right;\n",
              "    }\n",
              "</style>\n",
              "<table border=\"1\" class=\"dataframe\">\n",
              "  <thead>\n",
              "    <tr style=\"text-align: right;\">\n",
              "      <th></th>\n",
              "      <th>Age</th>\n",
              "      <th>A</th>\n",
              "      <th>names</th>\n",
              "      <th>numbers</th>\n",
              "      <th>floats</th>\n",
              "    </tr>\n",
              "  </thead>\n",
              "  <tbody>\n",
              "    <tr>\n",
              "      <th>Subject 1</th>\n",
              "      <td>20.0</td>\n",
              "      <td>1.5</td>\n",
              "      <td>Lisa</td>\n",
              "      <td>NaN</td>\n",
              "      <td>NaN</td>\n",
              "    </tr>\n",
              "    <tr>\n",
              "      <th>Subject 2</th>\n",
              "      <td>60.0</td>\n",
              "      <td>2.5</td>\n",
              "      <td>Bill</td>\n",
              "      <td>NaN</td>\n",
              "      <td>NaN</td>\n",
              "    </tr>\n",
              "    <tr>\n",
              "      <th>Subject 3</th>\n",
              "      <td>13.0</td>\n",
              "      <td>3.5</td>\n",
              "      <td>Rob</td>\n",
              "      <td>NaN</td>\n",
              "      <td>NaN</td>\n",
              "    </tr>\n",
              "    <tr>\n",
              "      <th>Subject 4</th>\n",
              "      <td>40.0</td>\n",
              "      <td>4.5</td>\n",
              "      <td>Depang</td>\n",
              "      <td>NaN</td>\n",
              "      <td>NaN</td>\n",
              "    </tr>\n",
              "    <tr>\n",
              "      <th>z</th>\n",
              "      <td>NaN</td>\n",
              "      <td>NaN</td>\n",
              "      <td>Henry</td>\n",
              "      <td>100.0</td>\n",
              "      <td>5.75</td>\n",
              "    </tr>\n",
              "  </tbody>\n",
              "</table>\n",
              "</div>"
            ],
            "text/plain": [
              "            Age    A   names  numbers  floats\n",
              "Subject 1  20.0  1.5    Lisa      NaN     NaN\n",
              "Subject 2  60.0  2.5    Bill      NaN     NaN\n",
              "Subject 3  13.0  3.5     Rob      NaN     NaN\n",
              "Subject 4  40.0  4.5  Depang      NaN     NaN\n",
              "z           NaN  NaN   Henry    100.0    5.75"
            ]
          },
          "metadata": {
            "tags": []
          },
          "execution_count": 17
        }
      ]
    },
    {
      "cell_type": "code",
      "metadata": {
        "id": "_aibCsicDNYl",
        "outputId": "2fdb1413-b508-4041-f843-c5f7bb17935d"
      },
      "source": [
        "df.join(pd.DataFrame([1, 4, 9, 16, 25],\n",
        "            index=['a', 'b', 'c', 'd', 'y'],\n",
        "            columns=['squares',]))"
      ],
      "execution_count": null,
      "outputs": [
        {
          "output_type": "execute_result",
          "data": {
            "text/html": [
              "<div>\n",
              "<style scoped>\n",
              "    .dataframe tbody tr th:only-of-type {\n",
              "        vertical-align: middle;\n",
              "    }\n",
              "\n",
              "    .dataframe tbody tr th {\n",
              "        vertical-align: top;\n",
              "    }\n",
              "\n",
              "    .dataframe thead th {\n",
              "        text-align: right;\n",
              "    }\n",
              "</style>\n",
              "<table border=\"1\" class=\"dataframe\">\n",
              "  <thead>\n",
              "    <tr style=\"text-align: right;\">\n",
              "      <th></th>\n",
              "      <th>Age</th>\n",
              "      <th>A</th>\n",
              "      <th>names</th>\n",
              "      <th>numbers</th>\n",
              "      <th>floats</th>\n",
              "      <th>squares</th>\n",
              "    </tr>\n",
              "  </thead>\n",
              "  <tbody>\n",
              "    <tr>\n",
              "      <th>Subject 1</th>\n",
              "      <td>20.0</td>\n",
              "      <td>1.5</td>\n",
              "      <td>Lisa</td>\n",
              "      <td>NaN</td>\n",
              "      <td>NaN</td>\n",
              "      <td>NaN</td>\n",
              "    </tr>\n",
              "    <tr>\n",
              "      <th>Subject 2</th>\n",
              "      <td>60.0</td>\n",
              "      <td>2.5</td>\n",
              "      <td>Bill</td>\n",
              "      <td>NaN</td>\n",
              "      <td>NaN</td>\n",
              "      <td>NaN</td>\n",
              "    </tr>\n",
              "    <tr>\n",
              "      <th>Subject 3</th>\n",
              "      <td>13.0</td>\n",
              "      <td>3.5</td>\n",
              "      <td>Rob</td>\n",
              "      <td>NaN</td>\n",
              "      <td>NaN</td>\n",
              "      <td>NaN</td>\n",
              "    </tr>\n",
              "    <tr>\n",
              "      <th>Subject 4</th>\n",
              "      <td>40.0</td>\n",
              "      <td>4.5</td>\n",
              "      <td>Depang</td>\n",
              "      <td>NaN</td>\n",
              "      <td>NaN</td>\n",
              "      <td>NaN</td>\n",
              "    </tr>\n",
              "    <tr>\n",
              "      <th>z</th>\n",
              "      <td>NaN</td>\n",
              "      <td>NaN</td>\n",
              "      <td>Henry</td>\n",
              "      <td>100.0</td>\n",
              "      <td>5.75</td>\n",
              "      <td>NaN</td>\n",
              "    </tr>\n",
              "  </tbody>\n",
              "</table>\n",
              "</div>"
            ],
            "text/plain": [
              "            Age    A   names  numbers  floats  squares\n",
              "Subject 1  20.0  1.5    Lisa      NaN     NaN      NaN\n",
              "Subject 2  60.0  2.5    Bill      NaN     NaN      NaN\n",
              "Subject 3  13.0  3.5     Rob      NaN     NaN      NaN\n",
              "Subject 4  40.0  4.5  Depang      NaN     NaN      NaN\n",
              "z           NaN  NaN   Henry    100.0    5.75      NaN"
            ]
          },
          "metadata": {
            "tags": []
          },
          "execution_count": 18
        }
      ]
    },
    {
      "cell_type": "markdown",
      "metadata": {
        "id": "xwqbF41MDNYl"
      },
      "source": [
        "## Load Data Using Pandas"
      ]
    },
    {
      "cell_type": "markdown",
      "metadata": {
        "id": "7k-IFrrwDNYl"
      },
      "source": [
        "We shall now turn to collecting and performing basic summary statisical information on some time series data. This is data that is commonly used in digital health, more time series data exist everywhere, for example, monthly heart rate data. Once we understood how to apply key statistical operations to the dataframe, we shall then briefly review more advanced time series functions."
      ]
    },
    {
      "cell_type": "markdown",
      "metadata": {
        "id": "wxRjvBGnDNYl"
      },
      "source": [
        "# Now we will switch to Power Point Presenation.\n",
        "Lets go to Colab"
      ]
    },
    {
      "cell_type": "markdown",
      "metadata": {
        "id": "wMGgropLDNYl"
      },
      "source": [
        "#At this stage it is expected that you can read files "
      ]
    },
    {
      "cell_type": "code",
      "metadata": {
        "id": "FI07S_brDNYl",
        "outputId": "fb69ad44-ca17-442e-fb4f-e1b3a243d02b"
      },
      "source": [
        "import pandas as pd\n",
        "df =pd.read_csv('07.csv')\n",
        "\n",
        "df.head()"
      ],
      "execution_count": null,
      "outputs": [
        {
          "output_type": "execute_result",
          "data": {
            "text/html": [
              "<div>\n",
              "<style scoped>\n",
              "    .dataframe tbody tr th:only-of-type {\n",
              "        vertical-align: middle;\n",
              "    }\n",
              "\n",
              "    .dataframe tbody tr th {\n",
              "        vertical-align: top;\n",
              "    }\n",
              "\n",
              "    .dataframe thead th {\n",
              "        text-align: right;\n",
              "    }\n",
              "</style>\n",
              "<table border=\"1\" class=\"dataframe\">\n",
              "  <thead>\n",
              "    <tr style=\"text-align: right;\">\n",
              "      <th></th>\n",
              "      <th>Elapsed time</th>\n",
              "      <th>ECG</th>\n",
              "      <th>EMG</th>\n",
              "      <th>foot GSR</th>\n",
              "      <th>hand GSr</th>\n",
              "      <th>HR</th>\n",
              "      <th>marker</th>\n",
              "      <th>RESP</th>\n",
              "    </tr>\n",
              "  </thead>\n",
              "  <tbody>\n",
              "    <tr>\n",
              "      <th>0</th>\n",
              "      <td>'0:00.000'</td>\n",
              "      <td>-0.044</td>\n",
              "      <td>0.036</td>\n",
              "      <td>8.763</td>\n",
              "      <td>5.675</td>\n",
              "      <td>88</td>\n",
              "      <td>10.85</td>\n",
              "      <td>43.54</td>\n",
              "    </tr>\n",
              "    <tr>\n",
              "      <th>1</th>\n",
              "      <td>'0:00.002'</td>\n",
              "      <td>-0.037</td>\n",
              "      <td>0.036</td>\n",
              "      <td>8.763</td>\n",
              "      <td>5.675</td>\n",
              "      <td>88</td>\n",
              "      <td>10.85</td>\n",
              "      <td>43.54</td>\n",
              "    </tr>\n",
              "    <tr>\n",
              "      <th>2</th>\n",
              "      <td>'0:00.004'</td>\n",
              "      <td>-0.031</td>\n",
              "      <td>0.036</td>\n",
              "      <td>8.763</td>\n",
              "      <td>5.675</td>\n",
              "      <td>88</td>\n",
              "      <td>10.85</td>\n",
              "      <td>43.54</td>\n",
              "    </tr>\n",
              "    <tr>\n",
              "      <th>3</th>\n",
              "      <td>'0:00.006'</td>\n",
              "      <td>-0.023</td>\n",
              "      <td>0.036</td>\n",
              "      <td>8.763</td>\n",
              "      <td>5.675</td>\n",
              "      <td>88</td>\n",
              "      <td>10.85</td>\n",
              "      <td>43.54</td>\n",
              "    </tr>\n",
              "    <tr>\n",
              "      <th>4</th>\n",
              "      <td>'0:00.008'</td>\n",
              "      <td>-0.018</td>\n",
              "      <td>0.036</td>\n",
              "      <td>8.763</td>\n",
              "      <td>5.675</td>\n",
              "      <td>88</td>\n",
              "      <td>10.85</td>\n",
              "      <td>43.54</td>\n",
              "    </tr>\n",
              "  </tbody>\n",
              "</table>\n",
              "</div>"
            ],
            "text/plain": [
              "  Elapsed time    ECG    EMG  foot GSR  hand GSr  HR  marker   RESP\n",
              "0   '0:00.000' -0.044  0.036     8.763     5.675  88   10.85  43.54\n",
              "1   '0:00.002' -0.037  0.036     8.763     5.675  88   10.85  43.54\n",
              "2   '0:00.004' -0.031  0.036     8.763     5.675  88   10.85  43.54\n",
              "3   '0:00.006' -0.023  0.036     8.763     5.675  88   10.85  43.54\n",
              "4   '0:00.008' -0.018  0.036     8.763     5.675  88   10.85  43.54"
            ]
          },
          "metadata": {
            "tags": []
          },
          "execution_count": 19
        }
      ]
    },
    {
      "cell_type": "code",
      "metadata": {
        "id": "m5bAWsWmDNYl",
        "outputId": "d0f3003a-1203-47e6-e85c-3fb84e7150ff"
      },
      "source": [
        "df.dropna()"
      ],
      "execution_count": null,
      "outputs": [
        {
          "output_type": "execute_result",
          "data": {
            "text/html": [
              "<div>\n",
              "<style scoped>\n",
              "    .dataframe tbody tr th:only-of-type {\n",
              "        vertical-align: middle;\n",
              "    }\n",
              "\n",
              "    .dataframe tbody tr th {\n",
              "        vertical-align: top;\n",
              "    }\n",
              "\n",
              "    .dataframe thead th {\n",
              "        text-align: right;\n",
              "    }\n",
              "</style>\n",
              "<table border=\"1\" class=\"dataframe\">\n",
              "  <thead>\n",
              "    <tr style=\"text-align: right;\">\n",
              "      <th></th>\n",
              "      <th>Elapsed time</th>\n",
              "      <th>ECG</th>\n",
              "      <th>EMG</th>\n",
              "      <th>foot GSR</th>\n",
              "      <th>hand GSr</th>\n",
              "      <th>HR</th>\n",
              "      <th>marker</th>\n",
              "      <th>RESP</th>\n",
              "    </tr>\n",
              "  </thead>\n",
              "  <tbody>\n",
              "    <tr>\n",
              "      <th>0</th>\n",
              "      <td>'0:00.000'</td>\n",
              "      <td>-0.044</td>\n",
              "      <td>0.036</td>\n",
              "      <td>8.763</td>\n",
              "      <td>5.675</td>\n",
              "      <td>88</td>\n",
              "      <td>10.85</td>\n",
              "      <td>43.54</td>\n",
              "    </tr>\n",
              "    <tr>\n",
              "      <th>1</th>\n",
              "      <td>'0:00.002'</td>\n",
              "      <td>-0.037</td>\n",
              "      <td>0.036</td>\n",
              "      <td>8.763</td>\n",
              "      <td>5.675</td>\n",
              "      <td>88</td>\n",
              "      <td>10.85</td>\n",
              "      <td>43.54</td>\n",
              "    </tr>\n",
              "    <tr>\n",
              "      <th>2</th>\n",
              "      <td>'0:00.004'</td>\n",
              "      <td>-0.031</td>\n",
              "      <td>0.036</td>\n",
              "      <td>8.763</td>\n",
              "      <td>5.675</td>\n",
              "      <td>88</td>\n",
              "      <td>10.85</td>\n",
              "      <td>43.54</td>\n",
              "    </tr>\n",
              "    <tr>\n",
              "      <th>3</th>\n",
              "      <td>'0:00.006'</td>\n",
              "      <td>-0.023</td>\n",
              "      <td>0.036</td>\n",
              "      <td>8.763</td>\n",
              "      <td>5.675</td>\n",
              "      <td>88</td>\n",
              "      <td>10.85</td>\n",
              "      <td>43.54</td>\n",
              "    </tr>\n",
              "    <tr>\n",
              "      <th>4</th>\n",
              "      <td>'0:00.008'</td>\n",
              "      <td>-0.018</td>\n",
              "      <td>0.036</td>\n",
              "      <td>8.763</td>\n",
              "      <td>5.675</td>\n",
              "      <td>88</td>\n",
              "      <td>10.85</td>\n",
              "      <td>43.54</td>\n",
              "    </tr>\n",
              "    <tr>\n",
              "      <th>...</th>\n",
              "      <td>...</td>\n",
              "      <td>...</td>\n",
              "      <td>...</td>\n",
              "      <td>...</td>\n",
              "      <td>...</td>\n",
              "      <td>...</td>\n",
              "      <td>...</td>\n",
              "      <td>...</td>\n",
              "    </tr>\n",
              "    <tr>\n",
              "      <th>1048569</th>\n",
              "      <td>'35:14.050'</td>\n",
              "      <td>-0.037</td>\n",
              "      <td>0.233</td>\n",
              "      <td>12.609</td>\n",
              "      <td>6.881</td>\n",
              "      <td>71</td>\n",
              "      <td>11.22</td>\n",
              "      <td>35.12</td>\n",
              "    </tr>\n",
              "    <tr>\n",
              "      <th>1048570</th>\n",
              "      <td>'35:14.052'</td>\n",
              "      <td>-0.001</td>\n",
              "      <td>0.233</td>\n",
              "      <td>12.609</td>\n",
              "      <td>6.881</td>\n",
              "      <td>71</td>\n",
              "      <td>11.22</td>\n",
              "      <td>35.12</td>\n",
              "    </tr>\n",
              "    <tr>\n",
              "      <th>1048571</th>\n",
              "      <td>'35:14.054'</td>\n",
              "      <td>0.022</td>\n",
              "      <td>0.233</td>\n",
              "      <td>12.609</td>\n",
              "      <td>6.881</td>\n",
              "      <td>71</td>\n",
              "      <td>11.22</td>\n",
              "      <td>35.12</td>\n",
              "    </tr>\n",
              "    <tr>\n",
              "      <th>1048572</th>\n",
              "      <td>'35:14.056'</td>\n",
              "      <td>0.011</td>\n",
              "      <td>0.233</td>\n",
              "      <td>12.609</td>\n",
              "      <td>6.881</td>\n",
              "      <td>71</td>\n",
              "      <td>11.22</td>\n",
              "      <td>35.12</td>\n",
              "    </tr>\n",
              "    <tr>\n",
              "      <th>1048573</th>\n",
              "      <td>'35:14.058'</td>\n",
              "      <td>-0.016</td>\n",
              "      <td>0.233</td>\n",
              "      <td>12.609</td>\n",
              "      <td>6.881</td>\n",
              "      <td>71</td>\n",
              "      <td>11.22</td>\n",
              "      <td>35.12</td>\n",
              "    </tr>\n",
              "  </tbody>\n",
              "</table>\n",
              "<p>1048574 rows × 8 columns</p>\n",
              "</div>"
            ],
            "text/plain": [
              "        Elapsed time    ECG    EMG  foot GSR  hand GSr  HR  marker   RESP\n",
              "0         '0:00.000' -0.044  0.036     8.763     5.675  88   10.85  43.54\n",
              "1         '0:00.002' -0.037  0.036     8.763     5.675  88   10.85  43.54\n",
              "2         '0:00.004' -0.031  0.036     8.763     5.675  88   10.85  43.54\n",
              "3         '0:00.006' -0.023  0.036     8.763     5.675  88   10.85  43.54\n",
              "4         '0:00.008' -0.018  0.036     8.763     5.675  88   10.85  43.54\n",
              "...              ...    ...    ...       ...       ...  ..     ...    ...\n",
              "1048569  '35:14.050' -0.037  0.233    12.609     6.881  71   11.22  35.12\n",
              "1048570  '35:14.052' -0.001  0.233    12.609     6.881  71   11.22  35.12\n",
              "1048571  '35:14.054'  0.022  0.233    12.609     6.881  71   11.22  35.12\n",
              "1048572  '35:14.056'  0.011  0.233    12.609     6.881  71   11.22  35.12\n",
              "1048573  '35:14.058' -0.016  0.233    12.609     6.881  71   11.22  35.12\n",
              "\n",
              "[1048574 rows x 8 columns]"
            ]
          },
          "metadata": {
            "tags": []
          },
          "execution_count": 20
        }
      ]
    },
    {
      "cell_type": "code",
      "metadata": {
        "id": "2B5SgOPcDNYl"
      },
      "source": [
        "df2=df.replace({'\\'': ''}, regex=True)"
      ],
      "execution_count": null,
      "outputs": []
    },
    {
      "cell_type": "code",
      "metadata": {
        "scrolled": true,
        "id": "_JaF4W0nDNYl",
        "outputId": "d5cfd7af-5ea8-4be3-a529-0e7098582907"
      },
      "source": [
        "df2"
      ],
      "execution_count": null,
      "outputs": [
        {
          "output_type": "execute_result",
          "data": {
            "text/html": [
              "<div>\n",
              "<style scoped>\n",
              "    .dataframe tbody tr th:only-of-type {\n",
              "        vertical-align: middle;\n",
              "    }\n",
              "\n",
              "    .dataframe tbody tr th {\n",
              "        vertical-align: top;\n",
              "    }\n",
              "\n",
              "    .dataframe thead th {\n",
              "        text-align: right;\n",
              "    }\n",
              "</style>\n",
              "<table border=\"1\" class=\"dataframe\">\n",
              "  <thead>\n",
              "    <tr style=\"text-align: right;\">\n",
              "      <th></th>\n",
              "      <th>Elapsed time</th>\n",
              "      <th>ECG</th>\n",
              "      <th>EMG</th>\n",
              "      <th>foot GSR</th>\n",
              "      <th>hand GSr</th>\n",
              "      <th>HR</th>\n",
              "      <th>marker</th>\n",
              "      <th>RESP</th>\n",
              "    </tr>\n",
              "  </thead>\n",
              "  <tbody>\n",
              "    <tr>\n",
              "      <th>0</th>\n",
              "      <td>0:00.000</td>\n",
              "      <td>-0.044</td>\n",
              "      <td>0.036</td>\n",
              "      <td>8.763</td>\n",
              "      <td>5.675</td>\n",
              "      <td>88</td>\n",
              "      <td>10.85</td>\n",
              "      <td>43.54</td>\n",
              "    </tr>\n",
              "    <tr>\n",
              "      <th>1</th>\n",
              "      <td>0:00.002</td>\n",
              "      <td>-0.037</td>\n",
              "      <td>0.036</td>\n",
              "      <td>8.763</td>\n",
              "      <td>5.675</td>\n",
              "      <td>88</td>\n",
              "      <td>10.85</td>\n",
              "      <td>43.54</td>\n",
              "    </tr>\n",
              "    <tr>\n",
              "      <th>2</th>\n",
              "      <td>0:00.004</td>\n",
              "      <td>-0.031</td>\n",
              "      <td>0.036</td>\n",
              "      <td>8.763</td>\n",
              "      <td>5.675</td>\n",
              "      <td>88</td>\n",
              "      <td>10.85</td>\n",
              "      <td>43.54</td>\n",
              "    </tr>\n",
              "    <tr>\n",
              "      <th>3</th>\n",
              "      <td>0:00.006</td>\n",
              "      <td>-0.023</td>\n",
              "      <td>0.036</td>\n",
              "      <td>8.763</td>\n",
              "      <td>5.675</td>\n",
              "      <td>88</td>\n",
              "      <td>10.85</td>\n",
              "      <td>43.54</td>\n",
              "    </tr>\n",
              "    <tr>\n",
              "      <th>4</th>\n",
              "      <td>0:00.008</td>\n",
              "      <td>-0.018</td>\n",
              "      <td>0.036</td>\n",
              "      <td>8.763</td>\n",
              "      <td>5.675</td>\n",
              "      <td>88</td>\n",
              "      <td>10.85</td>\n",
              "      <td>43.54</td>\n",
              "    </tr>\n",
              "    <tr>\n",
              "      <th>...</th>\n",
              "      <td>...</td>\n",
              "      <td>...</td>\n",
              "      <td>...</td>\n",
              "      <td>...</td>\n",
              "      <td>...</td>\n",
              "      <td>...</td>\n",
              "      <td>...</td>\n",
              "      <td>...</td>\n",
              "    </tr>\n",
              "    <tr>\n",
              "      <th>1048569</th>\n",
              "      <td>35:14.050</td>\n",
              "      <td>-0.037</td>\n",
              "      <td>0.233</td>\n",
              "      <td>12.609</td>\n",
              "      <td>6.881</td>\n",
              "      <td>71</td>\n",
              "      <td>11.22</td>\n",
              "      <td>35.12</td>\n",
              "    </tr>\n",
              "    <tr>\n",
              "      <th>1048570</th>\n",
              "      <td>35:14.052</td>\n",
              "      <td>-0.001</td>\n",
              "      <td>0.233</td>\n",
              "      <td>12.609</td>\n",
              "      <td>6.881</td>\n",
              "      <td>71</td>\n",
              "      <td>11.22</td>\n",
              "      <td>35.12</td>\n",
              "    </tr>\n",
              "    <tr>\n",
              "      <th>1048571</th>\n",
              "      <td>35:14.054</td>\n",
              "      <td>0.022</td>\n",
              "      <td>0.233</td>\n",
              "      <td>12.609</td>\n",
              "      <td>6.881</td>\n",
              "      <td>71</td>\n",
              "      <td>11.22</td>\n",
              "      <td>35.12</td>\n",
              "    </tr>\n",
              "    <tr>\n",
              "      <th>1048572</th>\n",
              "      <td>35:14.056</td>\n",
              "      <td>0.011</td>\n",
              "      <td>0.233</td>\n",
              "      <td>12.609</td>\n",
              "      <td>6.881</td>\n",
              "      <td>71</td>\n",
              "      <td>11.22</td>\n",
              "      <td>35.12</td>\n",
              "    </tr>\n",
              "    <tr>\n",
              "      <th>1048573</th>\n",
              "      <td>35:14.058</td>\n",
              "      <td>-0.016</td>\n",
              "      <td>0.233</td>\n",
              "      <td>12.609</td>\n",
              "      <td>6.881</td>\n",
              "      <td>71</td>\n",
              "      <td>11.22</td>\n",
              "      <td>35.12</td>\n",
              "    </tr>\n",
              "  </tbody>\n",
              "</table>\n",
              "<p>1048574 rows × 8 columns</p>\n",
              "</div>"
            ],
            "text/plain": [
              "        Elapsed time    ECG    EMG  foot GSR  hand GSr  HR  marker   RESP\n",
              "0           0:00.000 -0.044  0.036     8.763     5.675  88   10.85  43.54\n",
              "1           0:00.002 -0.037  0.036     8.763     5.675  88   10.85  43.54\n",
              "2           0:00.004 -0.031  0.036     8.763     5.675  88   10.85  43.54\n",
              "3           0:00.006 -0.023  0.036     8.763     5.675  88   10.85  43.54\n",
              "4           0:00.008 -0.018  0.036     8.763     5.675  88   10.85  43.54\n",
              "...              ...    ...    ...       ...       ...  ..     ...    ...\n",
              "1048569    35:14.050 -0.037  0.233    12.609     6.881  71   11.22  35.12\n",
              "1048570    35:14.052 -0.001  0.233    12.609     6.881  71   11.22  35.12\n",
              "1048571    35:14.054  0.022  0.233    12.609     6.881  71   11.22  35.12\n",
              "1048572    35:14.056  0.011  0.233    12.609     6.881  71   11.22  35.12\n",
              "1048573    35:14.058 -0.016  0.233    12.609     6.881  71   11.22  35.12\n",
              "\n",
              "[1048574 rows x 8 columns]"
            ]
          },
          "metadata": {
            "tags": []
          },
          "execution_count": 22
        }
      ]
    },
    {
      "cell_type": "code",
      "metadata": {
        "id": "ZmUhHwAMDNYl",
        "outputId": "81c7ad81-ccc5-4c3c-dc14-12df313c4e88"
      },
      "source": [
        "df2.set_index('Elapsed time')"
      ],
      "execution_count": null,
      "outputs": [
        {
          "output_type": "execute_result",
          "data": {
            "text/html": [
              "<div>\n",
              "<style scoped>\n",
              "    .dataframe tbody tr th:only-of-type {\n",
              "        vertical-align: middle;\n",
              "    }\n",
              "\n",
              "    .dataframe tbody tr th {\n",
              "        vertical-align: top;\n",
              "    }\n",
              "\n",
              "    .dataframe thead th {\n",
              "        text-align: right;\n",
              "    }\n",
              "</style>\n",
              "<table border=\"1\" class=\"dataframe\">\n",
              "  <thead>\n",
              "    <tr style=\"text-align: right;\">\n",
              "      <th></th>\n",
              "      <th>ECG</th>\n",
              "      <th>EMG</th>\n",
              "      <th>foot GSR</th>\n",
              "      <th>hand GSr</th>\n",
              "      <th>HR</th>\n",
              "      <th>marker</th>\n",
              "      <th>RESP</th>\n",
              "    </tr>\n",
              "    <tr>\n",
              "      <th>Elapsed time</th>\n",
              "      <th></th>\n",
              "      <th></th>\n",
              "      <th></th>\n",
              "      <th></th>\n",
              "      <th></th>\n",
              "      <th></th>\n",
              "      <th></th>\n",
              "    </tr>\n",
              "  </thead>\n",
              "  <tbody>\n",
              "    <tr>\n",
              "      <th>0:00.000</th>\n",
              "      <td>-0.044</td>\n",
              "      <td>0.036</td>\n",
              "      <td>8.763</td>\n",
              "      <td>5.675</td>\n",
              "      <td>88</td>\n",
              "      <td>10.85</td>\n",
              "      <td>43.54</td>\n",
              "    </tr>\n",
              "    <tr>\n",
              "      <th>0:00.002</th>\n",
              "      <td>-0.037</td>\n",
              "      <td>0.036</td>\n",
              "      <td>8.763</td>\n",
              "      <td>5.675</td>\n",
              "      <td>88</td>\n",
              "      <td>10.85</td>\n",
              "      <td>43.54</td>\n",
              "    </tr>\n",
              "    <tr>\n",
              "      <th>0:00.004</th>\n",
              "      <td>-0.031</td>\n",
              "      <td>0.036</td>\n",
              "      <td>8.763</td>\n",
              "      <td>5.675</td>\n",
              "      <td>88</td>\n",
              "      <td>10.85</td>\n",
              "      <td>43.54</td>\n",
              "    </tr>\n",
              "    <tr>\n",
              "      <th>0:00.006</th>\n",
              "      <td>-0.023</td>\n",
              "      <td>0.036</td>\n",
              "      <td>8.763</td>\n",
              "      <td>5.675</td>\n",
              "      <td>88</td>\n",
              "      <td>10.85</td>\n",
              "      <td>43.54</td>\n",
              "    </tr>\n",
              "    <tr>\n",
              "      <th>0:00.008</th>\n",
              "      <td>-0.018</td>\n",
              "      <td>0.036</td>\n",
              "      <td>8.763</td>\n",
              "      <td>5.675</td>\n",
              "      <td>88</td>\n",
              "      <td>10.85</td>\n",
              "      <td>43.54</td>\n",
              "    </tr>\n",
              "    <tr>\n",
              "      <th>...</th>\n",
              "      <td>...</td>\n",
              "      <td>...</td>\n",
              "      <td>...</td>\n",
              "      <td>...</td>\n",
              "      <td>...</td>\n",
              "      <td>...</td>\n",
              "      <td>...</td>\n",
              "    </tr>\n",
              "    <tr>\n",
              "      <th>35:14.050</th>\n",
              "      <td>-0.037</td>\n",
              "      <td>0.233</td>\n",
              "      <td>12.609</td>\n",
              "      <td>6.881</td>\n",
              "      <td>71</td>\n",
              "      <td>11.22</td>\n",
              "      <td>35.12</td>\n",
              "    </tr>\n",
              "    <tr>\n",
              "      <th>35:14.052</th>\n",
              "      <td>-0.001</td>\n",
              "      <td>0.233</td>\n",
              "      <td>12.609</td>\n",
              "      <td>6.881</td>\n",
              "      <td>71</td>\n",
              "      <td>11.22</td>\n",
              "      <td>35.12</td>\n",
              "    </tr>\n",
              "    <tr>\n",
              "      <th>35:14.054</th>\n",
              "      <td>0.022</td>\n",
              "      <td>0.233</td>\n",
              "      <td>12.609</td>\n",
              "      <td>6.881</td>\n",
              "      <td>71</td>\n",
              "      <td>11.22</td>\n",
              "      <td>35.12</td>\n",
              "    </tr>\n",
              "    <tr>\n",
              "      <th>35:14.056</th>\n",
              "      <td>0.011</td>\n",
              "      <td>0.233</td>\n",
              "      <td>12.609</td>\n",
              "      <td>6.881</td>\n",
              "      <td>71</td>\n",
              "      <td>11.22</td>\n",
              "      <td>35.12</td>\n",
              "    </tr>\n",
              "    <tr>\n",
              "      <th>35:14.058</th>\n",
              "      <td>-0.016</td>\n",
              "      <td>0.233</td>\n",
              "      <td>12.609</td>\n",
              "      <td>6.881</td>\n",
              "      <td>71</td>\n",
              "      <td>11.22</td>\n",
              "      <td>35.12</td>\n",
              "    </tr>\n",
              "  </tbody>\n",
              "</table>\n",
              "<p>1048574 rows × 7 columns</p>\n",
              "</div>"
            ],
            "text/plain": [
              "                ECG    EMG  foot GSR  hand GSr  HR  marker   RESP\n",
              "Elapsed time                                                     \n",
              "0:00.000     -0.044  0.036     8.763     5.675  88   10.85  43.54\n",
              "0:00.002     -0.037  0.036     8.763     5.675  88   10.85  43.54\n",
              "0:00.004     -0.031  0.036     8.763     5.675  88   10.85  43.54\n",
              "0:00.006     -0.023  0.036     8.763     5.675  88   10.85  43.54\n",
              "0:00.008     -0.018  0.036     8.763     5.675  88   10.85  43.54\n",
              "...             ...    ...       ...       ...  ..     ...    ...\n",
              "35:14.050    -0.037  0.233    12.609     6.881  71   11.22  35.12\n",
              "35:14.052    -0.001  0.233    12.609     6.881  71   11.22  35.12\n",
              "35:14.054     0.022  0.233    12.609     6.881  71   11.22  35.12\n",
              "35:14.056     0.011  0.233    12.609     6.881  71   11.22  35.12\n",
              "35:14.058    -0.016  0.233    12.609     6.881  71   11.22  35.12\n",
              "\n",
              "[1048574 rows x 7 columns]"
            ]
          },
          "metadata": {
            "tags": []
          },
          "execution_count": 23
        }
      ]
    },
    {
      "cell_type": "code",
      "metadata": {
        "id": "H9uN9sgfDNYm",
        "outputId": "539a3a59-d2c2-45bb-e21f-bb6831858db2"
      },
      "source": [
        "df2.describe()"
      ],
      "execution_count": null,
      "outputs": [
        {
          "output_type": "execute_result",
          "data": {
            "text/html": [
              "<div>\n",
              "<style scoped>\n",
              "    .dataframe tbody tr th:only-of-type {\n",
              "        vertical-align: middle;\n",
              "    }\n",
              "\n",
              "    .dataframe tbody tr th {\n",
              "        vertical-align: top;\n",
              "    }\n",
              "\n",
              "    .dataframe thead th {\n",
              "        text-align: right;\n",
              "    }\n",
              "</style>\n",
              "<table border=\"1\" class=\"dataframe\">\n",
              "  <thead>\n",
              "    <tr style=\"text-align: right;\">\n",
              "      <th></th>\n",
              "      <th>ECG</th>\n",
              "      <th>EMG</th>\n",
              "      <th>foot GSR</th>\n",
              "      <th>hand GSr</th>\n",
              "      <th>HR</th>\n",
              "      <th>marker</th>\n",
              "      <th>RESP</th>\n",
              "    </tr>\n",
              "  </thead>\n",
              "  <tbody>\n",
              "    <tr>\n",
              "      <th>count</th>\n",
              "      <td>1.048574e+06</td>\n",
              "      <td>1.048574e+06</td>\n",
              "      <td>1.048574e+06</td>\n",
              "      <td>1.048574e+06</td>\n",
              "      <td>1.048574e+06</td>\n",
              "      <td>1.048574e+06</td>\n",
              "      <td>1.048574e+06</td>\n",
              "    </tr>\n",
              "    <tr>\n",
              "      <th>mean</th>\n",
              "      <td>-3.469524e-03</td>\n",
              "      <td>1.491908e-01</td>\n",
              "      <td>9.141651e+00</td>\n",
              "      <td>6.170585e+00</td>\n",
              "      <td>7.593876e+01</td>\n",
              "      <td>1.177907e+01</td>\n",
              "      <td>3.841916e+01</td>\n",
              "    </tr>\n",
              "    <tr>\n",
              "      <th>std</th>\n",
              "      <td>2.150053e-01</td>\n",
              "      <td>3.429084e-01</td>\n",
              "      <td>3.107835e+00</td>\n",
              "      <td>2.147025e+00</td>\n",
              "      <td>8.188724e+00</td>\n",
              "      <td>2.236462e+00</td>\n",
              "      <td>3.303137e+00</td>\n",
              "    </tr>\n",
              "    <tr>\n",
              "      <th>min</th>\n",
              "      <td>-4.142000e+00</td>\n",
              "      <td>-8.154000e+00</td>\n",
              "      <td>4.375000e+00</td>\n",
              "      <td>0.000000e+00</td>\n",
              "      <td>4.300000e+01</td>\n",
              "      <td>0.000000e+00</td>\n",
              "      <td>2.909000e+01</td>\n",
              "    </tr>\n",
              "    <tr>\n",
              "      <th>25%</th>\n",
              "      <td>-8.700000e-02</td>\n",
              "      <td>4.600000e-02</td>\n",
              "      <td>5.961000e+00</td>\n",
              "      <td>4.331000e+00</td>\n",
              "      <td>7.000000e+01</td>\n",
              "      <td>1.026000e+01</td>\n",
              "      <td>3.553000e+01</td>\n",
              "    </tr>\n",
              "    <tr>\n",
              "      <th>50%</th>\n",
              "      <td>-4.900000e-02</td>\n",
              "      <td>6.200000e-02</td>\n",
              "      <td>9.829000e+00</td>\n",
              "      <td>6.292000e+00</td>\n",
              "      <td>7.500000e+01</td>\n",
              "      <td>1.124000e+01</td>\n",
              "      <td>3.937000e+01</td>\n",
              "    </tr>\n",
              "    <tr>\n",
              "      <th>75%</th>\n",
              "      <td>2.900000e-02</td>\n",
              "      <td>1.190000e-01</td>\n",
              "      <td>1.187000e+01</td>\n",
              "      <td>7.766000e+00</td>\n",
              "      <td>8.200000e+01</td>\n",
              "      <td>1.300000e+01</td>\n",
              "      <td>4.089000e+01</td>\n",
              "    </tr>\n",
              "    <tr>\n",
              "      <th>max</th>\n",
              "      <td>2.351000e+00</td>\n",
              "      <td>8.121000e+00</td>\n",
              "      <td>1.567100e+01</td>\n",
              "      <td>1.385700e+01</td>\n",
              "      <td>1.070000e+02</td>\n",
              "      <td>8.777000e+01</td>\n",
              "      <td>5.794000e+01</td>\n",
              "    </tr>\n",
              "  </tbody>\n",
              "</table>\n",
              "</div>"
            ],
            "text/plain": [
              "                ECG           EMG      foot GSR      hand GSr            HR  \\\n",
              "count  1.048574e+06  1.048574e+06  1.048574e+06  1.048574e+06  1.048574e+06   \n",
              "mean  -3.469524e-03  1.491908e-01  9.141651e+00  6.170585e+00  7.593876e+01   \n",
              "std    2.150053e-01  3.429084e-01  3.107835e+00  2.147025e+00  8.188724e+00   \n",
              "min   -4.142000e+00 -8.154000e+00  4.375000e+00  0.000000e+00  4.300000e+01   \n",
              "25%   -8.700000e-02  4.600000e-02  5.961000e+00  4.331000e+00  7.000000e+01   \n",
              "50%   -4.900000e-02  6.200000e-02  9.829000e+00  6.292000e+00  7.500000e+01   \n",
              "75%    2.900000e-02  1.190000e-01  1.187000e+01  7.766000e+00  8.200000e+01   \n",
              "max    2.351000e+00  8.121000e+00  1.567100e+01  1.385700e+01  1.070000e+02   \n",
              "\n",
              "             marker          RESP  \n",
              "count  1.048574e+06  1.048574e+06  \n",
              "mean   1.177907e+01  3.841916e+01  \n",
              "std    2.236462e+00  3.303137e+00  \n",
              "min    0.000000e+00  2.909000e+01  \n",
              "25%    1.026000e+01  3.553000e+01  \n",
              "50%    1.124000e+01  3.937000e+01  \n",
              "75%    1.300000e+01  4.089000e+01  \n",
              "max    8.777000e+01  5.794000e+01  "
            ]
          },
          "metadata": {
            "tags": []
          },
          "execution_count": 24
        }
      ]
    },
    {
      "cell_type": "markdown",
      "metadata": {
        "id": "qFWG7IO7DNYm"
      },
      "source": [
        "## Plotting DataFrames\n",
        "In the following example, we shall demonstrate how to plot the columns of the dataframe against the time index using the matplotlib module. "
      ]
    },
    {
      "cell_type": "code",
      "metadata": {
        "id": "jYVutnnxDNYm",
        "outputId": "e00e6e86-13ef-4365-e8c8-bcdcf1b1c641"
      },
      "source": [
        "%matplotlib inline  \n",
        "%pylab inline\n",
        "import matplotlib.pyplot as plt\n",
        "df2.plot(lw=2., grid=True)\n",
        "plt.xlabel('Elapsed time')\n",
        "plt.ylabel('All signals')\n",
        "plt.savefig('output.png')"
      ],
      "execution_count": null,
      "outputs": [
        {
          "output_type": "stream",
          "text": [
            "Populating the interactive namespace from numpy and matplotlib\n"
          ],
          "name": "stdout"
        },
        {
          "output_type": "display_data",
          "data": {
            "image/png": "[encoded data removed]",
            "text/plain": [
              "<Figure size 432x288 with 1 Axes>"
            ]
          },
          "metadata": {
            "tags": []
          }
        }
      ]
    },
    {
      "cell_type": "markdown",
      "metadata": {
        "id": "dKtTtOG1DNYm"
      },
      "source": [
        "We observe that the different instruments, i.e. the columns, are scaled differently. It is therefore convenient to normalize the data by calculating the returns. We shall first perform a quick visual check that the normalized data looks 'reasonable'. We use the tail() member function of the dataframe to view the 5 most recent observations of the data. "
      ]
    },
    {
      "cell_type": "code",
      "metadata": {
        "id": "Wbd2Oaw_DNYm",
        "outputId": "9d51c989-178f-45a6-e943-e78b84972599"
      },
      "source": [
        "Cols=df2.columns.values.tolist()[1:]\n",
        "Cols"
      ],
      "execution_count": null,
      "outputs": [
        {
          "output_type": "execute_result",
          "data": {
            "text/plain": [
              "['ECG', 'EMG', 'foot GSR', 'hand GSr', 'HR', 'marker', 'RESP']"
            ]
          },
          "metadata": {
            "tags": []
          },
          "execution_count": 26
        }
      ]
    },
    {
      "cell_type": "markdown",
      "metadata": {
        "id": "OaifI5pbDNYm"
      },
      "source": [
        "We measure the correlation between time series. Here we shall explore VIX returns and its relation to single named equity returns in order to observe the \"leverage effect\". We shall print the pair-wise correlations in addition to producing scatter plots of the equity returns against the VIX returns."
      ]
    },
    {
      "cell_type": "code",
      "metadata": {
        "id": "WpQOTighDNYm",
        "outputId": "f1fb6f7b-4e95-43ed-c7e9-cbb3014ef8a5"
      },
      "source": [
        "df2[['ECG','HR']].corr()"
      ],
      "execution_count": null,
      "outputs": [
        {
          "output_type": "execute_result",
          "data": {
            "text/html": [
              "<div>\n",
              "<style scoped>\n",
              "    .dataframe tbody tr th:only-of-type {\n",
              "        vertical-align: middle;\n",
              "    }\n",
              "\n",
              "    .dataframe tbody tr th {\n",
              "        vertical-align: top;\n",
              "    }\n",
              "\n",
              "    .dataframe thead th {\n",
              "        text-align: right;\n",
              "    }\n",
              "</style>\n",
              "<table border=\"1\" class=\"dataframe\">\n",
              "  <thead>\n",
              "    <tr style=\"text-align: right;\">\n",
              "      <th></th>\n",
              "      <th>ECG</th>\n",
              "      <th>HR</th>\n",
              "    </tr>\n",
              "  </thead>\n",
              "  <tbody>\n",
              "    <tr>\n",
              "      <th>ECG</th>\n",
              "      <td>1.00000</td>\n",
              "      <td>-0.00469</td>\n",
              "    </tr>\n",
              "    <tr>\n",
              "      <th>HR</th>\n",
              "      <td>-0.00469</td>\n",
              "      <td>1.00000</td>\n",
              "    </tr>\n",
              "  </tbody>\n",
              "</table>\n",
              "</div>"
            ],
            "text/plain": [
              "         ECG       HR\n",
              "ECG  1.00000 -0.00469\n",
              "HR  -0.00469  1.00000"
            ]
          },
          "metadata": {
            "tags": []
          },
          "execution_count": 27
        }
      ]
    },
    {
      "cell_type": "markdown",
      "metadata": {
        "id": "pHc9RkFVDNYm"
      },
      "source": [
        "# Exercise #2: Calcualte the correlation matrix for all attributes.\n",
        "Hint: add attributes"
      ]
    },
    {
      "cell_type": "code",
      "metadata": {
        "id": "OXg0MuhNDNYm",
        "outputId": "8cb43360-2d0b-46fb-a72f-dac5fc636fd3"
      },
      "source": [
        "for symbol in Cols:\n",
        "  xdat = df2[symbol]\n",
        "  ydat = df2['HR']\n",
        "  plt.plot(xdat, ydat, 'b.')\n",
        "  ax = plt.axis()  # grab axis values\n",
        "  plt.grid(True)\n",
        "  plt.xlabel(symbol)\n",
        "  plt.ylabel('HR')\n",
        "  plt.show()"
      ],
      "execution_count": null,
      "outputs": [
        {
          "output_type": "display_data",
          "data": {
            "image/png": "[encoded data removed]",
            "text/plain": [
              "<Figure size 432x288 with 1 Axes>"
            ]
          },
          "metadata": {
            "tags": []
          }
        },
        {
          "output_type": "display_data",
          "data": {
            "image/png": "[encoded data removed]",
            "text/plain": [
              "<Figure size 432x288 with 1 Axes>"
            ]
          },
          "metadata": {
            "tags": []
          }
        },
        {
          "output_type": "display_data",
          "data": {
            "image/png": "[encoded data removed]",
            "text/plain": [
              "<Figure size 432x288 with 1 Axes>"
            ]
          },
          "metadata": {
            "tags": []
          }
        },
        {
          "output_type": "display_data",
          "data": {
            "image/png": "[encoded data removed]",
            "text/plain": [
              "<Figure size 432x288 with 1 Axes>"
            ]
          },
          "metadata": {
            "tags": []
          }
        },
        {
          "output_type": "display_data",
          "data": {
            "image/png": "[encoded data removed]",
            "text/plain": [
              "<Figure size 432x288 with 1 Axes>"
            ]
          },
          "metadata": {
            "tags": []
          }
        },
        {
          "output_type": "display_data",
          "data": {
            "image/png": "[encoded data removed]",
            "text/plain": [
              "<Figure size 432x288 with 1 Axes>"
            ]
          },
          "metadata": {
            "tags": []
          }
        },
        {
          "output_type": "display_data",
          "data": {
            "image/png": "[encoded data removed]",
            "text/plain": [
              "<Figure size 432x288 with 1 Axes>"
            ]
          },
          "metadata": {
            "tags": []
          }
        }
      ]
    },
    {
      "cell_type": "code",
      "metadata": {
        "id": "AyczWW3cDNYm"
      },
      "source": [
        ""
      ],
      "execution_count": null,
      "outputs": []
    },
    {
      "cell_type": "markdown",
      "metadata": {
        "id": "LDO1qUveDNYm"
      },
      "source": [
        "# Excercise #3: Plot the two attributes that are highly correlated.\n",
        "Hint: check the correlation matrix"
      ]
    },
    {
      "cell_type": "code",
      "metadata": {
        "id": "DJ7-mrcnDNYm",
        "outputId": "d788b5ba-1730-4a6e-d9a4-1996c652054d"
      },
      "source": [
        "df2['ECG'].diff() # easy way to calculate log differences"
      ],
      "execution_count": null,
      "outputs": [
        {
          "output_type": "execute_result",
          "data": {
            "text/plain": [
              "0            NaN\n",
              "1          0.007\n",
              "2          0.006\n",
              "3          0.008\n",
              "4          0.005\n",
              "           ...  \n",
              "1048569    0.025\n",
              "1048570    0.036\n",
              "1048571    0.023\n",
              "1048572   -0.011\n",
              "1048573   -0.027\n",
              "Name: ECG, Length: 1048574, dtype: float64"
            ]
          },
          "metadata": {
            "tags": []
          },
          "execution_count": 29
        }
      ]
    },
    {
      "cell_type": "code",
      "metadata": {
        "id": "zCrkILWBDNYm",
        "outputId": "161041f4-5c47-46c7-bb4f-8e992c87b62b"
      },
      "source": [
        "df2['ECG'].diff().dropna() # can also drop NaN values"
      ],
      "execution_count": null,
      "outputs": [
        {
          "output_type": "execute_result",
          "data": {
            "text/plain": [
              "1          0.007\n",
              "2          0.006\n",
              "3          0.008\n",
              "4          0.005\n",
              "5          0.001\n",
              "           ...  \n",
              "1048569    0.025\n",
              "1048570    0.036\n",
              "1048571    0.023\n",
              "1048572   -0.011\n",
              "1048573   -0.027\n",
              "Name: ECG, Length: 1048573, dtype: float64"
            ]
          },
          "metadata": {
            "tags": []
          },
          "execution_count": 30
        }
      ]
    },
    {
      "cell_type": "code",
      "metadata": {
        "id": "FR_piOCCDNYm",
        "outputId": "4b47d2dc-b68e-4b46-db37-87bec5468e24"
      },
      "source": [
        "#We can create bolean vectors \n",
        "df2['ECG'].diff().head(10) > 0.006"
      ],
      "execution_count": null,
      "outputs": [
        {
          "output_type": "execute_result",
          "data": {
            "text/plain": [
              "0    False\n",
              "1     True\n",
              "2     True\n",
              "3     True\n",
              "4    False\n",
              "5    False\n",
              "6    False\n",
              "7    False\n",
              "8    False\n",
              "9    False\n",
              "Name: ECG, dtype: bool"
            ]
          },
          "metadata": {
            "tags": []
          },
          "execution_count": 31
        }
      ]
    },
    {
      "cell_type": "code",
      "metadata": {
        "id": "ppcrYNtHDNYm",
        "outputId": "11b80204-d37b-46a4-c389-252ea9e88709"
      },
      "source": [
        "#and we can use the vectors to chose the elements in the dataframe\n",
        "df2[df2['ECG'] > 0.03].head()"
      ],
      "execution_count": null,
      "outputs": [
        {
          "output_type": "execute_result",
          "data": {
            "text/html": [
              "<div>\n",
              "<style scoped>\n",
              "    .dataframe tbody tr th:only-of-type {\n",
              "        vertical-align: middle;\n",
              "    }\n",
              "\n",
              "    .dataframe tbody tr th {\n",
              "        vertical-align: top;\n",
              "    }\n",
              "\n",
              "    .dataframe thead th {\n",
              "        text-align: right;\n",
              "    }\n",
              "</style>\n",
              "<table border=\"1\" class=\"dataframe\">\n",
              "  <thead>\n",
              "    <tr style=\"text-align: right;\">\n",
              "      <th></th>\n",
              "      <th>Elapsed time</th>\n",
              "      <th>ECG</th>\n",
              "      <th>EMG</th>\n",
              "      <th>foot GSR</th>\n",
              "      <th>hand GSr</th>\n",
              "      <th>HR</th>\n",
              "      <th>marker</th>\n",
              "      <th>RESP</th>\n",
              "    </tr>\n",
              "  </thead>\n",
              "  <tbody>\n",
              "    <tr>\n",
              "      <th>13</th>\n",
              "      <td>0:00.026</td>\n",
              "      <td>0.040</td>\n",
              "      <td>0.036</td>\n",
              "      <td>8.763</td>\n",
              "      <td>5.675</td>\n",
              "      <td>88</td>\n",
              "      <td>10.85</td>\n",
              "      <td>43.54</td>\n",
              "    </tr>\n",
              "    <tr>\n",
              "      <th>14</th>\n",
              "      <td>0:00.028</td>\n",
              "      <td>0.055</td>\n",
              "      <td>0.036</td>\n",
              "      <td>8.763</td>\n",
              "      <td>5.675</td>\n",
              "      <td>88</td>\n",
              "      <td>10.85</td>\n",
              "      <td>43.54</td>\n",
              "    </tr>\n",
              "    <tr>\n",
              "      <th>15</th>\n",
              "      <td>0:00.030</td>\n",
              "      <td>0.060</td>\n",
              "      <td>0.036</td>\n",
              "      <td>8.763</td>\n",
              "      <td>5.675</td>\n",
              "      <td>88</td>\n",
              "      <td>10.85</td>\n",
              "      <td>43.54</td>\n",
              "    </tr>\n",
              "    <tr>\n",
              "      <th>16</th>\n",
              "      <td>0:00.032</td>\n",
              "      <td>0.066</td>\n",
              "      <td>0.036</td>\n",
              "      <td>8.765</td>\n",
              "      <td>5.678</td>\n",
              "      <td>88</td>\n",
              "      <td>10.85</td>\n",
              "      <td>43.40</td>\n",
              "    </tr>\n",
              "    <tr>\n",
              "      <th>17</th>\n",
              "      <td>0:00.034</td>\n",
              "      <td>0.071</td>\n",
              "      <td>0.036</td>\n",
              "      <td>8.765</td>\n",
              "      <td>5.678</td>\n",
              "      <td>88</td>\n",
              "      <td>10.85</td>\n",
              "      <td>43.40</td>\n",
              "    </tr>\n",
              "  </tbody>\n",
              "</table>\n",
              "</div>"
            ],
            "text/plain": [
              "   Elapsed time    ECG    EMG  foot GSR  hand GSr  HR  marker   RESP\n",
              "13     0:00.026  0.040  0.036     8.763     5.675  88   10.85  43.54\n",
              "14     0:00.028  0.055  0.036     8.763     5.675  88   10.85  43.54\n",
              "15     0:00.030  0.060  0.036     8.763     5.675  88   10.85  43.54\n",
              "16     0:00.032  0.066  0.036     8.765     5.678  88   10.85  43.40\n",
              "17     0:00.034  0.071  0.036     8.765     5.678  88   10.85  43.40"
            ]
          },
          "metadata": {
            "tags": []
          },
          "execution_count": 32
        }
      ]
    },
    {
      "cell_type": "code",
      "metadata": {
        "id": "lkFy4YBHDNYm",
        "outputId": "b6530b06-2c1b-42b0-8d1a-be16eeb3483a"
      },
      "source": [
        "#we can also work in a similar manner with a specific column of the dataframe\n",
        "df2['foot GSR'][df2['ECG'] > 0.03].head()"
      ],
      "execution_count": null,
      "outputs": [
        {
          "output_type": "execute_result",
          "data": {
            "text/plain": [
              "13    8.763\n",
              "14    8.763\n",
              "15    8.763\n",
              "16    8.765\n",
              "17    8.765\n",
              "Name: foot GSR, dtype: float64"
            ]
          },
          "metadata": {
            "tags": []
          },
          "execution_count": 33
        }
      ]
    },
    {
      "cell_type": "code",
      "metadata": {
        "id": "NeKQLhFiDNYm",
        "outputId": "763003d1-a733-484a-e98d-02e0d72ef339"
      },
      "source": [
        "#Suppose we want to use a very specific location in a dataframe\n",
        "t = [3,4]\n",
        "#we can easily do that with the locator\n",
        "df2.iloc[t]"
      ],
      "execution_count": null,
      "outputs": [
        {
          "output_type": "execute_result",
          "data": {
            "text/html": [
              "<div>\n",
              "<style scoped>\n",
              "    .dataframe tbody tr th:only-of-type {\n",
              "        vertical-align: middle;\n",
              "    }\n",
              "\n",
              "    .dataframe tbody tr th {\n",
              "        vertical-align: top;\n",
              "    }\n",
              "\n",
              "    .dataframe thead th {\n",
              "        text-align: right;\n",
              "    }\n",
              "</style>\n",
              "<table border=\"1\" class=\"dataframe\">\n",
              "  <thead>\n",
              "    <tr style=\"text-align: right;\">\n",
              "      <th></th>\n",
              "      <th>Elapsed time</th>\n",
              "      <th>ECG</th>\n",
              "      <th>EMG</th>\n",
              "      <th>foot GSR</th>\n",
              "      <th>hand GSr</th>\n",
              "      <th>HR</th>\n",
              "      <th>marker</th>\n",
              "      <th>RESP</th>\n",
              "    </tr>\n",
              "  </thead>\n",
              "  <tbody>\n",
              "    <tr>\n",
              "      <th>3</th>\n",
              "      <td>0:00.006</td>\n",
              "      <td>-0.023</td>\n",
              "      <td>0.036</td>\n",
              "      <td>8.763</td>\n",
              "      <td>5.675</td>\n",
              "      <td>88</td>\n",
              "      <td>10.85</td>\n",
              "      <td>43.54</td>\n",
              "    </tr>\n",
              "    <tr>\n",
              "      <th>4</th>\n",
              "      <td>0:00.008</td>\n",
              "      <td>-0.018</td>\n",
              "      <td>0.036</td>\n",
              "      <td>8.763</td>\n",
              "      <td>5.675</td>\n",
              "      <td>88</td>\n",
              "      <td>10.85</td>\n",
              "      <td>43.54</td>\n",
              "    </tr>\n",
              "  </tbody>\n",
              "</table>\n",
              "</div>"
            ],
            "text/plain": [
              "  Elapsed time    ECG    EMG  foot GSR  hand GSr  HR  marker   RESP\n",
              "3     0:00.006 -0.023  0.036     8.763     5.675  88   10.85  43.54\n",
              "4     0:00.008 -0.018  0.036     8.763     5.675  88   10.85  43.54"
            ]
          },
          "metadata": {
            "tags": []
          },
          "execution_count": 34
        }
      ]
    },
    {
      "cell_type": "code",
      "metadata": {
        "id": "h5jvicDtDNYn",
        "outputId": "cfefd32d-93f5-438f-8e04-91e676a36c1b"
      },
      "source": [
        "#Plotting histogram\n",
        "num_bins = 10\n",
        "plt.hist(df2['HR'].dropna(), num_bins, facecolor = 'red')\n",
        "plt.title(\"Histogram of HR \")\n",
        "plt.xlabel(\"Value\")\n",
        "plt.ylabel(\"Frequency\")"
      ],
      "execution_count": null,
      "outputs": [
        {
          "output_type": "execute_result",
          "data": {
            "text/plain": [
              "Text(0, 0.5, 'Frequency')"
            ]
          },
          "metadata": {
            "tags": []
          },
          "execution_count": 35
        },
        {
          "output_type": "display_data",
          "data": {
            "image/png": "[encoded data removed]",
            "text/plain": [
              "<Figure size 432x288 with 1 Axes>"
            ]
          },
          "metadata": {
            "tags": []
          }
        }
      ]
    },
    {
      "cell_type": "code",
      "metadata": {
        "id": "AeWtUkMTDNYn",
        "outputId": "347645c3-0283-4751-afab-d297144283e4"
      },
      "source": [
        "#Plotting histogram\n",
        "num_bins = 100\n",
        "plt.hist(df2['HR'].dropna(), num_bins, facecolor = 'blue')\n",
        "plt.title(\"Histogram of HR\")\n",
        "plt.xlabel(\"Value\")\n",
        "plt.ylabel(\"Frequency\")"
      ],
      "execution_count": null,
      "outputs": [
        {
          "output_type": "execute_result",
          "data": {
            "text/plain": [
              "Text(0, 0.5, 'Frequency')"
            ]
          },
          "metadata": {
            "tags": []
          },
          "execution_count": 36
        },
        {
          "output_type": "display_data",
          "data": {
            "image/png": "[encoded data removed]",
            "text/plain": [
              "<Figure size 432x288 with 1 Axes>"
            ]
          },
          "metadata": {
            "tags": []
          }
        }
      ]
    },
    {
      "cell_type": "code",
      "metadata": {
        "id": "hBGMDkdFDNYn",
        "outputId": "5321315d-1aa2-4fda-bdbe-74e28dcab644"
      },
      "source": [
        "#plotting boxplot\n",
        "df2.boxplot()\n",
        "plt.xticks() #try to rotate rotation=45\n",
        "plt.show()"
      ],
      "execution_count": null,
      "outputs": [
        {
          "output_type": "display_data",
          "data": {
            "image/png": "[encoded data removed]",
            "text/plain": [
              "<Figure size 432x288 with 1 Axes>"
            ]
          },
          "metadata": {
            "tags": []
          }
        }
      ]
    },
    {
      "cell_type": "code",
      "metadata": {
        "id": "mzbpL6HGDNYn",
        "outputId": "39e1c1bb-471d-44dc-b525-5ee8acef655a"
      },
      "source": [
        "# Lets use boxplot from Seaborn\n",
        "sns.boxplot(data=df2)"
      ],
      "execution_count": null,
      "outputs": [
        {
          "output_type": "execute_result",
          "data": {
            "text/plain": [
              "<AxesSubplot:>"
            ]
          },
          "metadata": {
            "tags": []
          },
          "execution_count": 38
        },
        {
          "output_type": "display_data",
          "data": {
            "image/png": "[encoded data removed]",
            "text/plain": [
              "<Figure size 432x288 with 1 Axes>"
            ]
          },
          "metadata": {
            "tags": []
          }
        }
      ]
    },
    {
      "cell_type": "code",
      "metadata": {
        "id": "MXCg9mopDNYn",
        "outputId": "767d5e26-acab-4878-f53e-f25ddac3c3f1"
      },
      "source": [
        "# plotting lag plots\n",
        "#Strong autocorrelation\n",
        "pd.plotting.lag_plot(df2['foot GSR']) # try lag =2\n",
        "plt.show()\n",
        "\n",
        "#Due to:\n",
        "#phenomenon under study; or\n",
        "#drifting in the environment; or\n",
        "#contamination from the data acquisition system?"
      ],
      "execution_count": null,
      "outputs": [
        {
          "output_type": "display_data",
          "data": {
            "image/png": "[encoded data removed]",
            "text/plain": [
              "<Figure size 432x288 with 1 Axes>"
            ]
          },
          "metadata": {
            "tags": []
          }
        }
      ]
    },
    {
      "cell_type": "code",
      "metadata": {
        "id": "9-BkI2XYDNYn",
        "outputId": "d1e413f3-a130-493d-d9a4-cdd52790429f"
      },
      "source": [
        "#moderate autocorrelation\n",
        "pd.plotting.lag_plot(df2['marker']) # try lag =2\n",
        "plt.show()"
      ],
      "execution_count": null,
      "outputs": [
        {
          "output_type": "display_data",
          "data": {
            "image/png": "[encoded data removed]",
            "text/plain": [
              "<Figure size 432x288 with 1 Axes>"
            ]
          },
          "metadata": {
            "tags": []
          }
        }
      ]
    },
    {
      "cell_type": "code",
      "metadata": {
        "id": "x7_SgM01DNYn",
        "outputId": "65a1a71e-3ac2-4cef-aca6-fb3312b193be"
      },
      "source": [
        "# Plotting heatmaps using Seaborn\n",
        "import seaborn as sns\n",
        "\n",
        "corr = df2.corr()\n",
        "sns.heatmap(corr, \n",
        "            xticklabels=corr.columns.values,\n",
        "            yticklabels=corr.columns.values)"
      ],
      "execution_count": null,
      "outputs": [
        {
          "output_type": "execute_result",
          "data": {
            "text/plain": [
              "<AxesSubplot:>"
            ]
          },
          "metadata": {
            "tags": []
          },
          "execution_count": 43
        },
        {
          "output_type": "display_data",
          "data": {
            "image/png": "[encoded data removed]",
            "text/plain": [
              "<Figure size 432x288 with 2 Axes>"
            ]
          },
          "metadata": {
            "tags": []
          }
        }
      ]
    },
    {
      "cell_type": "code",
      "metadata": {
        "scrolled": true,
        "id": "OTpg_F75DNYn",
        "outputId": "140de3f5-5e39-4a1f-f0ba-18eec2229965"
      },
      "source": [
        "# Plotting joint plot using Seaborn\n",
        "\n",
        "sns.jointplot(x=\"marker\", y=\"foot GSR\", data=df2[0:1000], kind=\"kde\")"
      ],
      "execution_count": null,
      "outputs": [
        {
          "output_type": "execute_result",
          "data": {
            "text/plain": [
              "<seaborn.axisgrid.JointGrid at 0x2610e81fcc0>"
            ]
          },
          "metadata": {
            "tags": []
          },
          "execution_count": 44
        },
        {
          "output_type": "display_data",
          "data": {
            "image/png": "[encoded data removed]",
            "text/plain": [
              "<Figure size 432x432 with 3 Axes>"
            ]
          },
          "metadata": {
            "tags": []
          }
        }
      ]
    },
    {
      "cell_type": "code",
      "metadata": {
        "id": "b89qysrSDNYn",
        "outputId": "45ac5730-77c7-450a-a4d0-76ae59a15218"
      },
      "source": [
        "sns.jointplot(x=\"marker\", y=\"foot GSR\", data=df2[0:1000], kind=\"reg\")"
      ],
      "execution_count": null,
      "outputs": [
        {
          "output_type": "stream",
          "text": [
            "C:\\Users\\Moe\\AppData\\Roaming\\Python\\Python36\\site-packages\\numpy\\linalg\\linalg.py:1942: RuntimeWarning: invalid value encountered in greater\n",
            "  large = s > cutoff\n"
          ],
          "name": "stderr"
        },
        {
          "output_type": "execute_result",
          "data": {
            "text/plain": [
              "<seaborn.axisgrid.JointGrid at 0x2610ea630b8>"
            ]
          },
          "metadata": {
            "tags": []
          },
          "execution_count": 45
        },
        {
          "output_type": "display_data",
          "data": {
            "image/png": "[encoded data removed]",
            "text/plain": [
              "<Figure size 432x432 with 3 Axes>"
            ]
          },
          "metadata": {
            "tags": []
          }
        }
      ]
    },
    {
      "cell_type": "code",
      "metadata": {
        "id": "68clae5zDNYn",
        "outputId": "f4101d65-78eb-483b-d1af-4743ae38d657"
      },
      "source": [
        "sns.jointplot(x=\"marker\", y=\"foot GSR\", data=df2[0:1000], kind=\"hist\")"
      ],
      "execution_count": null,
      "outputs": [
        {
          "output_type": "execute_result",
          "data": {
            "text/plain": [
              "<seaborn.axisgrid.JointGrid at 0x2610ebdd390>"
            ]
          },
          "metadata": {
            "tags": []
          },
          "execution_count": 46
        },
        {
          "output_type": "display_data",
          "data": {
            "image/png": "[encoded data removed]",
            "text/plain": [
              "<Figure size 432x432 with 3 Axes>"
            ]
          },
          "metadata": {
            "tags": []
          }
        }
      ]
    },
    {
      "cell_type": "code",
      "metadata": {
        "id": "hyqZ3YvGDNYn",
        "outputId": "493d48d9-a09e-4291-a771-fd4101c8f223"
      },
      "source": [
        "#df2['HR'].plot(grid=True, style=cols[1])\n",
        "Fs=15\n",
        "df2['foot GSR'].rolling(window=Fs*60*60*1).mean().plot(grid=True)\n",
        "df2['foot GSR'].rolling(window=Fs*60*60*2).mean().plot(grid=True)\n",
        "df2['marker'].rolling(window=Fs*60*60*1).mean().plot(grid=True, style='r')\n"
      ],
      "execution_count": null,
      "outputs": [
        {
          "output_type": "execute_result",
          "data": {
            "text/plain": [
              "<AxesSubplot:>"
            ]
          },
          "metadata": {
            "tags": []
          },
          "execution_count": 47
        },
        {
          "output_type": "display_data",
          "data": {
            "image/png": "[encoded data removed]",
            "text/plain": [
              "<Figure size 432x288 with 1 Axes>"
            ]
          },
          "metadata": {
            "tags": []
          }
        }
      ]
    },
    {
      "cell_type": "markdown",
      "metadata": {
        "id": "vRA5bG16DNYn"
      },
      "source": [
        "## Exercise #4: plot 1 hour and 2 hour moving averages for heart rates on same graph?\n",
        "Hint: replace the foot GSR with HR in the previous example"
      ]
    },
    {
      "cell_type": "code",
      "metadata": {
        "id": "YhvvlC3YDNYn",
        "outputId": "0ee65e04-24c6-4b28-e415-6bf7cc16059e"
      },
      "source": [
        "from statsmodels.tsa.seasonal import seasonal_decompose\n",
        "from statsmodels.tsa.filters.hp_filter import hpfilter\n",
        "\n",
        "decomposition = seasonal_decompose(df2['HR'][1:1000*Fs], freq=100*Fs)\n",
        "\n",
        "trend = decomposition.trend\n",
        "\n",
        "fig = plt.figure(figsize=(18,8))\n",
        "\n",
        "plt.subplot(211)\n",
        "plt.plot(df2['HR'][1:1000*Fs], label='Original')\n",
        "plt.legend(loc='best')\n",
        "plt.subplot(212)\n",
        "plt.plot(trend, label='Trend')\n",
        "plt.legend(loc='best')"
      ],
      "execution_count": null,
      "outputs": [
        {
          "output_type": "stream",
          "text": [
            "C:\\Users\\Moe\\Anaconda3\\lib\\site-packages\\ipykernel_launcher.py:4: FutureWarning: the 'freq'' keyword is deprecated, use 'period' instead\n",
            "  after removing the cwd from sys.path.\n"
          ],
          "name": "stderr"
        },
        {
          "output_type": "execute_result",
          "data": {
            "text/plain": [
              "<matplotlib.legend.Legend at 0x26123577a58>"
            ]
          },
          "metadata": {
            "tags": []
          },
          "execution_count": 178
        },
        {
          "output_type": "display_data",
          "data": {
            "image/png": "[encoded data removed]",
            "text/plain": [
              "<Figure size 1296x576 with 2 Axes>"
            ]
          },
          "metadata": {
            "tags": []
          }
        }
      ]
    },
    {
      "cell_type": "markdown",
      "metadata": {
        "id": "urU49TAMDNYn"
      },
      "source": [
        "# Exercise #5: Filter ECG signal using trend."
      ]
    },
    {
      "cell_type": "code",
      "metadata": {
        "id": "GTm6kqqaDNYn"
      },
      "source": [
        ""
      ],
      "execution_count": null,
      "outputs": []
    }
  ]
}