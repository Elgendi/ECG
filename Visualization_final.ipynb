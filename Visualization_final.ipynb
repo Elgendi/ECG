{
  "nbformat": 4,
  "nbformat_minor": 0,
  "metadata": {
    "kernelspec": {
      "display_name": "Python 3",
      "language": "python",
      "name": "python3"
    },
    "language_info": {
      "codemirror_mode": {
        "name": "ipython",
        "version": 3
      },
      "file_extension": ".py",
      "mimetype": "text/x-python",
      "name": "python",
      "nbconvert_exporter": "python",
      "pygments_lexer": "ipython3",
      "version": "3.6.5"
    },
    "colab": {
      "name": "Visualization-final.ipynb",
      "provenance": [],
      "include_colab_link": true
    }
  },
  "cells": [
    {
      "cell_type": "markdown",
      "metadata": {
        "id": "view-in-github",
        "colab_type": "text"
      },
      "source": [
        "<a href=\"https://colab.research.google.com/github/Elgendi/Machine-Learning-and-Data-Viz-Workshop/blob/master/Visualization_final.ipynb\" target=\"_parent\"><img src=\"https://colab.research.google.com/assets/colab-badge.svg\" alt=\"Open In Colab\"/></a>"
      ]
    },
    {
      "cell_type": "markdown",
      "metadata": {
        "id": "uYlc3etJDNYg"
      },
      "source": [
        "#### Machine Learning and Visulization for Healthcare Data: Foundtions (Part 1)\n",
        "# Python libraries for working with data (load, process, and visulize)"
      ]
    },
    {
      "cell_type": "code",
      "metadata": {
        "id": "w6JcpRavDNYg"
      },
      "source": [
        "# Copyright (c) Mohamed Elgendi 2020. All rights reserved\n",
        "# Author: Mohamed Elgendi \n",
        "# Version: 1.0 (2020.11.29)\n",
        "# Email: moe.elgendi@gmail.com\n",
        "# Platform: Tested on Windows 10 with Python 3.6"
      ],
      "execution_count": null,
      "outputs": []
    },
    {
      "cell_type": "markdown",
      "metadata": {
        "id": "K546U91zDNYh"
      },
      "source": [
        "### Objectives\n",
        " - Learn how to use Pandas to easily and efficiently analyze data\n",
        " - Review some simple statistical operations\n",
        " - Complete the exercises\n",
        "\n",
        "### Background reading\n",
        "- Pandas dataframe docs: https://pandas.pydata.org/pandas-docs/stable/generated/pandas.DataFrame.html\n",
        "- More on visualization in matplotlib can be found here: https://matplotlib.org/\n",
        "- More on visualization in seaborn can be found here: https://seaborn.pydata.org/\n"
      ]
    },
    {
      "cell_type": "markdown",
      "metadata": {
        "id": "STsC-vLaDNYh"
      },
      "source": [
        "## Introduction to Pandas\n",
        "\n",
        "Pandas is a python library for data analysis. At the core of Pandas, lies the concept of a 'DataFrame' - this can be thought of as powerful type of dictionary designed for data analysis.\n",
        "\n",
        "The DataFrame is designed to manage indexed and labeled data, not too different from a SQL database table or a worksheet in a spreadsheet application. Consider the following creation of a DataFrame object:"
      ]
    },
    {
      "cell_type": "code",
      "metadata": {
        "id": "e4TIFh8-DNYh"
      },
      "source": [
        "#All libs used in the tutorial\n",
        "%matplotlib inline\n",
        "import numpy as np\n",
        "import pandas as pd\n",
        "import matplotlib.pyplot as plt\n",
        "import seaborn as sns"
      ],
      "execution_count": null,
      "outputs": []
    },
    {
      "cell_type": "code",
      "metadata": {
        "colab": {
          "base_uri": "https://localhost:8080/",
          "height": 172
        },
        "id": "jnftimwnDNYh",
        "outputId": "ae3bc6a9-3c70-4923-e3a2-3bb1eeada95e"
      },
      "source": [
        "import numpy as np\n",
        "import pandas as pd\n",
        "\n",
        "df = pd.DataFrame([20, 60, 13, 40], columns=['Age'],\n",
        "                  index=['Subject 1', 'Subject 2', 'Subject 3', 'Subject 4'])\n",
        "df"
      ],
      "execution_count": 1,
      "outputs": [
        {
          "output_type": "execute_result",
          "data": {
            "text/html": [
              "<div>\n",
              "<style scoped>\n",
              "    .dataframe tbody tr th:only-of-type {\n",
              "        vertical-align: middle;\n",
              "    }\n",
              "\n",
              "    .dataframe tbody tr th {\n",
              "        vertical-align: top;\n",
              "    }\n",
              "\n",
              "    .dataframe thead th {\n",
              "        text-align: right;\n",
              "    }\n",
              "</style>\n",
              "<table border=\"1\" class=\"dataframe\">\n",
              "  <thead>\n",
              "    <tr style=\"text-align: right;\">\n",
              "      <th></th>\n",
              "      <th>Age</th>\n",
              "    </tr>\n",
              "  </thead>\n",
              "  <tbody>\n",
              "    <tr>\n",
              "      <th>Subject 1</th>\n",
              "      <td>20</td>\n",
              "    </tr>\n",
              "    <tr>\n",
              "      <th>Subject 2</th>\n",
              "      <td>60</td>\n",
              "    </tr>\n",
              "    <tr>\n",
              "      <th>Subject 3</th>\n",
              "      <td>13</td>\n",
              "    </tr>\n",
              "    <tr>\n",
              "      <th>Subject 4</th>\n",
              "      <td>40</td>\n",
              "    </tr>\n",
              "  </tbody>\n",
              "</table>\n",
              "</div>"
            ],
            "text/plain": [
              "           Age\n",
              "Subject 1   20\n",
              "Subject 2   60\n",
              "Subject 3   13\n",
              "Subject 4   40"
            ]
          },
          "metadata": {
            "tags": []
          },
          "execution_count": 1
        }
      ]
    },
    {
      "cell_type": "markdown",
      "metadata": {
        "id": "rspbAHq2DNYj"
      },
      "source": [
        "We observe a number of important proporties of the dataframe:\n",
        "- Data itself can be provided in different shapes and types (list, tuple, ndarray, and dict objects are candidates). \n",
        "- Labels: Data is organized in columns, which can have custom names. \n",
        "- Index: There is an index that can take on different formats (e.g., numbers, strings, time information). "
      ]
    },
    {
      "cell_type": "markdown",
      "metadata": {
        "id": "5BtGrXk0DNYj"
      },
      "source": [
        "The following examples demonstrate several of the most import methods and properties of the Pandas dataframe object."
      ]
    },
    {
      "cell_type": "code",
      "metadata": {
        "id": "JZJ7uPjkDNYj",
        "outputId": "8e1a408f-6155-4790-d942-391c663e2c3f",
        "colab": {
          "base_uri": "https://localhost:8080/"
        }
      },
      "source": [
        "df.index  # the index values"
      ],
      "execution_count": 2,
      "outputs": [
        {
          "output_type": "execute_result",
          "data": {
            "text/plain": [
              "Index(['Subject 1', 'Subject 2', 'Subject 3', 'Subject 4'], dtype='object')"
            ]
          },
          "metadata": {
            "tags": []
          },
          "execution_count": 2
        }
      ]
    },
    {
      "cell_type": "code",
      "metadata": {
        "id": "hlSIQlwxDNYj",
        "outputId": "56f7609e-a4c3-44eb-8ff4-4046dcf5acc1",
        "colab": {
          "base_uri": "https://localhost:8080/"
        }
      },
      "source": [
        "df.columns  # the column names"
      ],
      "execution_count": 3,
      "outputs": [
        {
          "output_type": "execute_result",
          "data": {
            "text/plain": [
              "Index(['Age'], dtype='object')"
            ]
          },
          "metadata": {
            "tags": []
          },
          "execution_count": 3
        }
      ]
    },
    {
      "cell_type": "code",
      "metadata": {
        "id": "xCfIYSXADNYj",
        "outputId": "3cc84bf3-db00-4401-9c1a-2170ee33a544",
        "colab": {
          "base_uri": "https://localhost:8080/"
        }
      },
      "source": [
        "df.loc['Subject 1'] # selection via index"
      ],
      "execution_count": 4,
      "outputs": [
        {
          "output_type": "execute_result",
          "data": {
            "text/plain": [
              "Age    20\n",
              "Name: Subject 1, dtype: int64"
            ]
          },
          "metadata": {
            "tags": []
          },
          "execution_count": 4
        }
      ]
    },
    {
      "cell_type": "code",
      "metadata": {
        "id": "xw-J2vYdDNYk",
        "outputId": "e84faede-f92a-4023-eae9-e396dd894d1e",
        "colab": {
          "base_uri": "https://localhost:8080/",
          "height": 110
        }
      },
      "source": [
        "df.loc[['Subject 1', 'Subject 2']]  # selection of multiple indices"
      ],
      "execution_count": 5,
      "outputs": [
        {
          "output_type": "execute_result",
          "data": {
            "text/html": [
              "<div>\n",
              "<style scoped>\n",
              "    .dataframe tbody tr th:only-of-type {\n",
              "        vertical-align: middle;\n",
              "    }\n",
              "\n",
              "    .dataframe tbody tr th {\n",
              "        vertical-align: top;\n",
              "    }\n",
              "\n",
              "    .dataframe thead th {\n",
              "        text-align: right;\n",
              "    }\n",
              "</style>\n",
              "<table border=\"1\" class=\"dataframe\">\n",
              "  <thead>\n",
              "    <tr style=\"text-align: right;\">\n",
              "      <th></th>\n",
              "      <th>Age</th>\n",
              "    </tr>\n",
              "  </thead>\n",
              "  <tbody>\n",
              "    <tr>\n",
              "      <th>Subject 1</th>\n",
              "      <td>20</td>\n",
              "    </tr>\n",
              "    <tr>\n",
              "      <th>Subject 2</th>\n",
              "      <td>60</td>\n",
              "    </tr>\n",
              "  </tbody>\n",
              "</table>\n",
              "</div>"
            ],
            "text/plain": [
              "           Age\n",
              "Subject 1   20\n",
              "Subject 2   60"
            ]
          },
          "metadata": {
            "tags": []
          },
          "execution_count": 5
        }
      ]
    },
    {
      "cell_type": "code",
      "metadata": {
        "id": "9rCjd5piDNYk",
        "outputId": "98b2da99-eed8-4be4-a684-41f819143bcd",
        "colab": {
          "base_uri": "https://localhost:8080/"
        }
      },
      "source": [
        "df.iloc[-1]  # selection via Index object"
      ],
      "execution_count": 6,
      "outputs": [
        {
          "output_type": "execute_result",
          "data": {
            "text/plain": [
              "Age    40\n",
              "Name: Subject 4, dtype: int64"
            ]
          },
          "metadata": {
            "tags": []
          },
          "execution_count": 6
        }
      ]
    },
    {
      "cell_type": "code",
      "metadata": {
        "id": "G2RwvlQGDNYk",
        "outputId": "fe9ba3da-8776-4431-eacd-58a48fd365f4",
        "colab": {
          "base_uri": "https://localhost:8080/"
        }
      },
      "source": [
        "df.values # note: we extract values as an array"
      ],
      "execution_count": 7,
      "outputs": [
        {
          "output_type": "execute_result",
          "data": {
            "text/plain": [
              "array([[20],\n",
              "       [60],\n",
              "       [13],\n",
              "       [40]])"
            ]
          },
          "metadata": {
            "tags": []
          },
          "execution_count": 7
        }
      ]
    },
    {
      "cell_type": "code",
      "metadata": {
        "id": "E9g_Ex_eDNYk",
        "outputId": "5c2657e6-84e3-466a-8b40-9d540e05b4ad",
        "colab": {
          "base_uri": "https://localhost:8080/"
        }
      },
      "source": [
        "df.Age.std()  # sum per column"
      ],
      "execution_count": 8,
      "outputs": [
        {
          "output_type": "execute_result",
          "data": {
            "text/plain": [
              "21.187653637594387"
            ]
          },
          "metadata": {
            "tags": []
          },
          "execution_count": 8
        }
      ]
    },
    {
      "cell_type": "code",
      "metadata": {
        "id": "Na8_B9P9DNYk",
        "outputId": "145150fd-8ecf-4e70-e3cb-c195db3b8e57",
        "colab": {
          "base_uri": "https://localhost:8080/"
        }
      },
      "source": [
        "df.Age.mean()"
      ],
      "execution_count": 9,
      "outputs": [
        {
          "output_type": "execute_result",
          "data": {
            "text/plain": [
              "33.25"
            ]
          },
          "metadata": {
            "tags": []
          },
          "execution_count": 9
        }
      ]
    },
    {
      "cell_type": "code",
      "metadata": {
        "id": "zGyyRg2lDNYk",
        "outputId": "7946f97a-1310-4233-abaa-b5b4dfd0b589",
        "colab": {
          "base_uri": "https://localhost:8080/",
          "height": 172
        }
      },
      "source": [
        "df.apply(lambda x: x ** 2)  # square of every element"
      ],
      "execution_count": 10,
      "outputs": [
        {
          "output_type": "execute_result",
          "data": {
            "text/html": [
              "<div>\n",
              "<style scoped>\n",
              "    .dataframe tbody tr th:only-of-type {\n",
              "        vertical-align: middle;\n",
              "    }\n",
              "\n",
              "    .dataframe tbody tr th {\n",
              "        vertical-align: top;\n",
              "    }\n",
              "\n",
              "    .dataframe thead th {\n",
              "        text-align: right;\n",
              "    }\n",
              "</style>\n",
              "<table border=\"1\" class=\"dataframe\">\n",
              "  <thead>\n",
              "    <tr style=\"text-align: right;\">\n",
              "      <th></th>\n",
              "      <th>Age</th>\n",
              "    </tr>\n",
              "  </thead>\n",
              "  <tbody>\n",
              "    <tr>\n",
              "      <th>Subject 1</th>\n",
              "      <td>400</td>\n",
              "    </tr>\n",
              "    <tr>\n",
              "      <th>Subject 2</th>\n",
              "      <td>3600</td>\n",
              "    </tr>\n",
              "    <tr>\n",
              "      <th>Subject 3</th>\n",
              "      <td>169</td>\n",
              "    </tr>\n",
              "    <tr>\n",
              "      <th>Subject 4</th>\n",
              "      <td>1600</td>\n",
              "    </tr>\n",
              "  </tbody>\n",
              "</table>\n",
              "</div>"
            ],
            "text/plain": [
              "            Age\n",
              "Subject 1   400\n",
              "Subject 2  3600\n",
              "Subject 3   169\n",
              "Subject 4  1600"
            ]
          },
          "metadata": {
            "tags": []
          },
          "execution_count": 10
        }
      ]
    },
    {
      "cell_type": "code",
      "metadata": {
        "id": "E2z2ub2ZDNYk",
        "outputId": "b60d7493-45ac-403d-8ef0-cf6bcd96e186",
        "colab": {
          "base_uri": "https://localhost:8080/",
          "height": 172
        }
      },
      "source": [
        "df ** 2  # again square, this time NumPy-like"
      ],
      "execution_count": 11,
      "outputs": [
        {
          "output_type": "execute_result",
          "data": {
            "text/html": [
              "<div>\n",
              "<style scoped>\n",
              "    .dataframe tbody tr th:only-of-type {\n",
              "        vertical-align: middle;\n",
              "    }\n",
              "\n",
              "    .dataframe tbody tr th {\n",
              "        vertical-align: top;\n",
              "    }\n",
              "\n",
              "    .dataframe thead th {\n",
              "        text-align: right;\n",
              "    }\n",
              "</style>\n",
              "<table border=\"1\" class=\"dataframe\">\n",
              "  <thead>\n",
              "    <tr style=\"text-align: right;\">\n",
              "      <th></th>\n",
              "      <th>Age</th>\n",
              "    </tr>\n",
              "  </thead>\n",
              "  <tbody>\n",
              "    <tr>\n",
              "      <th>Subject 1</th>\n",
              "      <td>400</td>\n",
              "    </tr>\n",
              "    <tr>\n",
              "      <th>Subject 2</th>\n",
              "      <td>3600</td>\n",
              "    </tr>\n",
              "    <tr>\n",
              "      <th>Subject 3</th>\n",
              "      <td>169</td>\n",
              "    </tr>\n",
              "    <tr>\n",
              "      <th>Subject 4</th>\n",
              "      <td>1600</td>\n",
              "    </tr>\n",
              "  </tbody>\n",
              "</table>\n",
              "</div>"
            ],
            "text/plain": [
              "            Age\n",
              "Subject 1   400\n",
              "Subject 2  3600\n",
              "Subject 3   169\n",
              "Subject 4  1600"
            ]
          },
          "metadata": {
            "tags": []
          },
          "execution_count": 11
        }
      ]
    },
    {
      "cell_type": "markdown",
      "metadata": {
        "id": "bybMRjVYDNYk"
      },
      "source": [
        "# Adding a new column\n",
        "Adding a new feature/column to the original dataframe is so simple.\n",
        "All we need to do is put the new column between two single quotations, and then assign values as follows."
      ]
    },
    {
      "cell_type": "code",
      "metadata": {
        "id": "7HZrpjyoDNYk",
        "outputId": "0e281e19-0b07-40ae-fbbb-e3a6754e8e49",
        "colab": {
          "base_uri": "https://localhost:8080/",
          "height": 172
        }
      },
      "source": [
        "df['A'] = [1.9, 2.5, 3.5, 4.5]  # new column is generated\n",
        "df\n"
      ],
      "execution_count": 12,
      "outputs": [
        {
          "output_type": "execute_result",
          "data": {
            "text/html": [
              "<div>\n",
              "<style scoped>\n",
              "    .dataframe tbody tr th:only-of-type {\n",
              "        vertical-align: middle;\n",
              "    }\n",
              "\n",
              "    .dataframe tbody tr th {\n",
              "        vertical-align: top;\n",
              "    }\n",
              "\n",
              "    .dataframe thead th {\n",
              "        text-align: right;\n",
              "    }\n",
              "</style>\n",
              "<table border=\"1\" class=\"dataframe\">\n",
              "  <thead>\n",
              "    <tr style=\"text-align: right;\">\n",
              "      <th></th>\n",
              "      <th>Age</th>\n",
              "      <th>A</th>\n",
              "    </tr>\n",
              "  </thead>\n",
              "  <tbody>\n",
              "    <tr>\n",
              "      <th>Subject 1</th>\n",
              "      <td>20</td>\n",
              "      <td>1.9</td>\n",
              "    </tr>\n",
              "    <tr>\n",
              "      <th>Subject 2</th>\n",
              "      <td>60</td>\n",
              "      <td>2.5</td>\n",
              "    </tr>\n",
              "    <tr>\n",
              "      <th>Subject 3</th>\n",
              "      <td>13</td>\n",
              "      <td>3.5</td>\n",
              "    </tr>\n",
              "    <tr>\n",
              "      <th>Subject 4</th>\n",
              "      <td>40</td>\n",
              "      <td>4.5</td>\n",
              "    </tr>\n",
              "  </tbody>\n",
              "</table>\n",
              "</div>"
            ],
            "text/plain": [
              "           Age    A\n",
              "Subject 1   20  1.9\n",
              "Subject 2   60  2.5\n",
              "Subject 3   13  3.5\n",
              "Subject 4   40  4.5"
            ]
          },
          "metadata": {
            "tags": []
          },
          "execution_count": 12
        }
      ]
    },
    {
      "cell_type": "markdown",
      "metadata": {
        "id": "kJSqlKEqDNYl"
      },
      "source": [
        "# Deleting a column\n",
        "\n",
        "We use the drop function in the dataframe."
      ]
    },
    {
      "cell_type": "code",
      "metadata": {
        "id": "ystnLURRDNYl",
        "outputId": "8ec7ebbe-a12c-40ae-965f-e77b4d464cc2",
        "colab": {
          "base_uri": "https://localhost:8080/",
          "height": 172
        }
      },
      "source": [
        "df.drop(columns='A')"
      ],
      "execution_count": 13,
      "outputs": [
        {
          "output_type": "execute_result",
          "data": {
            "text/html": [
              "<div>\n",
              "<style scoped>\n",
              "    .dataframe tbody tr th:only-of-type {\n",
              "        vertical-align: middle;\n",
              "    }\n",
              "\n",
              "    .dataframe tbody tr th {\n",
              "        vertical-align: top;\n",
              "    }\n",
              "\n",
              "    .dataframe thead th {\n",
              "        text-align: right;\n",
              "    }\n",
              "</style>\n",
              "<table border=\"1\" class=\"dataframe\">\n",
              "  <thead>\n",
              "    <tr style=\"text-align: right;\">\n",
              "      <th></th>\n",
              "      <th>Age</th>\n",
              "    </tr>\n",
              "  </thead>\n",
              "  <tbody>\n",
              "    <tr>\n",
              "      <th>Subject 1</th>\n",
              "      <td>20</td>\n",
              "    </tr>\n",
              "    <tr>\n",
              "      <th>Subject 2</th>\n",
              "      <td>60</td>\n",
              "    </tr>\n",
              "    <tr>\n",
              "      <th>Subject 3</th>\n",
              "      <td>13</td>\n",
              "    </tr>\n",
              "    <tr>\n",
              "      <th>Subject 4</th>\n",
              "      <td>40</td>\n",
              "    </tr>\n",
              "  </tbody>\n",
              "</table>\n",
              "</div>"
            ],
            "text/plain": [
              "           Age\n",
              "Subject 1   20\n",
              "Subject 2   60\n",
              "Subject 3   13\n",
              "Subject 4   40"
            ]
          },
          "metadata": {
            "tags": []
          },
          "execution_count": 13
        }
      ]
    },
    {
      "cell_type": "markdown",
      "metadata": {
        "id": "q1YepSDXDNYl"
      },
      "source": [
        "# Exercise 1: Create a new dataframe with 4 attributes/columns for 3 subjects\n",
        "The 4 attributes are Age, BMI, SBP, DBP, Echo"
      ]
    },
    {
      "cell_type": "markdown",
      "metadata": {
        "id": "q_lniG03DNYl"
      },
      "source": [
        "# Exercise 2: Square the Age column\n",
        "\n",
        " Hint: access Age via df first."
      ]
    },
    {
      "cell_type": "markdown",
      "metadata": {
        "id": "8x3v1La6DNYl"
      },
      "source": [
        "# Exercise 3: Remove the Echo column\n",
        "\n",
        " Hint: use the drop built-in function."
      ]
    },
    {
      "cell_type": "code",
      "metadata": {
        "id": "mMn-zbtUDNYl"
      },
      "source": [
        "df2 = pd.DataFrame(np.arange(1,1000),columns=['integers'])\n",
        "df3 = df2.apply(lambda x: np.sin(x))"
      ],
      "execution_count": 14,
      "outputs": []
    },
    {
      "cell_type": "code",
      "metadata": {
        "id": "l2CwxRoHDNYl",
        "outputId": "0f8ce7be-3247-472f-f09f-50bcd7a039c1",
        "colab": {
          "base_uri": "https://localhost:8080/",
          "height": 283
        }
      },
      "source": [
        "df3[0:100].plot()"
      ],
      "execution_count": 15,
      "outputs": [
        {
          "output_type": "execute_result",
          "data": {
            "text/plain": [
              "<matplotlib.axes._subplots.AxesSubplot at 0x7f74403f8390>"
            ]
          },
          "metadata": {
            "tags": []
          },
          "execution_count": 15
        },
        {
          "output_type": "display_data",
          "data": {
            "image/png": "[encoded data removed]",
            "text/plain": [
              "<Figure size 432x288 with 1 Axes>"
            ]
          },
          "metadata": {
            "tags": [],
            "needs_background": "light"
          }
        }
      ]
    },
    {
      "cell_type": "code",
      "metadata": {
        "id": "dBhjh_SiDNYl",
        "outputId": "a1e5c073-9b04-49ba-ed55-71ae52105cde",
        "colab": {
          "base_uri": "https://localhost:8080/",
          "height": 297
        }
      },
      "source": [
        "df.plot.scatter('Age','A') # note that it takes columns only"
      ],
      "execution_count": 16,
      "outputs": [
        {
          "output_type": "execute_result",
          "data": {
            "text/plain": [
              "<matplotlib.axes._subplots.AxesSubplot at 0x7f74402e39e8>"
            ]
          },
          "metadata": {
            "tags": []
          },
          "execution_count": 16
        },
        {
          "output_type": "display_data",
          "data": {
            "image/png": "[encoded data removed]",
            "text/plain": [
              "<Figure size 432x288 with 1 Axes>"
            ]
          },
          "metadata": {
            "tags": [],
            "needs_background": "light"
          }
        }
      ]
    },
    {
      "cell_type": "markdown",
      "metadata": {
        "id": "1FXQ8xAVDNYl"
      },
      "source": [
        "# Exercise #1: scatter ['s1','s2','s3','s4'] vs. Age."
      ]
    },
    {
      "cell_type": "code",
      "metadata": {
        "id": "9XvWwW09DNYl",
        "outputId": "eed109df-5662-4d58-a691-e2bc5a68b85d",
        "colab": {
          "base_uri": "https://localhost:8080/",
          "height": 172
        }
      },
      "source": [
        "df['names'] = pd.DataFrame(['Lisa', 'Bill', 'Rob', 'Depang'],\n",
        "                           index=['Subject 1', 'Subject 2', 'Subject 3', 'Subject 4'])\n",
        "df"
      ],
      "execution_count": 17,
      "outputs": [
        {
          "output_type": "execute_result",
          "data": {
            "text/html": [
              "<div>\n",
              "<style scoped>\n",
              "    .dataframe tbody tr th:only-of-type {\n",
              "        vertical-align: middle;\n",
              "    }\n",
              "\n",
              "    .dataframe tbody tr th {\n",
              "        vertical-align: top;\n",
              "    }\n",
              "\n",
              "    .dataframe thead th {\n",
              "        text-align: right;\n",
              "    }\n",
              "</style>\n",
              "<table border=\"1\" class=\"dataframe\">\n",
              "  <thead>\n",
              "    <tr style=\"text-align: right;\">\n",
              "      <th></th>\n",
              "      <th>Age</th>\n",
              "      <th>A</th>\n",
              "      <th>names</th>\n",
              "    </tr>\n",
              "  </thead>\n",
              "  <tbody>\n",
              "    <tr>\n",
              "      <th>Subject 1</th>\n",
              "      <td>20</td>\n",
              "      <td>1.9</td>\n",
              "      <td>Lisa</td>\n",
              "    </tr>\n",
              "    <tr>\n",
              "      <th>Subject 2</th>\n",
              "      <td>60</td>\n",
              "      <td>2.5</td>\n",
              "      <td>Bill</td>\n",
              "    </tr>\n",
              "    <tr>\n",
              "      <th>Subject 3</th>\n",
              "      <td>13</td>\n",
              "      <td>3.5</td>\n",
              "      <td>Rob</td>\n",
              "    </tr>\n",
              "    <tr>\n",
              "      <th>Subject 4</th>\n",
              "      <td>40</td>\n",
              "      <td>4.5</td>\n",
              "      <td>Depang</td>\n",
              "    </tr>\n",
              "  </tbody>\n",
              "</table>\n",
              "</div>"
            ],
            "text/plain": [
              "           Age    A   names\n",
              "Subject 1   20  1.9    Lisa\n",
              "Subject 2   60  2.5    Bill\n",
              "Subject 3   13  3.5     Rob\n",
              "Subject 4   40  4.5  Depang"
            ]
          },
          "metadata": {
            "tags": []
          },
          "execution_count": 17
        }
      ]
    },
    {
      "cell_type": "code",
      "metadata": {
        "id": "dyUPLnnsDNYl",
        "outputId": "b0950fb6-150c-49d1-904a-829aeba9399f",
        "colab": {
          "base_uri": "https://localhost:8080/",
          "height": 203
        }
      },
      "source": [
        "df = df.append(pd.DataFrame({'numbers': 100, 'floats': 5.75,\n",
        "                             'names': 'Henry'}, index=['z',]))\n",
        "df"
      ],
      "execution_count": 18,
      "outputs": [
        {
          "output_type": "execute_result",
          "data": {
            "text/html": [
              "<div>\n",
              "<style scoped>\n",
              "    .dataframe tbody tr th:only-of-type {\n",
              "        vertical-align: middle;\n",
              "    }\n",
              "\n",
              "    .dataframe tbody tr th {\n",
              "        vertical-align: top;\n",
              "    }\n",
              "\n",
              "    .dataframe thead th {\n",
              "        text-align: right;\n",
              "    }\n",
              "</style>\n",
              "<table border=\"1\" class=\"dataframe\">\n",
              "  <thead>\n",
              "    <tr style=\"text-align: right;\">\n",
              "      <th></th>\n",
              "      <th>Age</th>\n",
              "      <th>A</th>\n",
              "      <th>names</th>\n",
              "      <th>numbers</th>\n",
              "      <th>floats</th>\n",
              "    </tr>\n",
              "  </thead>\n",
              "  <tbody>\n",
              "    <tr>\n",
              "      <th>Subject 1</th>\n",
              "      <td>20.0</td>\n",
              "      <td>1.9</td>\n",
              "      <td>Lisa</td>\n",
              "      <td>NaN</td>\n",
              "      <td>NaN</td>\n",
              "    </tr>\n",
              "    <tr>\n",
              "      <th>Subject 2</th>\n",
              "      <td>60.0</td>\n",
              "      <td>2.5</td>\n",
              "      <td>Bill</td>\n",
              "      <td>NaN</td>\n",
              "      <td>NaN</td>\n",
              "    </tr>\n",
              "    <tr>\n",
              "      <th>Subject 3</th>\n",
              "      <td>13.0</td>\n",
              "      <td>3.5</td>\n",
              "      <td>Rob</td>\n",
              "      <td>NaN</td>\n",
              "      <td>NaN</td>\n",
              "    </tr>\n",
              "    <tr>\n",
              "      <th>Subject 4</th>\n",
              "      <td>40.0</td>\n",
              "      <td>4.5</td>\n",
              "      <td>Depang</td>\n",
              "      <td>NaN</td>\n",
              "      <td>NaN</td>\n",
              "    </tr>\n",
              "    <tr>\n",
              "      <th>z</th>\n",
              "      <td>NaN</td>\n",
              "      <td>NaN</td>\n",
              "      <td>Henry</td>\n",
              "      <td>100.0</td>\n",
              "      <td>5.75</td>\n",
              "    </tr>\n",
              "  </tbody>\n",
              "</table>\n",
              "</div>"
            ],
            "text/plain": [
              "            Age    A   names  numbers  floats\n",
              "Subject 1  20.0  1.9    Lisa      NaN     NaN\n",
              "Subject 2  60.0  2.5    Bill      NaN     NaN\n",
              "Subject 3  13.0  3.5     Rob      NaN     NaN\n",
              "Subject 4  40.0  4.5  Depang      NaN     NaN\n",
              "z           NaN  NaN   Henry    100.0    5.75"
            ]
          },
          "metadata": {
            "tags": []
          },
          "execution_count": 18
        }
      ]
    },
    {
      "cell_type": "code",
      "metadata": {
        "id": "_aibCsicDNYl",
        "outputId": "9d2664db-ff9e-49bf-ac99-a06705600b01",
        "colab": {
          "base_uri": "https://localhost:8080/",
          "height": 203
        }
      },
      "source": [
        "df.join(pd.DataFrame([1, 4, 9, 16, 25],\n",
        "            index=['a', 'b', 'c', 'd', 'y'],\n",
        "            columns=['squares',]))"
      ],
      "execution_count": 19,
      "outputs": [
        {
          "output_type": "execute_result",
          "data": {
            "text/html": [
              "<div>\n",
              "<style scoped>\n",
              "    .dataframe tbody tr th:only-of-type {\n",
              "        vertical-align: middle;\n",
              "    }\n",
              "\n",
              "    .dataframe tbody tr th {\n",
              "        vertical-align: top;\n",
              "    }\n",
              "\n",
              "    .dataframe thead th {\n",
              "        text-align: right;\n",
              "    }\n",
              "</style>\n",
              "<table border=\"1\" class=\"dataframe\">\n",
              "  <thead>\n",
              "    <tr style=\"text-align: right;\">\n",
              "      <th></th>\n",
              "      <th>Age</th>\n",
              "      <th>A</th>\n",
              "      <th>names</th>\n",
              "      <th>numbers</th>\n",
              "      <th>floats</th>\n",
              "      <th>squares</th>\n",
              "    </tr>\n",
              "  </thead>\n",
              "  <tbody>\n",
              "    <tr>\n",
              "      <th>Subject 1</th>\n",
              "      <td>20.0</td>\n",
              "      <td>1.9</td>\n",
              "      <td>Lisa</td>\n",
              "      <td>NaN</td>\n",
              "      <td>NaN</td>\n",
              "      <td>NaN</td>\n",
              "    </tr>\n",
              "    <tr>\n",
              "      <th>Subject 2</th>\n",
              "      <td>60.0</td>\n",
              "      <td>2.5</td>\n",
              "      <td>Bill</td>\n",
              "      <td>NaN</td>\n",
              "      <td>NaN</td>\n",
              "      <td>NaN</td>\n",
              "    </tr>\n",
              "    <tr>\n",
              "      <th>Subject 3</th>\n",
              "      <td>13.0</td>\n",
              "      <td>3.5</td>\n",
              "      <td>Rob</td>\n",
              "      <td>NaN</td>\n",
              "      <td>NaN</td>\n",
              "      <td>NaN</td>\n",
              "    </tr>\n",
              "    <tr>\n",
              "      <th>Subject 4</th>\n",
              "      <td>40.0</td>\n",
              "      <td>4.5</td>\n",
              "      <td>Depang</td>\n",
              "      <td>NaN</td>\n",
              "      <td>NaN</td>\n",
              "      <td>NaN</td>\n",
              "    </tr>\n",
              "    <tr>\n",
              "      <th>z</th>\n",
              "      <td>NaN</td>\n",
              "      <td>NaN</td>\n",
              "      <td>Henry</td>\n",
              "      <td>100.0</td>\n",
              "      <td>5.75</td>\n",
              "      <td>NaN</td>\n",
              "    </tr>\n",
              "  </tbody>\n",
              "</table>\n",
              "</div>"
            ],
            "text/plain": [
              "            Age    A   names  numbers  floats  squares\n",
              "Subject 1  20.0  1.9    Lisa      NaN     NaN      NaN\n",
              "Subject 2  60.0  2.5    Bill      NaN     NaN      NaN\n",
              "Subject 3  13.0  3.5     Rob      NaN     NaN      NaN\n",
              "Subject 4  40.0  4.5  Depang      NaN     NaN      NaN\n",
              "z           NaN  NaN   Henry    100.0    5.75      NaN"
            ]
          },
          "metadata": {
            "tags": []
          },
          "execution_count": 19
        }
      ]
    },
    {
      "cell_type": "markdown",
      "metadata": {
        "id": "xwqbF41MDNYl"
      },
      "source": [
        "## Load Data Using Pandas"
      ]
    },
    {
      "cell_type": "markdown",
      "metadata": {
        "id": "7k-IFrrwDNYl"
      },
      "source": [
        "We shall now turn to collecting and performing basic summary statisical information on some time series data. This is data that is commonly used in digital health, more time series data exist everywhere, for example, monthly heart rate data. Once we understood how to apply key statistical operations to the dataframe, we shall then briefly review more advanced time series functions."
      ]
    },
    {
      "cell_type": "markdown",
      "metadata": {
        "id": "wxRjvBGnDNYl"
      },
      "source": [
        "# Now we will switch to Power Point Presenation.\n",
        "Lets go to Colab"
      ]
    },
    {
      "cell_type": "markdown",
      "metadata": {
        "id": "wMGgropLDNYl"
      },
      "source": [
        "#At this stage it is expected that you can read files "
      ]
    },
    {
      "cell_type": "code",
      "metadata": {
        "id": "FI07S_brDNYl",
        "outputId": "1508585a-af49-4ef9-bc7a-4aef98502531",
        "colab": {
          "base_uri": "https://localhost:8080/"
        }
      },
      "source": [
        "from google.colab import drive\n",
        "drive.mount('/content/drive')"
      ],
      "execution_count": 21,
      "outputs": [
        {
          "output_type": "stream",
          "text": [
            "Mounted at /content/drive\n"
          ],
          "name": "stdout"
        }
      ]
    },
    {
      "cell_type": "code",
      "metadata": {
        "id": "x2T3FrRaI0QH"
      },
      "source": [
        "df=pd.read_csv('/content/drive/MyDrive/07.csv')"
      ],
      "execution_count": 22,
      "outputs": []
    },
    {
      "cell_type": "code",
      "metadata": {
        "id": "m5bAWsWmDNYl",
        "outputId": "f9bc9d26-2cbf-4c04-9717-b33c3bd6f50c",
        "colab": {
          "base_uri": "https://localhost:8080/",
          "height": 417
        }
      },
      "source": [
        "df.dropna()"
      ],
      "execution_count": 23,
      "outputs": [
        {
          "output_type": "execute_result",
          "data": {
            "text/html": [
              "<div>\n",
              "<style scoped>\n",
              "    .dataframe tbody tr th:only-of-type {\n",
              "        vertical-align: middle;\n",
              "    }\n",
              "\n",
              "    .dataframe tbody tr th {\n",
              "        vertical-align: top;\n",
              "    }\n",
              "\n",
              "    .dataframe thead th {\n",
              "        text-align: right;\n",
              "    }\n",
              "</style>\n",
              "<table border=\"1\" class=\"dataframe\">\n",
              "  <thead>\n",
              "    <tr style=\"text-align: right;\">\n",
              "      <th></th>\n",
              "      <th>Elapsed time</th>\n",
              "      <th>ECG</th>\n",
              "      <th>EMG</th>\n",
              "      <th>foot GSR</th>\n",
              "      <th>hand GSr</th>\n",
              "      <th>HR</th>\n",
              "      <th>marker</th>\n",
              "      <th>RESP</th>\n",
              "    </tr>\n",
              "  </thead>\n",
              "  <tbody>\n",
              "    <tr>\n",
              "      <th>0</th>\n",
              "      <td>'0:00.000'</td>\n",
              "      <td>-0.044</td>\n",
              "      <td>0.036</td>\n",
              "      <td>8.763</td>\n",
              "      <td>5.675</td>\n",
              "      <td>88</td>\n",
              "      <td>10.85</td>\n",
              "      <td>43.54</td>\n",
              "    </tr>\n",
              "    <tr>\n",
              "      <th>1</th>\n",
              "      <td>'0:00.002'</td>\n",
              "      <td>-0.037</td>\n",
              "      <td>0.036</td>\n",
              "      <td>8.763</td>\n",
              "      <td>5.675</td>\n",
              "      <td>88</td>\n",
              "      <td>10.85</td>\n",
              "      <td>43.54</td>\n",
              "    </tr>\n",
              "    <tr>\n",
              "      <th>2</th>\n",
              "      <td>'0:00.004'</td>\n",
              "      <td>-0.031</td>\n",
              "      <td>0.036</td>\n",
              "      <td>8.763</td>\n",
              "      <td>5.675</td>\n",
              "      <td>88</td>\n",
              "      <td>10.85</td>\n",
              "      <td>43.54</td>\n",
              "    </tr>\n",
              "    <tr>\n",
              "      <th>3</th>\n",
              "      <td>'0:00.006'</td>\n",
              "      <td>-0.023</td>\n",
              "      <td>0.036</td>\n",
              "      <td>8.763</td>\n",
              "      <td>5.675</td>\n",
              "      <td>88</td>\n",
              "      <td>10.85</td>\n",
              "      <td>43.54</td>\n",
              "    </tr>\n",
              "    <tr>\n",
              "      <th>4</th>\n",
              "      <td>'0:00.008'</td>\n",
              "      <td>-0.018</td>\n",
              "      <td>0.036</td>\n",
              "      <td>8.763</td>\n",
              "      <td>5.675</td>\n",
              "      <td>88</td>\n",
              "      <td>10.85</td>\n",
              "      <td>43.54</td>\n",
              "    </tr>\n",
              "    <tr>\n",
              "      <th>...</th>\n",
              "      <td>...</td>\n",
              "      <td>...</td>\n",
              "      <td>...</td>\n",
              "      <td>...</td>\n",
              "      <td>...</td>\n",
              "      <td>...</td>\n",
              "      <td>...</td>\n",
              "      <td>...</td>\n",
              "    </tr>\n",
              "    <tr>\n",
              "      <th>1048569</th>\n",
              "      <td>'35:14.050'</td>\n",
              "      <td>-0.037</td>\n",
              "      <td>0.233</td>\n",
              "      <td>12.609</td>\n",
              "      <td>6.881</td>\n",
              "      <td>71</td>\n",
              "      <td>11.22</td>\n",
              "      <td>35.12</td>\n",
              "    </tr>\n",
              "    <tr>\n",
              "      <th>1048570</th>\n",
              "      <td>'35:14.052'</td>\n",
              "      <td>-0.001</td>\n",
              "      <td>0.233</td>\n",
              "      <td>12.609</td>\n",
              "      <td>6.881</td>\n",
              "      <td>71</td>\n",
              "      <td>11.22</td>\n",
              "      <td>35.12</td>\n",
              "    </tr>\n",
              "    <tr>\n",
              "      <th>1048571</th>\n",
              "      <td>'35:14.054'</td>\n",
              "      <td>0.022</td>\n",
              "      <td>0.233</td>\n",
              "      <td>12.609</td>\n",
              "      <td>6.881</td>\n",
              "      <td>71</td>\n",
              "      <td>11.22</td>\n",
              "      <td>35.12</td>\n",
              "    </tr>\n",
              "    <tr>\n",
              "      <th>1048572</th>\n",
              "      <td>'35:14.056'</td>\n",
              "      <td>0.011</td>\n",
              "      <td>0.233</td>\n",
              "      <td>12.609</td>\n",
              "      <td>6.881</td>\n",
              "      <td>71</td>\n",
              "      <td>11.22</td>\n",
              "      <td>35.12</td>\n",
              "    </tr>\n",
              "    <tr>\n",
              "      <th>1048573</th>\n",
              "      <td>'35:14.058'</td>\n",
              "      <td>-0.016</td>\n",
              "      <td>0.233</td>\n",
              "      <td>12.609</td>\n",
              "      <td>6.881</td>\n",
              "      <td>71</td>\n",
              "      <td>11.22</td>\n",
              "      <td>35.12</td>\n",
              "    </tr>\n",
              "  </tbody>\n",
              "</table>\n",
              "<p>1048574 rows × 8 columns</p>\n",
              "</div>"
            ],
            "text/plain": [
              "        Elapsed time    ECG    EMG  foot GSR  hand GSr  HR  marker   RESP\n",
              "0         '0:00.000' -0.044  0.036     8.763     5.675  88   10.85  43.54\n",
              "1         '0:00.002' -0.037  0.036     8.763     5.675  88   10.85  43.54\n",
              "2         '0:00.004' -0.031  0.036     8.763     5.675  88   10.85  43.54\n",
              "3         '0:00.006' -0.023  0.036     8.763     5.675  88   10.85  43.54\n",
              "4         '0:00.008' -0.018  0.036     8.763     5.675  88   10.85  43.54\n",
              "...              ...    ...    ...       ...       ...  ..     ...    ...\n",
              "1048569  '35:14.050' -0.037  0.233    12.609     6.881  71   11.22  35.12\n",
              "1048570  '35:14.052' -0.001  0.233    12.609     6.881  71   11.22  35.12\n",
              "1048571  '35:14.054'  0.022  0.233    12.609     6.881  71   11.22  35.12\n",
              "1048572  '35:14.056'  0.011  0.233    12.609     6.881  71   11.22  35.12\n",
              "1048573  '35:14.058' -0.016  0.233    12.609     6.881  71   11.22  35.12\n",
              "\n",
              "[1048574 rows x 8 columns]"
            ]
          },
          "metadata": {
            "tags": []
          },
          "execution_count": 23
        }
      ]
    },
    {
      "cell_type": "code",
      "metadata": {
        "id": "2B5SgOPcDNYl"
      },
      "source": [
        "df2=df.replace({'\\'': ''}, regex=True)"
      ],
      "execution_count": 24,
      "outputs": []
    },
    {
      "cell_type": "code",
      "metadata": {
        "scrolled": true,
        "id": "_JaF4W0nDNYl",
        "outputId": "ba9855ff-31c3-4d34-d0ab-85f6970f759c",
        "colab": {
          "base_uri": "https://localhost:8080/",
          "height": 417
        }
      },
      "source": [
        "df2"
      ],
      "execution_count": 25,
      "outputs": [
        {
          "output_type": "execute_result",
          "data": {
            "text/html": [
              "<div>\n",
              "<style scoped>\n",
              "    .dataframe tbody tr th:only-of-type {\n",
              "        vertical-align: middle;\n",
              "    }\n",
              "\n",
              "    .dataframe tbody tr th {\n",
              "        vertical-align: top;\n",
              "    }\n",
              "\n",
              "    .dataframe thead th {\n",
              "        text-align: right;\n",
              "    }\n",
              "</style>\n",
              "<table border=\"1\" class=\"dataframe\">\n",
              "  <thead>\n",
              "    <tr style=\"text-align: right;\">\n",
              "      <th></th>\n",
              "      <th>Elapsed time</th>\n",
              "      <th>ECG</th>\n",
              "      <th>EMG</th>\n",
              "      <th>foot GSR</th>\n",
              "      <th>hand GSr</th>\n",
              "      <th>HR</th>\n",
              "      <th>marker</th>\n",
              "      <th>RESP</th>\n",
              "    </tr>\n",
              "  </thead>\n",
              "  <tbody>\n",
              "    <tr>\n",
              "      <th>0</th>\n",
              "      <td>0:00.000</td>\n",
              "      <td>-0.044</td>\n",
              "      <td>0.036</td>\n",
              "      <td>8.763</td>\n",
              "      <td>5.675</td>\n",
              "      <td>88</td>\n",
              "      <td>10.85</td>\n",
              "      <td>43.54</td>\n",
              "    </tr>\n",
              "    <tr>\n",
              "      <th>1</th>\n",
              "      <td>0:00.002</td>\n",
              "      <td>-0.037</td>\n",
              "      <td>0.036</td>\n",
              "      <td>8.763</td>\n",
              "      <td>5.675</td>\n",
              "      <td>88</td>\n",
              "      <td>10.85</td>\n",
              "      <td>43.54</td>\n",
              "    </tr>\n",
              "    <tr>\n",
              "      <th>2</th>\n",
              "      <td>0:00.004</td>\n",
              "      <td>-0.031</td>\n",
              "      <td>0.036</td>\n",
              "      <td>8.763</td>\n",
              "      <td>5.675</td>\n",
              "      <td>88</td>\n",
              "      <td>10.85</td>\n",
              "      <td>43.54</td>\n",
              "    </tr>\n",
              "    <tr>\n",
              "      <th>3</th>\n",
              "      <td>0:00.006</td>\n",
              "      <td>-0.023</td>\n",
              "      <td>0.036</td>\n",
              "      <td>8.763</td>\n",
              "      <td>5.675</td>\n",
              "      <td>88</td>\n",
              "      <td>10.85</td>\n",
              "      <td>43.54</td>\n",
              "    </tr>\n",
              "    <tr>\n",
              "      <th>4</th>\n",
              "      <td>0:00.008</td>\n",
              "      <td>-0.018</td>\n",
              "      <td>0.036</td>\n",
              "      <td>8.763</td>\n",
              "      <td>5.675</td>\n",
              "      <td>88</td>\n",
              "      <td>10.85</td>\n",
              "      <td>43.54</td>\n",
              "    </tr>\n",
              "    <tr>\n",
              "      <th>...</th>\n",
              "      <td>...</td>\n",
              "      <td>...</td>\n",
              "      <td>...</td>\n",
              "      <td>...</td>\n",
              "      <td>...</td>\n",
              "      <td>...</td>\n",
              "      <td>...</td>\n",
              "      <td>...</td>\n",
              "    </tr>\n",
              "    <tr>\n",
              "      <th>1048569</th>\n",
              "      <td>35:14.050</td>\n",
              "      <td>-0.037</td>\n",
              "      <td>0.233</td>\n",
              "      <td>12.609</td>\n",
              "      <td>6.881</td>\n",
              "      <td>71</td>\n",
              "      <td>11.22</td>\n",
              "      <td>35.12</td>\n",
              "    </tr>\n",
              "    <tr>\n",
              "      <th>1048570</th>\n",
              "      <td>35:14.052</td>\n",
              "      <td>-0.001</td>\n",
              "      <td>0.233</td>\n",
              "      <td>12.609</td>\n",
              "      <td>6.881</td>\n",
              "      <td>71</td>\n",
              "      <td>11.22</td>\n",
              "      <td>35.12</td>\n",
              "    </tr>\n",
              "    <tr>\n",
              "      <th>1048571</th>\n",
              "      <td>35:14.054</td>\n",
              "      <td>0.022</td>\n",
              "      <td>0.233</td>\n",
              "      <td>12.609</td>\n",
              "      <td>6.881</td>\n",
              "      <td>71</td>\n",
              "      <td>11.22</td>\n",
              "      <td>35.12</td>\n",
              "    </tr>\n",
              "    <tr>\n",
              "      <th>1048572</th>\n",
              "      <td>35:14.056</td>\n",
              "      <td>0.011</td>\n",
              "      <td>0.233</td>\n",
              "      <td>12.609</td>\n",
              "      <td>6.881</td>\n",
              "      <td>71</td>\n",
              "      <td>11.22</td>\n",
              "      <td>35.12</td>\n",
              "    </tr>\n",
              "    <tr>\n",
              "      <th>1048573</th>\n",
              "      <td>35:14.058</td>\n",
              "      <td>-0.016</td>\n",
              "      <td>0.233</td>\n",
              "      <td>12.609</td>\n",
              "      <td>6.881</td>\n",
              "      <td>71</td>\n",
              "      <td>11.22</td>\n",
              "      <td>35.12</td>\n",
              "    </tr>\n",
              "  </tbody>\n",
              "</table>\n",
              "<p>1048574 rows × 8 columns</p>\n",
              "</div>"
            ],
            "text/plain": [
              "        Elapsed time    ECG    EMG  foot GSR  hand GSr  HR  marker   RESP\n",
              "0           0:00.000 -0.044  0.036     8.763     5.675  88   10.85  43.54\n",
              "1           0:00.002 -0.037  0.036     8.763     5.675  88   10.85  43.54\n",
              "2           0:00.004 -0.031  0.036     8.763     5.675  88   10.85  43.54\n",
              "3           0:00.006 -0.023  0.036     8.763     5.675  88   10.85  43.54\n",
              "4           0:00.008 -0.018  0.036     8.763     5.675  88   10.85  43.54\n",
              "...              ...    ...    ...       ...       ...  ..     ...    ...\n",
              "1048569    35:14.050 -0.037  0.233    12.609     6.881  71   11.22  35.12\n",
              "1048570    35:14.052 -0.001  0.233    12.609     6.881  71   11.22  35.12\n",
              "1048571    35:14.054  0.022  0.233    12.609     6.881  71   11.22  35.12\n",
              "1048572    35:14.056  0.011  0.233    12.609     6.881  71   11.22  35.12\n",
              "1048573    35:14.058 -0.016  0.233    12.609     6.881  71   11.22  35.12\n",
              "\n",
              "[1048574 rows x 8 columns]"
            ]
          },
          "metadata": {
            "tags": []
          },
          "execution_count": 25
        }
      ]
    },
    {
      "cell_type": "code",
      "metadata": {
        "id": "ZmUhHwAMDNYl",
        "outputId": "053baee8-082a-4564-a0bb-175dab06834b",
        "colab": {
          "base_uri": "https://localhost:8080/",
          "height": 447
        }
      },
      "source": [
        "df2.set_index('Elapsed time')"
      ],
      "execution_count": 26,
      "outputs": [
        {
          "output_type": "execute_result",
          "data": {
            "text/html": [
              "<div>\n",
              "<style scoped>\n",
              "    .dataframe tbody tr th:only-of-type {\n",
              "        vertical-align: middle;\n",
              "    }\n",
              "\n",
              "    .dataframe tbody tr th {\n",
              "        vertical-align: top;\n",
              "    }\n",
              "\n",
              "    .dataframe thead th {\n",
              "        text-align: right;\n",
              "    }\n",
              "</style>\n",
              "<table border=\"1\" class=\"dataframe\">\n",
              "  <thead>\n",
              "    <tr style=\"text-align: right;\">\n",
              "      <th></th>\n",
              "      <th>ECG</th>\n",
              "      <th>EMG</th>\n",
              "      <th>foot GSR</th>\n",
              "      <th>hand GSr</th>\n",
              "      <th>HR</th>\n",
              "      <th>marker</th>\n",
              "      <th>RESP</th>\n",
              "    </tr>\n",
              "    <tr>\n",
              "      <th>Elapsed time</th>\n",
              "      <th></th>\n",
              "      <th></th>\n",
              "      <th></th>\n",
              "      <th></th>\n",
              "      <th></th>\n",
              "      <th></th>\n",
              "      <th></th>\n",
              "    </tr>\n",
              "  </thead>\n",
              "  <tbody>\n",
              "    <tr>\n",
              "      <th>0:00.000</th>\n",
              "      <td>-0.044</td>\n",
              "      <td>0.036</td>\n",
              "      <td>8.763</td>\n",
              "      <td>5.675</td>\n",
              "      <td>88</td>\n",
              "      <td>10.85</td>\n",
              "      <td>43.54</td>\n",
              "    </tr>\n",
              "    <tr>\n",
              "      <th>0:00.002</th>\n",
              "      <td>-0.037</td>\n",
              "      <td>0.036</td>\n",
              "      <td>8.763</td>\n",
              "      <td>5.675</td>\n",
              "      <td>88</td>\n",
              "      <td>10.85</td>\n",
              "      <td>43.54</td>\n",
              "    </tr>\n",
              "    <tr>\n",
              "      <th>0:00.004</th>\n",
              "      <td>-0.031</td>\n",
              "      <td>0.036</td>\n",
              "      <td>8.763</td>\n",
              "      <td>5.675</td>\n",
              "      <td>88</td>\n",
              "      <td>10.85</td>\n",
              "      <td>43.54</td>\n",
              "    </tr>\n",
              "    <tr>\n",
              "      <th>0:00.006</th>\n",
              "      <td>-0.023</td>\n",
              "      <td>0.036</td>\n",
              "      <td>8.763</td>\n",
              "      <td>5.675</td>\n",
              "      <td>88</td>\n",
              "      <td>10.85</td>\n",
              "      <td>43.54</td>\n",
              "    </tr>\n",
              "    <tr>\n",
              "      <th>0:00.008</th>\n",
              "      <td>-0.018</td>\n",
              "      <td>0.036</td>\n",
              "      <td>8.763</td>\n",
              "      <td>5.675</td>\n",
              "      <td>88</td>\n",
              "      <td>10.85</td>\n",
              "      <td>43.54</td>\n",
              "    </tr>\n",
              "    <tr>\n",
              "      <th>...</th>\n",
              "      <td>...</td>\n",
              "      <td>...</td>\n",
              "      <td>...</td>\n",
              "      <td>...</td>\n",
              "      <td>...</td>\n",
              "      <td>...</td>\n",
              "      <td>...</td>\n",
              "    </tr>\n",
              "    <tr>\n",
              "      <th>35:14.050</th>\n",
              "      <td>-0.037</td>\n",
              "      <td>0.233</td>\n",
              "      <td>12.609</td>\n",
              "      <td>6.881</td>\n",
              "      <td>71</td>\n",
              "      <td>11.22</td>\n",
              "      <td>35.12</td>\n",
              "    </tr>\n",
              "    <tr>\n",
              "      <th>35:14.052</th>\n",
              "      <td>-0.001</td>\n",
              "      <td>0.233</td>\n",
              "      <td>12.609</td>\n",
              "      <td>6.881</td>\n",
              "      <td>71</td>\n",
              "      <td>11.22</td>\n",
              "      <td>35.12</td>\n",
              "    </tr>\n",
              "    <tr>\n",
              "      <th>35:14.054</th>\n",
              "      <td>0.022</td>\n",
              "      <td>0.233</td>\n",
              "      <td>12.609</td>\n",
              "      <td>6.881</td>\n",
              "      <td>71</td>\n",
              "      <td>11.22</td>\n",
              "      <td>35.12</td>\n",
              "    </tr>\n",
              "    <tr>\n",
              "      <th>35:14.056</th>\n",
              "      <td>0.011</td>\n",
              "      <td>0.233</td>\n",
              "      <td>12.609</td>\n",
              "      <td>6.881</td>\n",
              "      <td>71</td>\n",
              "      <td>11.22</td>\n",
              "      <td>35.12</td>\n",
              "    </tr>\n",
              "    <tr>\n",
              "      <th>35:14.058</th>\n",
              "      <td>-0.016</td>\n",
              "      <td>0.233</td>\n",
              "      <td>12.609</td>\n",
              "      <td>6.881</td>\n",
              "      <td>71</td>\n",
              "      <td>11.22</td>\n",
              "      <td>35.12</td>\n",
              "    </tr>\n",
              "  </tbody>\n",
              "</table>\n",
              "<p>1048574 rows × 7 columns</p>\n",
              "</div>"
            ],
            "text/plain": [
              "                ECG    EMG  foot GSR  hand GSr  HR  marker   RESP\n",
              "Elapsed time                                                     \n",
              "0:00.000     -0.044  0.036     8.763     5.675  88   10.85  43.54\n",
              "0:00.002     -0.037  0.036     8.763     5.675  88   10.85  43.54\n",
              "0:00.004     -0.031  0.036     8.763     5.675  88   10.85  43.54\n",
              "0:00.006     -0.023  0.036     8.763     5.675  88   10.85  43.54\n",
              "0:00.008     -0.018  0.036     8.763     5.675  88   10.85  43.54\n",
              "...             ...    ...       ...       ...  ..     ...    ...\n",
              "35:14.050    -0.037  0.233    12.609     6.881  71   11.22  35.12\n",
              "35:14.052    -0.001  0.233    12.609     6.881  71   11.22  35.12\n",
              "35:14.054     0.022  0.233    12.609     6.881  71   11.22  35.12\n",
              "35:14.056     0.011  0.233    12.609     6.881  71   11.22  35.12\n",
              "35:14.058    -0.016  0.233    12.609     6.881  71   11.22  35.12\n",
              "\n",
              "[1048574 rows x 7 columns]"
            ]
          },
          "metadata": {
            "tags": []
          },
          "execution_count": 26
        }
      ]
    },
    {
      "cell_type": "code",
      "metadata": {
        "id": "H9uN9sgfDNYm",
        "outputId": "6fca9381-dbb6-4bf9-9872-b57535656264",
        "colab": {
          "base_uri": "https://localhost:8080/",
          "height": 295
        }
      },
      "source": [
        "df2.describe()"
      ],
      "execution_count": 27,
      "outputs": [
        {
          "output_type": "execute_result",
          "data": {
            "text/html": [
              "<div>\n",
              "<style scoped>\n",
              "    .dataframe tbody tr th:only-of-type {\n",
              "        vertical-align: middle;\n",
              "    }\n",
              "\n",
              "    .dataframe tbody tr th {\n",
              "        vertical-align: top;\n",
              "    }\n",
              "\n",
              "    .dataframe thead th {\n",
              "        text-align: right;\n",
              "    }\n",
              "</style>\n",
              "<table border=\"1\" class=\"dataframe\">\n",
              "  <thead>\n",
              "    <tr style=\"text-align: right;\">\n",
              "      <th></th>\n",
              "      <th>ECG</th>\n",
              "      <th>EMG</th>\n",
              "      <th>foot GSR</th>\n",
              "      <th>hand GSr</th>\n",
              "      <th>HR</th>\n",
              "      <th>marker</th>\n",
              "      <th>RESP</th>\n",
              "    </tr>\n",
              "  </thead>\n",
              "  <tbody>\n",
              "    <tr>\n",
              "      <th>count</th>\n",
              "      <td>1.048574e+06</td>\n",
              "      <td>1.048574e+06</td>\n",
              "      <td>1.048574e+06</td>\n",
              "      <td>1.048574e+06</td>\n",
              "      <td>1.048574e+06</td>\n",
              "      <td>1.048574e+06</td>\n",
              "      <td>1.048574e+06</td>\n",
              "    </tr>\n",
              "    <tr>\n",
              "      <th>mean</th>\n",
              "      <td>-3.469524e-03</td>\n",
              "      <td>1.491908e-01</td>\n",
              "      <td>9.141651e+00</td>\n",
              "      <td>6.170585e+00</td>\n",
              "      <td>7.593876e+01</td>\n",
              "      <td>1.177907e+01</td>\n",
              "      <td>3.841916e+01</td>\n",
              "    </tr>\n",
              "    <tr>\n",
              "      <th>std</th>\n",
              "      <td>2.150053e-01</td>\n",
              "      <td>3.429084e-01</td>\n",
              "      <td>3.107835e+00</td>\n",
              "      <td>2.147025e+00</td>\n",
              "      <td>8.188724e+00</td>\n",
              "      <td>2.236462e+00</td>\n",
              "      <td>3.303137e+00</td>\n",
              "    </tr>\n",
              "    <tr>\n",
              "      <th>min</th>\n",
              "      <td>-4.142000e+00</td>\n",
              "      <td>-8.154000e+00</td>\n",
              "      <td>4.375000e+00</td>\n",
              "      <td>0.000000e+00</td>\n",
              "      <td>4.300000e+01</td>\n",
              "      <td>0.000000e+00</td>\n",
              "      <td>2.909000e+01</td>\n",
              "    </tr>\n",
              "    <tr>\n",
              "      <th>25%</th>\n",
              "      <td>-8.700000e-02</td>\n",
              "      <td>4.600000e-02</td>\n",
              "      <td>5.961000e+00</td>\n",
              "      <td>4.331000e+00</td>\n",
              "      <td>7.000000e+01</td>\n",
              "      <td>1.026000e+01</td>\n",
              "      <td>3.553000e+01</td>\n",
              "    </tr>\n",
              "    <tr>\n",
              "      <th>50%</th>\n",
              "      <td>-4.900000e-02</td>\n",
              "      <td>6.200000e-02</td>\n",
              "      <td>9.829000e+00</td>\n",
              "      <td>6.292000e+00</td>\n",
              "      <td>7.500000e+01</td>\n",
              "      <td>1.124000e+01</td>\n",
              "      <td>3.937000e+01</td>\n",
              "    </tr>\n",
              "    <tr>\n",
              "      <th>75%</th>\n",
              "      <td>2.900000e-02</td>\n",
              "      <td>1.190000e-01</td>\n",
              "      <td>1.187000e+01</td>\n",
              "      <td>7.766000e+00</td>\n",
              "      <td>8.200000e+01</td>\n",
              "      <td>1.300000e+01</td>\n",
              "      <td>4.089000e+01</td>\n",
              "    </tr>\n",
              "    <tr>\n",
              "      <th>max</th>\n",
              "      <td>2.351000e+00</td>\n",
              "      <td>8.121000e+00</td>\n",
              "      <td>1.567100e+01</td>\n",
              "      <td>1.385700e+01</td>\n",
              "      <td>1.070000e+02</td>\n",
              "      <td>8.777000e+01</td>\n",
              "      <td>5.794000e+01</td>\n",
              "    </tr>\n",
              "  </tbody>\n",
              "</table>\n",
              "</div>"
            ],
            "text/plain": [
              "                ECG           EMG  ...        marker          RESP\n",
              "count  1.048574e+06  1.048574e+06  ...  1.048574e+06  1.048574e+06\n",
              "mean  -3.469524e-03  1.491908e-01  ...  1.177907e+01  3.841916e+01\n",
              "std    2.150053e-01  3.429084e-01  ...  2.236462e+00  3.303137e+00\n",
              "min   -4.142000e+00 -8.154000e+00  ...  0.000000e+00  2.909000e+01\n",
              "25%   -8.700000e-02  4.600000e-02  ...  1.026000e+01  3.553000e+01\n",
              "50%   -4.900000e-02  6.200000e-02  ...  1.124000e+01  3.937000e+01\n",
              "75%    2.900000e-02  1.190000e-01  ...  1.300000e+01  4.089000e+01\n",
              "max    2.351000e+00  8.121000e+00  ...  8.777000e+01  5.794000e+01\n",
              "\n",
              "[8 rows x 7 columns]"
            ]
          },
          "metadata": {
            "tags": []
          },
          "execution_count": 27
        }
      ]
    },
    {
      "cell_type": "markdown",
      "metadata": {
        "id": "qFWG7IO7DNYm"
      },
      "source": [
        "## Plotting DataFrames\n",
        "In the following example, we shall demonstrate how to plot the columns of the dataframe against the time index using the matplotlib module. "
      ]
    },
    {
      "cell_type": "code",
      "metadata": {
        "id": "jYVutnnxDNYm",
        "outputId": "c2c5ee65-b38b-4a62-d519-2a386e4cdee1",
        "colab": {
          "base_uri": "https://localhost:8080/",
          "height": 297
        }
      },
      "source": [
        "%matplotlib inline  \n",
        "%pylab inline\n",
        "import matplotlib.pyplot as plt\n",
        "df2.plot(lw=2., grid=True)\n",
        "plt.xlabel('Elapsed time')\n",
        "plt.ylabel('All signals')\n",
        "plt.savefig('output.png')"
      ],
      "execution_count": 28,
      "outputs": [
        {
          "output_type": "stream",
          "text": [
            "Populating the interactive namespace from numpy and matplotlib\n"
          ],
          "name": "stdout"
        },
        {
          "output_type": "display_data",
          "data": {
            "image/png": "[encoded data removed]",
            "text/plain": [
              "<Figure size 432x288 with 1 Axes>"
            ]
          },
          "metadata": {
            "tags": [],
            "needs_background": "light"
          }
        }
      ]
    },
    {
      "cell_type": "markdown",
      "metadata": {
        "id": "dKtTtOG1DNYm"
      },
      "source": [
        "We observe that the different instruments, i.e. the columns, are scaled differently. It is therefore convenient to normalize the data by calculating the returns. We shall first perform a quick visual check that the normalized data looks 'reasonable'. We use the tail() member function of the dataframe to view the 5 most recent observations of the data. "
      ]
    },
    {
      "cell_type": "code",
      "metadata": {
        "id": "Wbd2Oaw_DNYm",
        "outputId": "c0ea1c0d-b5d3-48de-a275-57eaa9b83850",
        "colab": {
          "base_uri": "https://localhost:8080/"
        }
      },
      "source": [
        "Cols=df2.columns.values.tolist()[1:]\n",
        "Cols"
      ],
      "execution_count": 29,
      "outputs": [
        {
          "output_type": "execute_result",
          "data": {
            "text/plain": [
              "['ECG', 'EMG', 'foot GSR', 'hand GSr', 'HR', 'marker', 'RESP']"
            ]
          },
          "metadata": {
            "tags": []
          },
          "execution_count": 29
        }
      ]
    },
    {
      "cell_type": "markdown",
      "metadata": {
        "id": "OaifI5pbDNYm"
      },
      "source": [
        "We measure the correlation between time series. Here we shall explore VIX returns and its relation to single named equity returns in order to observe the \"leverage effect\". We shall print the pair-wise correlations in addition to producing scatter plots of the equity returns against the VIX returns."
      ]
    },
    {
      "cell_type": "code",
      "metadata": {
        "id": "WpQOTighDNYm",
        "outputId": "de9e5e64-ae0d-4ba9-deae-17de911b6dd7",
        "colab": {
          "base_uri": "https://localhost:8080/",
          "height": 110
        }
      },
      "source": [
        "df2[['ECG','HR']].corr()"
      ],
      "execution_count": 30,
      "outputs": [
        {
          "output_type": "execute_result",
          "data": {
            "text/html": [
              "<div>\n",
              "<style scoped>\n",
              "    .dataframe tbody tr th:only-of-type {\n",
              "        vertical-align: middle;\n",
              "    }\n",
              "\n",
              "    .dataframe tbody tr th {\n",
              "        vertical-align: top;\n",
              "    }\n",
              "\n",
              "    .dataframe thead th {\n",
              "        text-align: right;\n",
              "    }\n",
              "</style>\n",
              "<table border=\"1\" class=\"dataframe\">\n",
              "  <thead>\n",
              "    <tr style=\"text-align: right;\">\n",
              "      <th></th>\n",
              "      <th>ECG</th>\n",
              "      <th>HR</th>\n",
              "    </tr>\n",
              "  </thead>\n",
              "  <tbody>\n",
              "    <tr>\n",
              "      <th>ECG</th>\n",
              "      <td>1.00000</td>\n",
              "      <td>-0.00469</td>\n",
              "    </tr>\n",
              "    <tr>\n",
              "      <th>HR</th>\n",
              "      <td>-0.00469</td>\n",
              "      <td>1.00000</td>\n",
              "    </tr>\n",
              "  </tbody>\n",
              "</table>\n",
              "</div>"
            ],
            "text/plain": [
              "         ECG       HR\n",
              "ECG  1.00000 -0.00469\n",
              "HR  -0.00469  1.00000"
            ]
          },
          "metadata": {
            "tags": []
          },
          "execution_count": 30
        }
      ]
    },
    {
      "cell_type": "markdown",
      "metadata": {
        "id": "pHc9RkFVDNYm"
      },
      "source": [
        "# Exercise #2: Calcualte the correlation matrix for all attributes.\n",
        "Hint: add attributes"
      ]
    },
    {
      "cell_type": "code",
      "metadata": {
        "id": "OXg0MuhNDNYm",
        "outputId": "28bb6d10-8004-44af-bf2b-b6049088bf4e",
        "colab": {
          "base_uri": "https://localhost:8080/",
          "height": 1000
        }
      },
      "source": [
        "for symbol in Cols:\n",
        "  xdat = df2[symbol]\n",
        "  ydat = df2['HR']\n",
        "  plt.plot(xdat, ydat, 'b.')\n",
        "  ax = plt.axis()  # grab axis values\n",
        "  plt.grid(True)\n",
        "  plt.xlabel(symbol)\n",
        "  plt.ylabel('HR')\n",
        "  plt.show()"
      ],
      "execution_count": 31,
      "outputs": [
        {
          "output_type": "display_data",
          "data": {
            "image/png": "[encoded data removed]",
            "text/plain": [
              "<Figure size 432x288 with 1 Axes>"
            ]
          },
          "metadata": {
            "tags": [],
            "needs_background": "light"
          }
        },
        {
          "output_type": "display_data",
          "data": {
            "image/png": "[encoded data removed]",
            "text/plain": [
              "<Figure size 432x288 with 1 Axes>"
            ]
          },
          "metadata": {
            "tags": [],
            "needs_background": "light"
          }
        },
        {
          "output_type": "display_data",
          "data": {
            "image/png": "[encoded data removed]",
            "text/plain": [
              "<Figure size 432x288 with 1 Axes>"
            ]
          },
          "metadata": {
            "tags": [],
            "needs_background": "light"
          }
        },
        {
          "output_type": "display_data",
          "data": {
            "image/png": "[encoded data removed]",
            "text/plain": [
              "<Figure size 432x288 with 1 Axes>"
            ]
          },
          "metadata": {
            "tags": [],
            "needs_background": "light"
          }
        },
        {
          "output_type": "display_data",
          "data": {
            "image/png": "[encoded data removed]",
            "text/plain": [
              "<Figure size 432x288 with 1 Axes>"
            ]
          },
          "metadata": {
            "tags": [],
            "needs_background": "light"
          }
        },
        {
          "output_type": "display_data",
          "data": {
            "image/png": "[encoded data removed]",
            "text/plain": [
              "<Figure size 432x288 with 1 Axes>"
            ]
          },
          "metadata": {
            "tags": [],
            "needs_background": "light"
          }
        },
        {
          "output_type": "display_data",
          "data": {
            "image/png": "[encoded data removed]",
            "text/plain": [
              "<Figure size 432x288 with 1 Axes>"
            ]
          },
          "metadata": {
            "tags": [],
            "needs_background": "light"
          }
        }
      ]
    },
    {
      "cell_type": "code",
      "metadata": {
        "id": "AyczWW3cDNYm"
      },
      "source": [
        ""
      ],
      "execution_count": 31,
      "outputs": []
    },
    {
      "cell_type": "markdown",
      "metadata": {
        "id": "LDO1qUveDNYm"
      },
      "source": [
        "# Excercise #3: Plot the two attributes that are highly correlated.\n",
        "Hint: check the correlation matrix"
      ]
    },
    {
      "cell_type": "code",
      "metadata": {
        "id": "DJ7-mrcnDNYm",
        "outputId": "7267c2e5-a021-48ca-bc9e-c54a68b976a7",
        "colab": {
          "base_uri": "https://localhost:8080/"
        }
      },
      "source": [
        "df2['ECG'].diff() # easy way to calculate log differences"
      ],
      "execution_count": 32,
      "outputs": [
        {
          "output_type": "execute_result",
          "data": {
            "text/plain": [
              "0            NaN\n",
              "1          0.007\n",
              "2          0.006\n",
              "3          0.008\n",
              "4          0.005\n",
              "           ...  \n",
              "1048569    0.025\n",
              "1048570    0.036\n",
              "1048571    0.023\n",
              "1048572   -0.011\n",
              "1048573   -0.027\n",
              "Name: ECG, Length: 1048574, dtype: float64"
            ]
          },
          "metadata": {
            "tags": []
          },
          "execution_count": 32
        }
      ]
    },
    {
      "cell_type": "code",
      "metadata": {
        "id": "zCrkILWBDNYm",
        "outputId": "57037dd7-6071-4fff-c788-f86d434349ee",
        "colab": {
          "base_uri": "https://localhost:8080/"
        }
      },
      "source": [
        "df2['ECG'].diff().dropna() # can also drop NaN values"
      ],
      "execution_count": 33,
      "outputs": [
        {
          "output_type": "execute_result",
          "data": {
            "text/plain": [
              "1          0.007\n",
              "2          0.006\n",
              "3          0.008\n",
              "4          0.005\n",
              "5          0.001\n",
              "           ...  \n",
              "1048569    0.025\n",
              "1048570    0.036\n",
              "1048571    0.023\n",
              "1048572   -0.011\n",
              "1048573   -0.027\n",
              "Name: ECG, Length: 1048573, dtype: float64"
            ]
          },
          "metadata": {
            "tags": []
          },
          "execution_count": 33
        }
      ]
    },
    {
      "cell_type": "code",
      "metadata": {
        "id": "FR_piOCCDNYm",
        "outputId": "8b5b45de-6403-4641-d904-bdac6528dcfc",
        "colab": {
          "base_uri": "https://localhost:8080/"
        }
      },
      "source": [
        "#We can create bolean vectors \n",
        "df2['ECG'].diff().head(10) > 0.006"
      ],
      "execution_count": 34,
      "outputs": [
        {
          "output_type": "execute_result",
          "data": {
            "text/plain": [
              "0    False\n",
              "1     True\n",
              "2     True\n",
              "3     True\n",
              "4    False\n",
              "5    False\n",
              "6    False\n",
              "7    False\n",
              "8    False\n",
              "9    False\n",
              "Name: ECG, dtype: bool"
            ]
          },
          "metadata": {
            "tags": []
          },
          "execution_count": 34
        }
      ]
    },
    {
      "cell_type": "code",
      "metadata": {
        "id": "ppcrYNtHDNYm",
        "outputId": "caae7377-bf52-4f28-e068-8a1e4ad4ae15",
        "colab": {
          "base_uri": "https://localhost:8080/",
          "height": 203
        }
      },
      "source": [
        "#and we can use the vectors to chose the elements in the dataframe\n",
        "df2[df2['ECG'] > 0.03].head()"
      ],
      "execution_count": 35,
      "outputs": [
        {
          "output_type": "execute_result",
          "data": {
            "text/html": [
              "<div>\n",
              "<style scoped>\n",
              "    .dataframe tbody tr th:only-of-type {\n",
              "        vertical-align: middle;\n",
              "    }\n",
              "\n",
              "    .dataframe tbody tr th {\n",
              "        vertical-align: top;\n",
              "    }\n",
              "\n",
              "    .dataframe thead th {\n",
              "        text-align: right;\n",
              "    }\n",
              "</style>\n",
              "<table border=\"1\" class=\"dataframe\">\n",
              "  <thead>\n",
              "    <tr style=\"text-align: right;\">\n",
              "      <th></th>\n",
              "      <th>Elapsed time</th>\n",
              "      <th>ECG</th>\n",
              "      <th>EMG</th>\n",
              "      <th>foot GSR</th>\n",
              "      <th>hand GSr</th>\n",
              "      <th>HR</th>\n",
              "      <th>marker</th>\n",
              "      <th>RESP</th>\n",
              "    </tr>\n",
              "  </thead>\n",
              "  <tbody>\n",
              "    <tr>\n",
              "      <th>13</th>\n",
              "      <td>0:00.026</td>\n",
              "      <td>0.040</td>\n",
              "      <td>0.036</td>\n",
              "      <td>8.763</td>\n",
              "      <td>5.675</td>\n",
              "      <td>88</td>\n",
              "      <td>10.85</td>\n",
              "      <td>43.54</td>\n",
              "    </tr>\n",
              "    <tr>\n",
              "      <th>14</th>\n",
              "      <td>0:00.028</td>\n",
              "      <td>0.055</td>\n",
              "      <td>0.036</td>\n",
              "      <td>8.763</td>\n",
              "      <td>5.675</td>\n",
              "      <td>88</td>\n",
              "      <td>10.85</td>\n",
              "      <td>43.54</td>\n",
              "    </tr>\n",
              "    <tr>\n",
              "      <th>15</th>\n",
              "      <td>0:00.030</td>\n",
              "      <td>0.060</td>\n",
              "      <td>0.036</td>\n",
              "      <td>8.763</td>\n",
              "      <td>5.675</td>\n",
              "      <td>88</td>\n",
              "      <td>10.85</td>\n",
              "      <td>43.54</td>\n",
              "    </tr>\n",
              "    <tr>\n",
              "      <th>16</th>\n",
              "      <td>0:00.032</td>\n",
              "      <td>0.066</td>\n",
              "      <td>0.036</td>\n",
              "      <td>8.765</td>\n",
              "      <td>5.678</td>\n",
              "      <td>88</td>\n",
              "      <td>10.85</td>\n",
              "      <td>43.40</td>\n",
              "    </tr>\n",
              "    <tr>\n",
              "      <th>17</th>\n",
              "      <td>0:00.034</td>\n",
              "      <td>0.071</td>\n",
              "      <td>0.036</td>\n",
              "      <td>8.765</td>\n",
              "      <td>5.678</td>\n",
              "      <td>88</td>\n",
              "      <td>10.85</td>\n",
              "      <td>43.40</td>\n",
              "    </tr>\n",
              "  </tbody>\n",
              "</table>\n",
              "</div>"
            ],
            "text/plain": [
              "   Elapsed time    ECG    EMG  foot GSR  hand GSr  HR  marker   RESP\n",
              "13     0:00.026  0.040  0.036     8.763     5.675  88   10.85  43.54\n",
              "14     0:00.028  0.055  0.036     8.763     5.675  88   10.85  43.54\n",
              "15     0:00.030  0.060  0.036     8.763     5.675  88   10.85  43.54\n",
              "16     0:00.032  0.066  0.036     8.765     5.678  88   10.85  43.40\n",
              "17     0:00.034  0.071  0.036     8.765     5.678  88   10.85  43.40"
            ]
          },
          "metadata": {
            "tags": []
          },
          "execution_count": 35
        }
      ]
    },
    {
      "cell_type": "code",
      "metadata": {
        "id": "lkFy4YBHDNYm",
        "outputId": "a6337c53-b041-44d9-8c52-24d84a4d4ae0",
        "colab": {
          "base_uri": "https://localhost:8080/"
        }
      },
      "source": [
        "#we can also work in a similar manner with a specific column of the dataframe\n",
        "df2['foot GSR'][df2['ECG'] > 0.03].head()"
      ],
      "execution_count": 37,
      "outputs": [
        {
          "output_type": "execute_result",
          "data": {
            "text/plain": [
              "13    8.763\n",
              "14    8.763\n",
              "15    8.763\n",
              "16    8.765\n",
              "17    8.765\n",
              "Name: foot GSR, dtype: float64"
            ]
          },
          "metadata": {
            "tags": []
          },
          "execution_count": 37
        }
      ]
    },
    {
      "cell_type": "code",
      "metadata": {
        "id": "NeKQLhFiDNYm",
        "outputId": "0e6a4ed8-b955-4bef-943c-9f2a70755910",
        "colab": {
          "base_uri": "https://localhost:8080/",
          "height": 110
        }
      },
      "source": [
        "#Suppose we want to use a very specific location in a dataframe\n",
        "t = [3,4]\n",
        "#we can easily do that with the locator\n",
        "df2.iloc[t]"
      ],
      "execution_count": 38,
      "outputs": [
        {
          "output_type": "execute_result",
          "data": {
            "text/html": [
              "<div>\n",
              "<style scoped>\n",
              "    .dataframe tbody tr th:only-of-type {\n",
              "        vertical-align: middle;\n",
              "    }\n",
              "\n",
              "    .dataframe tbody tr th {\n",
              "        vertical-align: top;\n",
              "    }\n",
              "\n",
              "    .dataframe thead th {\n",
              "        text-align: right;\n",
              "    }\n",
              "</style>\n",
              "<table border=\"1\" class=\"dataframe\">\n",
              "  <thead>\n",
              "    <tr style=\"text-align: right;\">\n",
              "      <th></th>\n",
              "      <th>Elapsed time</th>\n",
              "      <th>ECG</th>\n",
              "      <th>EMG</th>\n",
              "      <th>foot GSR</th>\n",
              "      <th>hand GSr</th>\n",
              "      <th>HR</th>\n",
              "      <th>marker</th>\n",
              "      <th>RESP</th>\n",
              "    </tr>\n",
              "  </thead>\n",
              "  <tbody>\n",
              "    <tr>\n",
              "      <th>3</th>\n",
              "      <td>0:00.006</td>\n",
              "      <td>-0.023</td>\n",
              "      <td>0.036</td>\n",
              "      <td>8.763</td>\n",
              "      <td>5.675</td>\n",
              "      <td>88</td>\n",
              "      <td>10.85</td>\n",
              "      <td>43.54</td>\n",
              "    </tr>\n",
              "    <tr>\n",
              "      <th>4</th>\n",
              "      <td>0:00.008</td>\n",
              "      <td>-0.018</td>\n",
              "      <td>0.036</td>\n",
              "      <td>8.763</td>\n",
              "      <td>5.675</td>\n",
              "      <td>88</td>\n",
              "      <td>10.85</td>\n",
              "      <td>43.54</td>\n",
              "    </tr>\n",
              "  </tbody>\n",
              "</table>\n",
              "</div>"
            ],
            "text/plain": [
              "  Elapsed time    ECG    EMG  foot GSR  hand GSr  HR  marker   RESP\n",
              "3     0:00.006 -0.023  0.036     8.763     5.675  88   10.85  43.54\n",
              "4     0:00.008 -0.018  0.036     8.763     5.675  88   10.85  43.54"
            ]
          },
          "metadata": {
            "tags": []
          },
          "execution_count": 38
        }
      ]
    },
    {
      "cell_type": "code",
      "metadata": {
        "id": "h5jvicDtDNYn",
        "outputId": "282a39c2-6a3a-40a5-f830-46e330a8f5f9",
        "colab": {
          "base_uri": "https://localhost:8080/",
          "height": 313
        }
      },
      "source": [
        "#Plotting histogram\n",
        "num_bins = 10\n",
        "plt.hist(df2['HR'].dropna(), num_bins, facecolor = 'red')\n",
        "plt.title(\"Histogram of HR \")\n",
        "plt.xlabel(\"Value\")\n",
        "plt.ylabel(\"Frequency\")"
      ],
      "execution_count": 39,
      "outputs": [
        {
          "output_type": "execute_result",
          "data": {
            "text/plain": [
              "Text(0, 0.5, 'Frequency')"
            ]
          },
          "metadata": {
            "tags": []
          },
          "execution_count": 39
        },
        {
          "output_type": "display_data",
          "data": {
            "image/png": "[encoded data removed]",
            "text/plain": [
              "<Figure size 432x288 with 1 Axes>"
            ]
          },
          "metadata": {
            "tags": [],
            "needs_background": "light"
          }
        }
      ]
    },
    {
      "cell_type": "code",
      "metadata": {
        "id": "AeWtUkMTDNYn",
        "outputId": "190f7ac8-e004-4d8d-fd7f-462a61b10bd0",
        "colab": {
          "base_uri": "https://localhost:8080/",
          "height": 313
        }
      },
      "source": [
        "#Plotting histogram\n",
        "num_bins = 100\n",
        "plt.hist(df2['HR'].dropna(), num_bins, facecolor = 'blue')\n",
        "plt.title(\"Histogram of HR\")\n",
        "plt.xlabel(\"Value\")\n",
        "plt.ylabel(\"Frequency\")"
      ],
      "execution_count": 40,
      "outputs": [
        {
          "output_type": "execute_result",
          "data": {
            "text/plain": [
              "Text(0, 0.5, 'Frequency')"
            ]
          },
          "metadata": {
            "tags": []
          },
          "execution_count": 40
        },
        {
          "output_type": "display_data",
          "data": {
            "image/png": "[encoded data removed]",
            "text/plain": [
              "<Figure size 432x288 with 1 Axes>"
            ]
          },
          "metadata": {
            "tags": [],
            "needs_background": "light"
          }
        }
      ]
    },
    {
      "cell_type": "code",
      "metadata": {
        "id": "hBGMDkdFDNYn",
        "outputId": "d96c80fe-f79b-45b7-b991-f3cfbb343d16",
        "colab": {
          "base_uri": "https://localhost:8080/",
          "height": 265
        }
      },
      "source": [
        "#plotting boxplot\n",
        "df2.boxplot()\n",
        "plt.xticks() #try to rotate rotation=45\n",
        "plt.show()"
      ],
      "execution_count": 41,
      "outputs": [
        {
          "output_type": "display_data",
          "data": {
            "image/png": "[encoded data removed]",
            "text/plain": [
              "<Figure size 432x288 with 1 Axes>"
            ]
          },
          "metadata": {
            "tags": [],
            "needs_background": "light"
          }
        }
      ]
    },
    {
      "cell_type": "code",
      "metadata": {
        "id": "mzbpL6HGDNYn",
        "outputId": "6d2830cf-b9fb-44ff-fad6-23c2b16f2307",
        "colab": {
          "base_uri": "https://localhost:8080/",
          "height": 185
        }
      },
      "source": [
        "# Lets use boxplot from Seaborn\n",
        "sns.boxplot(data=df2)"
      ],
      "execution_count": 42,
      "outputs": [
        {
          "output_type": "error",
          "ename": "NameError",
          "evalue": "ignored",
          "traceback": [
            "\u001b[0;31m---------------------------------------------------------------------------\u001b[0m",
            "\u001b[0;31mNameError\u001b[0m                                 Traceback (most recent call last)",
            "\u001b[0;32m<ipython-input-42-0f7d66e63dce>\u001b[0m in \u001b[0;36m<module>\u001b[0;34m()\u001b[0m\n\u001b[1;32m      1\u001b[0m \u001b[0;31m# Lets use boxplot from Seaborn\u001b[0m\u001b[0;34m\u001b[0m\u001b[0;34m\u001b[0m\u001b[0;34m\u001b[0m\u001b[0m\n\u001b[0;32m----> 2\u001b[0;31m \u001b[0msns\u001b[0m\u001b[0;34m.\u001b[0m\u001b[0mboxplot\u001b[0m\u001b[0;34m(\u001b[0m\u001b[0mdata\u001b[0m\u001b[0;34m=\u001b[0m\u001b[0mdf2\u001b[0m\u001b[0;34m)\u001b[0m\u001b[0;34m\u001b[0m\u001b[0;34m\u001b[0m\u001b[0m\n\u001b[0m",
            "\u001b[0;31mNameError\u001b[0m: name 'sns' is not defined"
          ]
        }
      ]
    },
    {
      "cell_type": "code",
      "metadata": {
        "id": "MXCg9mopDNYn",
        "outputId": "efcc1545-2c76-4cd6-9dda-d0a30044bd88",
        "colab": {
          "base_uri": "https://localhost:8080/",
          "height": 279
        }
      },
      "source": [
        "# plotting lag plots\n",
        "#Strong autocorrelation\n",
        "pd.plotting.lag_plot(df2['foot GSR']) # try lag =2\n",
        "plt.show()\n",
        "\n",
        "#Due to:\n",
        "#phenomenon under study; or\n",
        "#drifting in the environment; or\n",
        "#contamination from the data acquisition system?"
      ],
      "execution_count": 43,
      "outputs": [
        {
          "output_type": "display_data",
          "data": {
            "image/png": "[encoded data removed]",
            "text/plain": [
              "<Figure size 432x288 with 1 Axes>"
            ]
          },
          "metadata": {
            "tags": [],
            "needs_background": "light"
          }
        }
      ]
    },
    {
      "cell_type": "code",
      "metadata": {
        "id": "9-BkI2XYDNYn",
        "outputId": "894fc463-6244-4052-d84b-3c9f5e4dd6c1",
        "colab": {
          "base_uri": "https://localhost:8080/",
          "height": 279
        }
      },
      "source": [
        "#moderate autocorrelation\n",
        "pd.plotting.lag_plot(df2['marker']) # try lag =2\n",
        "plt.show()"
      ],
      "execution_count": 44,
      "outputs": [
        {
          "output_type": "display_data",
          "data": {
            "image/png": "[encoded data removed]",
            "text/plain": [
              "<Figure size 432x288 with 1 Axes>"
            ]
          },
          "metadata": {
            "tags": [],
            "needs_background": "light"
          }
        }
      ]
    },
    {
      "cell_type": "code",
      "metadata": {
        "id": "x7_SgM01DNYn",
        "outputId": "95ccd1e5-6dc3-4b10-a436-935f5cfe3ed2",
        "colab": {
          "base_uri": "https://localhost:8080/",
          "height": 323
        }
      },
      "source": [
        "# Plotting heatmaps using Seaborn\n",
        "import seaborn as sns\n",
        "\n",
        "corr = df2.corr()\n",
        "sns.heatmap(corr, \n",
        "            xticklabels=corr.columns.values,\n",
        "            yticklabels=corr.columns.values)"
      ],
      "execution_count": 45,
      "outputs": [
        {
          "output_type": "execute_result",
          "data": {
            "text/plain": [
              "<matplotlib.axes._subplots.AxesSubplot at 0x7f742ce3d320>"
            ]
          },
          "metadata": {
            "tags": []
          },
          "execution_count": 45
        },
        {
          "output_type": "display_data",
          "data": {
            "image/png": "[encoded data removed]",
            "text/plain": [
              "<Figure size 432x288 with 2 Axes>"
            ]
          },
          "metadata": {
            "tags": [],
            "needs_background": "light"
          }
        }
      ]
    },
    {
      "cell_type": "code",
      "metadata": {
        "scrolled": true,
        "id": "OTpg_F75DNYn",
        "outputId": "136eb378-f649-482c-b264-01a2b7203e4e",
        "colab": {
          "base_uri": "https://localhost:8080/",
          "height": 459
        }
      },
      "source": [
        "# Plotting joint plot using Seaborn\n",
        "\n",
        "sns.jointplot(x=\"marker\", y=\"foot GSR\", data=df2[0:1000], kind=\"kde\")"
      ],
      "execution_count": 46,
      "outputs": [
        {
          "output_type": "execute_result",
          "data": {
            "text/plain": [
              "<seaborn.axisgrid.JointGrid at 0x7f743b262f98>"
            ]
          },
          "metadata": {
            "tags": []
          },
          "execution_count": 46
        },
        {
          "output_type": "display_data",
          "data": {
            "image/png": "[encoded data removed]",
            "text/plain": [
              "<Figure size 432x432 with 3 Axes>"
            ]
          },
          "metadata": {
            "tags": [],
            "needs_background": "light"
          }
        }
      ]
    },
    {
      "cell_type": "code",
      "metadata": {
        "id": "b89qysrSDNYn",
        "outputId": "95e7a097-70bf-4c62-e534-ede1f97633c3",
        "colab": {
          "base_uri": "https://localhost:8080/",
          "height": 459
        }
      },
      "source": [
        "sns.jointplot(x=\"marker\", y=\"foot GSR\", data=df2[0:1000], kind=\"reg\")"
      ],
      "execution_count": 47,
      "outputs": [
        {
          "output_type": "execute_result",
          "data": {
            "text/plain": [
              "<seaborn.axisgrid.JointGrid at 0x7f742ce27860>"
            ]
          },
          "metadata": {
            "tags": []
          },
          "execution_count": 47
        },
        {
          "output_type": "display_data",
          "data": {
            "image/png": "[encoded data removed]",
            "text/plain": [
              "<Figure size 432x432 with 3 Axes>"
            ]
          },
          "metadata": {
            "tags": [],
            "needs_background": "light"
          }
        }
      ]
    },
    {
      "cell_type": "code",
      "metadata": {
        "id": "68clae5zDNYn",
        "outputId": "1c350764-526b-438a-d78e-1c44cc640b57",
        "colab": {
          "base_uri": "https://localhost:8080/",
          "height": 459
        }
      },
      "source": [
        "sns.jointplot(x=\"marker\", y=\"foot GSR\", data=df2[0:1000], kind=\"hist\")"
      ],
      "execution_count": 48,
      "outputs": [
        {
          "output_type": "execute_result",
          "data": {
            "text/plain": [
              "<seaborn.axisgrid.JointGrid at 0x7f742a2c5c88>"
            ]
          },
          "metadata": {
            "tags": []
          },
          "execution_count": 48
        },
        {
          "output_type": "display_data",
          "data": {
            "image/png": "[encoded data removed]",
            "text/plain": [
              "<Figure size 432x432 with 3 Axes>"
            ]
          },
          "metadata": {
            "tags": [],
            "needs_background": "light"
          }
        }
      ]
    },
    {
      "cell_type": "code",
      "metadata": {
        "id": "hyqZ3YvGDNYn",
        "outputId": "0c7c729c-05b0-4fd8-d57a-9336f248802e",
        "colab": {
          "base_uri": "https://localhost:8080/",
          "height": 295
        }
      },
      "source": [
        "#df2['HR'].plot(grid=True, style=cols[1])\n",
        "Fs=15\n",
        "df2['foot GSR'].rolling(window=Fs*60*60*1).mean().plot(grid=True)\n",
        "df2['foot GSR'].rolling(window=Fs*60*60*2).mean().plot(grid=True)\n",
        "df2['marker'].rolling(window=Fs*60*60*1).mean().plot(grid=True, style='r')\n"
      ],
      "execution_count": 49,
      "outputs": [
        {
          "output_type": "execute_result",
          "data": {
            "text/plain": [
              "<matplotlib.axes._subplots.AxesSubplot at 0x7f742a216f28>"
            ]
          },
          "metadata": {
            "tags": []
          },
          "execution_count": 49
        },
        {
          "output_type": "display_data",
          "data": {
            "image/png": "[encoded data removed]",
            "text/plain": [
              "<Figure size 432x288 with 1 Axes>"
            ]
          },
          "metadata": {
            "tags": [],
            "needs_background": "light"
          }
        }
      ]
    },
    {
      "cell_type": "markdown",
      "metadata": {
        "id": "vRA5bG16DNYn"
      },
      "source": [
        "## Exercise #4: plot 1 hour and 2 hour moving averages for heart rates on same graph?\n",
        "Hint: replace the foot GSR with HR in the previous example"
      ]
    },
    {
      "cell_type": "code",
      "metadata": {
        "id": "YhvvlC3YDNYn",
        "outputId": "7a51184e-9f39-4db7-d94f-1456df065ab4",
        "colab": {
          "base_uri": "https://localhost:8080/",
          "height": 556
        }
      },
      "source": [
        "from statsmodels.tsa.seasonal import seasonal_decompose\n",
        "from statsmodels.tsa.filters.hp_filter import hpfilter\n",
        "\n",
        "decomposition = seasonal_decompose(df2['HR'][1:1000*Fs], freq=100*Fs)\n",
        "\n",
        "trend = decomposition.trend\n",
        "\n",
        "fig = plt.figure(figsize=(18,8))\n",
        "\n",
        "plt.subplot(211)\n",
        "plt.plot(df2['HR'][1:1000*Fs], label='Original')\n",
        "plt.legend(loc='best')\n",
        "plt.subplot(212)\n",
        "plt.plot(trend, label='Trend')\n",
        "plt.legend(loc='best')"
      ],
      "execution_count": 50,
      "outputs": [
        {
          "output_type": "stream",
          "text": [
            "/usr/local/lib/python3.6/dist-packages/statsmodels/tools/_testing.py:19: FutureWarning: pandas.util.testing is deprecated. Use the functions in the public API at pandas.testing instead.\n",
            "  import pandas.util.testing as tm\n"
          ],
          "name": "stderr"
        },
        {
          "output_type": "execute_result",
          "data": {
            "text/plain": [
              "<matplotlib.legend.Legend at 0x7f7428e688d0>"
            ]
          },
          "metadata": {
            "tags": []
          },
          "execution_count": 50
        },
        {
          "output_type": "display_data",
          "data": {
            "image/png": "[encoded data removed]",
            "text/plain": [
              "<Figure size 1296x576 with 2 Axes>"
            ]
          },
          "metadata": {
            "tags": [],
            "needs_background": "light"
          }
        }
      ]
    },
    {
      "cell_type": "markdown",
      "metadata": {
        "id": "urU49TAMDNYn"
      },
      "source": [
        "# Exercise #5: Filter ECG signal using trend."
      ]
    },
    {
      "cell_type": "code",
      "metadata": {
        "id": "GTm6kqqaDNYn",
        "outputId": "67c1aab0-6a07-4a10-d35a-1833caa7f380",
        "colab": {
          "base_uri": "https://localhost:8080/",
          "height": 501
        }
      },
      "source": [
        "from statsmodels.tsa.seasonal import seasonal_decompose\r\n",
        "from statsmodels.tsa.filters.hp_filter import hpfilter\r\n",
        "\r\n",
        "decomposition = seasonal_decompose(df2['ECG'][1:100*Fs], freq=1*Fs)\r\n",
        "\r\n",
        "trend = decomposition.trend\r\n",
        "\r\n",
        "fig = plt.figure(figsize=(18,8))\r\n",
        "\r\n",
        "plt.subplot(211)\r\n",
        "plt.plot(df2['ECG'][1:100*Fs], label='Original')\r\n",
        "plt.legend(loc='best')\r\n",
        "plt.subplot(212)\r\n",
        "plt.plot(trend, label='Trend')\r\n",
        "plt.legend(loc='best')"
      ],
      "execution_count": 60,
      "outputs": [
        {
          "output_type": "execute_result",
          "data": {
            "text/plain": [
              "<matplotlib.legend.Legend at 0x7f7426f04eb8>"
            ]
          },
          "metadata": {
            "tags": []
          },
          "execution_count": 60
        },
        {
          "output_type": "display_data",
          "data": {
            "image/png": "[encoded data removed]",
            "text/plain": [
              "<Figure size 1296x576 with 2 Axes>"
            ]
          },
          "metadata": {
            "tags": [],
            "needs_background": "light"
          }
        }
      ]
    },
    {
      "cell_type": "code",
      "metadata": {
        "id": "0L4XXhCjNpdN"
      },
      "source": [
        ""
      ],
      "execution_count": null,
      "outputs": []
    }
  ]
}