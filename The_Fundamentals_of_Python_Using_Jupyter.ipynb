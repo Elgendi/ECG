{
  "nbformat": 4,
  "nbformat_minor": 0,
  "metadata": {
    "kernelspec": {
      "display_name": "Python 3",
      "language": "python",
      "name": "python3"
    },
    "language_info": {
      "codemirror_mode": {
        "name": "ipython",
        "version": 3
      },
      "file_extension": ".py",
      "mimetype": "text/x-python",
      "name": "python",
      "nbconvert_exporter": "python",
      "pygments_lexer": "ipython3",
      "version": "3.6.5"
    },
    "colab": {
      "name": "The Fundamentals of Python Using Jupyter.ipynb",
      "provenance": [],
      "collapsed_sections": [
        "CldrY7ea7QRU",
        "SPoIBBTX7QRU",
        "q46sm3Nu7QRU",
        "4QeievQM7QRV",
        "kYxEqEas7QRV",
        "MY7bv_v97QRV",
        "dQLvBwjS7QRX",
        "G-asMdMh7QRX",
        "M3PhyDbv7QRX",
        "kSbUT2V87QRa",
        "5j5PzsaS7QRf",
        "d6ylbiqQ7QRg",
        "8Rk8Y1r97QRl",
        "FL4dCbnm7QRm",
        "1F4o-1Ns7QRn",
        "8sLvxFfD7QRo"
      ],
      "include_colab_link": true
    }
  },
  "cells": [
    {
      "cell_type": "markdown",
      "metadata": {
        "id": "view-in-github",
        "colab_type": "text"
      },
      "source": [
        "<a href=\"https://colab.research.google.com/github/Elgendi/ECG/blob/master/The_Fundamentals_of_Python_Using_Jupyter.ipynb\" target=\"_parent\"><img src=\"https://colab.research.google.com/assets/colab-badge.svg\" alt=\"Open In Colab\"/></a>"
      ]
    },
    {
      "cell_type": "markdown",
      "metadata": {
        "id": "K1PBnCiN7QRL"
      },
      "source": [
        " \n",
        "\n",
        "# Fundamentals of Python using Jupyter Notbook\n",
        "\n",
        "Python is an interpreted high-level programming language for general-purpose programming, created by Guido van Rossum and first released in 1991.\n",
        "\n",
        "\n",
        "This lecture introduces Python using Jupyter Notebooks."
      ]
    },
    {
      "cell_type": "code",
      "metadata": {
        "id": "qC1nKkHN7QRM",
        "outputId": "c44d8a02-62f3-413f-d5c6-382295070b33"
      },
      "source": [
        "print('Hello To The Data Science World')"
      ],
      "execution_count": null,
      "outputs": [
        {
          "output_type": "stream",
          "text": [
            "Hello To The Data Science World\n"
          ],
          "name": "stdout"
        }
      ]
    },
    {
      "cell_type": "code",
      "metadata": {
        "id": "1Hl0naPA7QRO",
        "colab": {
          "base_uri": "https://localhost:8080/"
        },
        "outputId": "34602799-f199-4030-99b4-c4eac9f9cece"
      },
      "source": [
        "1 + 1"
      ],
      "execution_count": null,
      "outputs": [
        {
          "output_type": "execute_result",
          "data": {
            "text/plain": [
              "2"
            ]
          },
          "metadata": {
            "tags": []
          },
          "execution_count": 1
        }
      ]
    },
    {
      "cell_type": "markdown",
      "metadata": {
        "id": "ptc7YZAC7QRO"
      },
      "source": [
        ""
      ]
    },
    {
      "cell_type": "markdown",
      "metadata": {
        "id": "mfMlLIr57QRO"
      },
      "source": [
        "## Cell Types\n",
        "\n",
        "As you can see, each cell can be either code or text. To select between them, choose from the 'Cell Type' dropdown menu on the top left."
      ]
    },
    {
      "cell_type": "markdown",
      "metadata": {
        "id": "AMtw4kHO7QRO"
      },
      "source": [
        "## Executing a Command\n",
        "\n",
        "A code cell will be evaluated when you press play, or when you press the shortcut, Shift + Enter. Evaluating a cell evaluates each line of code in sequence, and prints the results of the last line below the cell."
      ]
    },
    {
      "cell_type": "code",
      "metadata": {
        "id": "LmVdx7947QRO",
        "colab": {
          "base_uri": "https://localhost:8080/"
        },
        "outputId": "a8daed27-f5ff-421c-f08c-ba20aac1abe7"
      },
      "source": [
        "a = [5,6,7,8,9,11]\n",
        "a"
      ],
      "execution_count": null,
      "outputs": [
        {
          "output_type": "execute_result",
          "data": {
            "text/plain": [
              "[5, 6, 7, 8, 9, 11]"
            ]
          },
          "metadata": {
            "tags": []
          },
          "execution_count": 3
        }
      ]
    },
    {
      "cell_type": "code",
      "metadata": {
        "id": "h16XMZ2b7QRO",
        "outputId": "4ed27f0c-f196-452e-d176-5ac47afdc337"
      },
      "source": [
        "a = tuple([3, 5, 7])\n",
        "a"
      ],
      "execution_count": null,
      "outputs": [
        {
          "output_type": "execute_result",
          "data": {
            "text/plain": [
              "(3, 5, 7)"
            ]
          },
          "metadata": {
            "tags": []
          },
          "execution_count": 10
        }
      ]
    },
    {
      "cell_type": "code",
      "metadata": {
        "id": "u1LuXFby7QRP",
        "outputId": "c644946f-ab31-425f-f445-f8c11ff0e416"
      },
      "source": [
        "a = list([3, 5, 7])\n",
        "a"
      ],
      "execution_count": null,
      "outputs": [
        {
          "output_type": "execute_result",
          "data": {
            "text/plain": [
              "[3, 5, 7]"
            ]
          },
          "metadata": {
            "tags": []
          },
          "execution_count": 11
        }
      ]
    },
    {
      "cell_type": "code",
      "metadata": {
        "id": "ITVrg86c7QRP",
        "outputId": "05d5e091-4502-488f-e645-b46afa9bcd41"
      },
      "source": [
        "dir(a)"
      ],
      "execution_count": null,
      "outputs": [
        {
          "output_type": "execute_result",
          "data": {
            "text/plain": [
              "['__add__',\n",
              " '__class__',\n",
              " '__contains__',\n",
              " '__delattr__',\n",
              " '__delitem__',\n",
              " '__dir__',\n",
              " '__doc__',\n",
              " '__eq__',\n",
              " '__format__',\n",
              " '__ge__',\n",
              " '__getattribute__',\n",
              " '__getitem__',\n",
              " '__gt__',\n",
              " '__hash__',\n",
              " '__iadd__',\n",
              " '__imul__',\n",
              " '__init__',\n",
              " '__init_subclass__',\n",
              " '__iter__',\n",
              " '__le__',\n",
              " '__len__',\n",
              " '__lt__',\n",
              " '__mul__',\n",
              " '__ne__',\n",
              " '__new__',\n",
              " '__reduce__',\n",
              " '__reduce_ex__',\n",
              " '__repr__',\n",
              " '__reversed__',\n",
              " '__rmul__',\n",
              " '__setattr__',\n",
              " '__setitem__',\n",
              " '__sizeof__',\n",
              " '__str__',\n",
              " '__subclasshook__',\n",
              " 'append',\n",
              " 'clear',\n",
              " 'copy',\n",
              " 'count',\n",
              " 'extend',\n",
              " 'index',\n",
              " 'insert',\n",
              " 'pop',\n",
              " 'remove',\n",
              " 'reverse',\n",
              " 'sort']"
            ]
          },
          "metadata": {
            "tags": []
          },
          "execution_count": 8
        }
      ]
    },
    {
      "cell_type": "code",
      "metadata": {
        "id": "m_hCLiT47QRQ"
      },
      "source": [
        "a = ['UBC', 'Population', 4000]"
      ],
      "execution_count": null,
      "outputs": []
    },
    {
      "cell_type": "code",
      "metadata": {
        "id": "RZO3JiAn7QRQ"
      },
      "source": [
        "b = a.copy()"
      ],
      "execution_count": null,
      "outputs": []
    },
    {
      "cell_type": "code",
      "metadata": {
        "id": "NWCJInYN7QRQ",
        "outputId": "c353dcdc-e60a-4ca7-f697-dd4e6363b413"
      },
      "source": [
        "a == b"
      ],
      "execution_count": null,
      "outputs": [
        {
          "output_type": "execute_result",
          "data": {
            "text/plain": [
              "True"
            ]
          },
          "metadata": {
            "tags": []
          },
          "execution_count": 9
        }
      ]
    },
    {
      "cell_type": "code",
      "metadata": {
        "id": "4SVj8R8r7QRQ",
        "outputId": "77c70c6b-7347-4c96-ac3f-c82250d51cb1"
      },
      "source": [
        "a is b"
      ],
      "execution_count": null,
      "outputs": [
        {
          "output_type": "execute_result",
          "data": {
            "text/plain": [
              "False"
            ]
          },
          "metadata": {
            "tags": []
          },
          "execution_count": 10
        }
      ]
    },
    {
      "cell_type": "code",
      "metadata": {
        "id": "asclYc907QRQ",
        "outputId": "e3a93de9-a8bf-42b7-eee2-eed078e9528d"
      },
      "source": [
        "id(a)"
      ],
      "execution_count": null,
      "outputs": [
        {
          "output_type": "execute_result",
          "data": {
            "text/plain": [
              "2608354254472"
            ]
          },
          "metadata": {
            "tags": []
          },
          "execution_count": 11
        }
      ]
    },
    {
      "cell_type": "code",
      "metadata": {
        "id": "60ok2tDA7QRR",
        "outputId": "fdd23fea-0da4-4f19-d8e9-bd8af2317c9a"
      },
      "source": [
        "a[0]"
      ],
      "execution_count": null,
      "outputs": [
        {
          "output_type": "execute_result",
          "data": {
            "text/plain": [
              "'UBC'"
            ]
          },
          "metadata": {
            "tags": []
          },
          "execution_count": 12
        }
      ]
    },
    {
      "cell_type": "code",
      "metadata": {
        "id": "O6-nm3wX7QRR"
      },
      "source": [
        "a[0] = 'SFU'"
      ],
      "execution_count": null,
      "outputs": []
    },
    {
      "cell_type": "code",
      "metadata": {
        "id": "RjLLEBqy7QRR",
        "outputId": "f14b0928-82e0-4efa-9284-b8c5ea9d48aa"
      },
      "source": [
        "a"
      ],
      "execution_count": null,
      "outputs": [
        {
          "output_type": "execute_result",
          "data": {
            "text/plain": [
              "['SFU', 'Population', 4000]"
            ]
          },
          "metadata": {
            "tags": []
          },
          "execution_count": 14
        }
      ]
    },
    {
      "cell_type": "code",
      "metadata": {
        "id": "ZYO2m96a7QRR",
        "outputId": "12daadfb-aaad-48ef-f9b6-00139a137219"
      },
      "source": [
        "b"
      ],
      "execution_count": null,
      "outputs": [
        {
          "output_type": "execute_result",
          "data": {
            "text/plain": [
              "['UBC', 'Population', 4000]"
            ]
          },
          "metadata": {
            "tags": []
          },
          "execution_count": 15
        }
      ]
    },
    {
      "cell_type": "code",
      "metadata": {
        "id": "RmCBDcNI7QRR"
      },
      "source": [
        "a = b = c = '??'"
      ],
      "execution_count": null,
      "outputs": []
    },
    {
      "cell_type": "code",
      "metadata": {
        "id": "MeFW7ODd7QRR",
        "outputId": "17e311e0-5feb-42a7-d581-681e54bb0f1d"
      },
      "source": [
        "b"
      ],
      "execution_count": null,
      "outputs": [
        {
          "output_type": "execute_result",
          "data": {
            "text/plain": [
              "'??'"
            ]
          },
          "metadata": {
            "tags": []
          },
          "execution_count": 17
        }
      ]
    },
    {
      "cell_type": "code",
      "metadata": {
        "id": "nClbfcKw7QRR"
      },
      "source": [
        "a = [5, 25, 'foo', 3.57, None, 'bar']"
      ],
      "execution_count": null,
      "outputs": []
    },
    {
      "cell_type": "code",
      "metadata": {
        "id": "BDYamC3O7QRS",
        "outputId": "1b441caf-69f4-409f-be1f-db0cf15a7f14"
      },
      "source": [
        "a"
      ],
      "execution_count": null,
      "outputs": [
        {
          "output_type": "execute_result",
          "data": {
            "text/plain": [
              "[5, 25, 'foo', 3.57, None, 'bar']"
            ]
          },
          "metadata": {
            "tags": []
          },
          "execution_count": 19
        }
      ]
    },
    {
      "cell_type": "code",
      "metadata": {
        "id": "V2LkRfdK7QRS",
        "outputId": "21d5bdea-017f-4887-ddbe-f1a176d9d669"
      },
      "source": [
        "a[1] = 1000000000000\n",
        "a.append('Moe')\n",
        "a"
      ],
      "execution_count": null,
      "outputs": [
        {
          "output_type": "execute_result",
          "data": {
            "text/plain": [
              "[5, 1000000000000, 'foo', 3.57, None, 'bar', 'Moe']"
            ]
          },
          "metadata": {
            "tags": []
          },
          "execution_count": 20
        }
      ]
    },
    {
      "cell_type": "code",
      "metadata": {
        "id": "0vEmmxft7QRS"
      },
      "source": [
        "some_other_collection = ['foo', 3.57, 'bar', 'baz', 'hello', 257]"
      ],
      "execution_count": null,
      "outputs": []
    },
    {
      "cell_type": "code",
      "metadata": {
        "id": "1GdzQP9m7QRS",
        "outputId": "943ca1c9-0807-4917-d20a-f951f7cde4bc"
      },
      "source": [
        "type(some_other_collection)"
      ],
      "execution_count": null,
      "outputs": [
        {
          "output_type": "execute_result",
          "data": {
            "text/plain": [
              "list"
            ]
          },
          "metadata": {
            "tags": []
          },
          "execution_count": 22
        }
      ]
    },
    {
      "cell_type": "code",
      "metadata": {
        "id": "tPG1P7za7QRS"
      },
      "source": [
        "b = some_other_collection"
      ],
      "execution_count": null,
      "outputs": []
    },
    {
      "cell_type": "code",
      "metadata": {
        "id": "n-3_mkKT7QRS"
      },
      "source": [
        "some_other_collection = 'cool'"
      ],
      "execution_count": null,
      "outputs": []
    },
    {
      "cell_type": "code",
      "metadata": {
        "id": "BW1rBj4g7QRS",
        "outputId": "f9a1aaf7-6769-4340-fc1d-0e0ff89416f0"
      },
      "source": [
        "b"
      ],
      "execution_count": null,
      "outputs": [
        {
          "output_type": "execute_result",
          "data": {
            "text/plain": [
              "['foo', 3.57, 'bar', 'baz', 'hello', 257]"
            ]
          },
          "metadata": {
            "tags": []
          },
          "execution_count": 25
        }
      ]
    },
    {
      "cell_type": "code",
      "metadata": {
        "id": "OkuQF1VA7QRS",
        "outputId": "fea25074-3ebf-4bbf-f914-e640a4f9608e"
      },
      "source": [
        "some_other_collection[1]"
      ],
      "execution_count": null,
      "outputs": [
        {
          "output_type": "execute_result",
          "data": {
            "text/plain": [
              "'o'"
            ]
          },
          "metadata": {
            "tags": []
          },
          "execution_count": 26
        }
      ]
    },
    {
      "cell_type": "code",
      "metadata": {
        "id": "5aroeU997QRT",
        "outputId": "d07fc2f9-4f5b-4a29-ec4e-ded667164c43"
      },
      "source": [
        "some_other_collection.append('thales')"
      ],
      "execution_count": null,
      "outputs": [
        {
          "output_type": "error",
          "ename": "AttributeError",
          "evalue": "'str' object has no attribute 'append'",
          "traceback": [
            "\u001b[1;31m---------------------------------------------------------------------------\u001b[0m",
            "\u001b[1;31mAttributeError\u001b[0m                            Traceback (most recent call last)",
            "\u001b[1;32m<ipython-input-27-89c49c64b468>\u001b[0m in \u001b[0;36m<module>\u001b[1;34m()\u001b[0m\n\u001b[1;32m----> 1\u001b[1;33m \u001b[0msome_other_collection\u001b[0m\u001b[1;33m.\u001b[0m\u001b[0mappend\u001b[0m\u001b[1;33m(\u001b[0m\u001b[1;34m'thales'\u001b[0m\u001b[1;33m)\u001b[0m\u001b[1;33m\u001b[0m\u001b[0m\n\u001b[0m",
            "\u001b[1;31mAttributeError\u001b[0m: 'str' object has no attribute 'append'"
          ]
        }
      ]
    },
    {
      "cell_type": "code",
      "metadata": {
        "id": "2MiAK8f17QRT"
      },
      "source": [
        "some_other_collection[1] = 123"
      ],
      "execution_count": null,
      "outputs": []
    },
    {
      "cell_type": "code",
      "metadata": {
        "id": "Limjq3FZ7QRT"
      },
      "source": [
        "some_other_collection = None"
      ],
      "execution_count": null,
      "outputs": []
    },
    {
      "cell_type": "code",
      "metadata": {
        "id": "TuUQQeI07QRT"
      },
      "source": [
        "b = a"
      ],
      "execution_count": null,
      "outputs": []
    },
    {
      "cell_type": "code",
      "metadata": {
        "id": "ddFN4bBA7QRT"
      },
      "source": [
        "a[1] = 'something completely different'"
      ],
      "execution_count": null,
      "outputs": []
    },
    {
      "cell_type": "code",
      "metadata": {
        "id": "_Saygg-c7QRT"
      },
      "source": [
        "b = \"Hello\"\n",
        "d = ['aa', 32434, True]\n",
        "d.remove('aa')"
      ],
      "execution_count": null,
      "outputs": []
    },
    {
      "cell_type": "markdown",
      "metadata": {
        "id": "J2mkFdJh7QRT"
      },
      "source": [
        "Sometimes there is no result to be printed, as is the case with assignment."
      ]
    },
    {
      "cell_type": "code",
      "metadata": {
        "id": "roMFr9_V7QRT"
      },
      "source": [
        "X = 2"
      ],
      "execution_count": null,
      "outputs": []
    },
    {
      "cell_type": "markdown",
      "metadata": {
        "id": "lR242O6x7QRT"
      },
      "source": [
        "Remember that only the result from the last line is printed."
      ]
    },
    {
      "cell_type": "code",
      "metadata": {
        "id": "VjFgF__A7QRT"
      },
      "source": [
        "X"
      ],
      "execution_count": null,
      "outputs": []
    },
    {
      "cell_type": "code",
      "metadata": {
        "id": "oTSumDy87QRU"
      },
      "source": [
        "a = 'hello'\n",
        "a = a + ' world'\n",
        "print(2 + 2)\n",
        "print(3 + 7)\n",
        "(2 + 2, 3 + 7, 3 + 5)"
      ],
      "execution_count": null,
      "outputs": []
    },
    {
      "cell_type": "code",
      "metadata": {
        "id": "RnE0aray7QRU"
      },
      "source": [
        "a"
      ],
      "execution_count": null,
      "outputs": []
    },
    {
      "cell_type": "code",
      "metadata": {
        "id": "1-dVn8fw7QRU"
      },
      "source": [
        "2 + 2\n",
        "3 + 7"
      ],
      "execution_count": null,
      "outputs": []
    },
    {
      "cell_type": "markdown",
      "metadata": {
        "id": "M0CDyPo_7QRU"
      },
      "source": [
        "However, you can print whichever lines you want using the `print` statement."
      ]
    },
    {
      "cell_type": "code",
      "metadata": {
        "id": "1XWB9N3e7QRU"
      },
      "source": [
        "print(2 + 2)\n",
        "3 + 3"
      ],
      "execution_count": null,
      "outputs": []
    },
    {
      "cell_type": "markdown",
      "metadata": {
        "id": "CldrY7ea7QRU"
      },
      "source": [
        "## Knowing When a Cell is Running\n",
        "\n",
        "While a cell is running, a `[*]` will display on the left. When a cell has yet to be executed, `[ ]` will display. When it has been run, a number will display indicating the order in which it was run during the execution of the notebook `[5]`. Try on this cell and note it happening."
      ]
    },
    {
      "cell_type": "code",
      "metadata": {
        "id": "qnPJrKHH7QRU"
      },
      "source": [
        "for i in range(5, 10, 3):\n",
        "    print(i)"
      ],
      "execution_count": null,
      "outputs": []
    },
    {
      "cell_type": "code",
      "metadata": {
        "id": "gbRyuUB77QRU"
      },
      "source": [
        "#Take some time to run something\n",
        "a = 0\n",
        "for i in range(10000001):\n",
        "    a = a + i\n",
        "a"
      ],
      "execution_count": null,
      "outputs": []
    },
    {
      "cell_type": "markdown",
      "metadata": {
        "id": "SPoIBBTX7QRU"
      },
      "source": [
        "## Importing Libraries\n",
        "\n",
        "The vast majority of the time, you'll want to use functions from pre-built libraries. Here we import `numpy` and `pandas`, the two most common and useful libraries in quant finance and trading. We recommend copying this import statement to every new notebook.\n",
        "\n",
        "Notice that you can rename libraries to whatever you want after importing. The `as` statement allows this. Here we use `np` and `pd` as aliases for `numpy` and `pandas`. This is a very common aliasing and will be found in most code snippets around the web. The point behind this is to allow you to type fewer characters when you are frequently accessing these libraries."
      ]
    },
    {
      "cell_type": "code",
      "metadata": {
        "id": "ZBHsXltN7QRU"
      },
      "source": [
        "import numpy as np\n",
        "import pandas as pd"
      ],
      "execution_count": null,
      "outputs": []
    },
    {
      "cell_type": "code",
      "metadata": {
        "id": "E0eu7qaz7QRU"
      },
      "source": [
        "a = np.array([[1, 2, 3], [4, 5, 6]])\n",
        "a"
      ],
      "execution_count": null,
      "outputs": []
    },
    {
      "cell_type": "markdown",
      "metadata": {
        "id": "q46sm3Nu7QRU"
      },
      "source": [
        "## Tab Autocomplete\n",
        "\n",
        "Pressing tab will give you a list of Jupyter's best guesses for what you might want to type next. This is incredibly valuable and will save you a lot of time. If there is only one possible option for what you could type next, Jupyter will fill that in for you. Try pressing tab very frequently, it will seldom fill in anything you don't want, as if there is ambiguity a list will be shown. This is a great way to see what functions are available in a library.\n",
        "\n",
        "Try placing your cursor after the `.` and pressing tab. Further, you can view a method signature by pressing shift + tab."
      ]
    },
    {
      "cell_type": "code",
      "metadata": {
        "id": "FhP7MdjN7QRU"
      },
      "source": [
        "print(np.random.binomial(2,0.5))"
      ],
      "execution_count": null,
      "outputs": []
    },
    {
      "cell_type": "code",
      "metadata": {
        "id": "Xd_9ujMr7QRV"
      },
      "source": [
        "np."
      ],
      "execution_count": null,
      "outputs": []
    },
    {
      "cell_type": "markdown",
      "metadata": {
        "id": "4QeievQM7QRV"
      },
      "source": [
        "## Getting Documentation Help\n",
        "\n",
        "Placing a `?` after a function or a module and executing that line of code will give you the documentation Jupyter has has for that function. It's often best to do this in a new cell, as you avoid re-executing other code and running into bugs."
      ]
    },
    {
      "cell_type": "code",
      "metadata": {
        "id": "cdK7busK7QRV"
      },
      "source": [
        "?pd.DataFrame"
      ],
      "execution_count": null,
      "outputs": []
    },
    {
      "cell_type": "markdown",
      "metadata": {
        "id": "kYxEqEas7QRV"
      },
      "source": [
        "## Introduction to Python\n",
        "\n",
        "This section addresses the main features and functionalities of Python in the domain of Data Science. As data scientists, we care a lot about data structures that let us store large collections of data. Python API has a number of such data structures. Further libraries such as `pandas` define very convinient ways of interacting with data."
      ]
    },
    {
      "cell_type": "markdown",
      "metadata": {
        "id": "CzG8Ephr7QRV"
      },
      "source": [
        "# Variables\n",
        "\n",
        "The basic variable types that we will cover in this section are `integer`s, `float`s, `boolean`s, and `string`s. "
      ]
    },
    {
      "cell_type": "markdown",
      "metadata": {
        "id": "MY7bv_v97QRV"
      },
      "source": [
        "## Numerics\n",
        "\n",
        "Variables provide names for values in programming. If you want to save a value for later or repeated use, you give the value a name, storing the contents in a variable. Variables in programming work in a fundamentally similar way to variables in algebra, but in Python they can take on various different data types.   \n",
        "\n",
        "An **integer** in programming is the same as in mathematics, a whole number with no values after the decimal point. We use the built-in `print` function here to display the values of our variables as well as their types!"
      ]
    },
    {
      "cell_type": "code",
      "metadata": {
        "id": "pDp2nPYy7QRV"
      },
      "source": [
        "my_int = 42\n",
        "print(my_int, type(my_int))"
      ],
      "execution_count": null,
      "outputs": []
    },
    {
      "cell_type": "markdown",
      "metadata": {
        "id": "Rs3Xw6NZ7QRV"
      },
      "source": [
        "Variables assignment is expressed via equals `=` sign, irrespective of the type of the variables that we are assigning. Variables are case sensitive, so make sure that you match the variable names exactly when using them after assignment:"
      ]
    },
    {
      "cell_type": "code",
      "metadata": {
        "id": "AqmisiRB7QRV"
      },
      "source": [
        "print(my_int)"
      ],
      "execution_count": null,
      "outputs": []
    },
    {
      "cell_type": "markdown",
      "metadata": {
        "id": "fSbR3UcS7QRV"
      },
      "source": [
        "A `float` is a type we prescribe to floating point or, in mathematics, real numbers. `float` number type is used throughout data science to represent and do arithmetic operations on numerical values. To define a float we need to include a decimal point `.` or explicitly force the number the number to be a float by using `float()` function:"
      ]
    },
    {
      "cell_type": "code",
      "metadata": {
        "id": "3o_QzRdT7QRV"
      },
      "source": [
        "my_float = 42.\n",
        "print(my_float, type(my_float))\n",
        "my_float = float(my_int)\n",
        "print(my_float, type(my_float))"
      ],
      "execution_count": null,
      "outputs": []
    },
    {
      "cell_type": "markdown",
      "metadata": {
        "id": "eAjfrXWo7QRV"
      },
      "source": [
        "We can use `int()` function to coerce a `float` variable back to `int` as follows (note that any digits after decimal point will be truncated): "
      ]
    },
    {
      "cell_type": "code",
      "metadata": {
        "id": "xtsLOy3X7QRW"
      },
      "source": [
        "my_int = int(65.73)\n",
        "print(my_int, type(my_int))"
      ],
      "execution_count": null,
      "outputs": []
    },
    {
      "cell_type": "markdown",
      "metadata": {
        "id": "LInJFPeH7QRW"
      },
      "source": [
        "Let us set the variable `x`, so it also equals 65:"
      ]
    },
    {
      "cell_type": "code",
      "metadata": {
        "id": "xhjKyPVS7QRW"
      },
      "source": [
        "x = 65"
      ],
      "execution_count": null,
      "outputs": []
    },
    {
      "cell_type": "code",
      "metadata": {
        "id": "PmQnn0vd7QRW"
      },
      "source": [
        "type(x)"
      ],
      "execution_count": null,
      "outputs": []
    },
    {
      "cell_type": "markdown",
      "metadata": {
        "id": "XpLSxy1R7QRW"
      },
      "source": [
        "We could overwrite `x` with a value of a different **type**, such as a decimal fraction:"
      ]
    },
    {
      "cell_type": "code",
      "metadata": {
        "id": "-HmSg6bE7QRW"
      },
      "source": [
        "x = 3.57"
      ],
      "execution_count": null,
      "outputs": []
    },
    {
      "cell_type": "markdown",
      "metadata": {
        "id": "OJjEJ-kS7QRW"
      },
      "source": [
        "The type of `x` has now changed:"
      ]
    },
    {
      "cell_type": "code",
      "metadata": {
        "id": "oZg3aETN7QRW"
      },
      "source": [
        "type(x)"
      ],
      "execution_count": null,
      "outputs": []
    },
    {
      "cell_type": "markdown",
      "metadata": {
        "id": "46EcoHuu7QRW"
      },
      "source": [
        "`float` stands for \"floating point\", fractions are expressed in Python as \"floating point\" numbers. This is a particularly important data **type** for data scientists, who deal with floating point numbers most of the time. If you want to *really* understand floating point numbers, have a look at the paper *What Every Computer Scientist Should Know About Floating-Point Arithmetic* by David Goldberg; you can hopefully find it [here](https://www.itu.dk/~sestoft/bachelor/IEEE754_article.pdf).\n",
        "\n",
        "Some programming languages (such as Java, C++, C#, and many others) would not allow overwriting `x` with a value of a different type: once something is an `int`, it is always an `int`. We say that these languages are **statically typed**, whereas Python is **dynamically typed**. Types are important in Python, and Python is still a **strongly typed** language, although the type of a variable may change over the lifetime of the program, hence the expression: \"dynamically typed\".\n",
        "\n",
        "Let us make `x` a float again:"
      ]
    },
    {
      "cell_type": "code",
      "metadata": {
        "id": "xSeNqul47QRW"
      },
      "source": [
        "x = 3.57"
      ],
      "execution_count": null,
      "outputs": []
    },
    {
      "cell_type": "code",
      "metadata": {
        "id": "5BEAB21B7QRW"
      },
      "source": [
        "type(x)"
      ],
      "execution_count": null,
      "outputs": []
    },
    {
      "cell_type": "markdown",
      "metadata": {
        "id": "dQLvBwjS7QRX"
      },
      "source": [
        "## Booleans\n",
        "\n",
        "`boolean` is a binary variable type, that can either be `True` or `False`. In later sections we will see how significant `booleans` are in programming. Here is some basic usage:   "
      ]
    },
    {
      "cell_type": "code",
      "metadata": {
        "id": "PHWGaS9m7QRX"
      },
      "source": [
        "my_bool = True\n",
        "print(my_bool, type(my_bool))"
      ],
      "execution_count": null,
      "outputs": []
    },
    {
      "cell_type": "markdown",
      "metadata": {
        "id": "G-asMdMh7QRX"
      },
      "source": [
        "## Strings \n",
        "\n",
        "`string` type allows us, programmers, define text variables that we can do various operations on. In order to define a `string`, you will use single `'` or double `\"` quotation marks. In data science `string` type is essential when working with textual data.  "
      ]
    },
    {
      "cell_type": "code",
      "metadata": {
        "id": "BgHaHNok7QRX"
      },
      "source": [
        "my_str = \"foo\"\n",
        "print(my_str, type(my_str))"
      ],
      "execution_count": null,
      "outputs": []
    },
    {
      "cell_type": "markdown",
      "metadata": {
        "id": "r1Vb0alt7QRX"
      },
      "source": [
        "Python API defines a `format()` method that allows us to format strings to our liking:"
      ]
    },
    {
      "cell_type": "code",
      "metadata": {
        "id": "YPOqETSH7QRX"
      },
      "source": [
        "sentence = \"Hello. My name is {} and i like {}.\"\n",
        "name = \"Ed\"\n",
        "second = \"bread\"\n",
        "sentence = sentence.format(name, second)\n",
        "print(sentence)"
      ],
      "execution_count": null,
      "outputs": []
    },
    {
      "cell_type": "code",
      "metadata": {
        "id": "21MvXGz27QRX"
      },
      "source": [
        "'Hello. My name is %s and I have spent %d years in finance' % ('Paul', 100)"
      ],
      "execution_count": null,
      "outputs": []
    },
    {
      "cell_type": "markdown",
      "metadata": {
        "id": "Zwpszm5h7QRX"
      },
      "source": [
        "You can also access individual `string` characters via `[]` indexing, which is, to the most part, identical syntax to that of accessing `list` elements as we shall see in the next sections. A point to remember for now is that indexing in Python starts from `0`:"
      ]
    },
    {
      "cell_type": "code",
      "metadata": {
        "id": "P9FFgUzL7QRX"
      },
      "source": [
        "print(sentence[0])\n",
        "print(sentence[16])"
      ],
      "execution_count": null,
      "outputs": []
    },
    {
      "cell_type": "markdown",
      "metadata": {
        "id": "9lnQkZcj7QRX"
      },
      "source": [
        "We will see more ways to slice and dice strings when we cover `list` type."
      ]
    },
    {
      "cell_type": "markdown",
      "metadata": {
        "id": "M3PhyDbv7QRX"
      },
      "source": [
        "## Arithmetic expressions and the `math` library\n",
        "\n",
        "Python supports the standard arithmetic operators:  "
      ]
    },
    {
      "cell_type": "code",
      "metadata": {
        "id": "YW8sn7ku7QRY"
      },
      "source": [
        "print('Addition: ', 5+2)\n",
        "print('Subtraction: ', 5-2)\n",
        "print('Multiplication: ', 5*2)\n",
        "print('Division: ', 5/2)\n",
        "print('Exponentataion: ', 5**3)\n",
        "print('Modulo: ', 5%2)"
      ],
      "execution_count": null,
      "outputs": []
    },
    {
      "cell_type": "code",
      "metadata": {
        "id": "liNrBwUG7QRY"
      },
      "source": [
        "import math\n",
        "'Square root of 5 is %.010f' % math.sqrt(5)"
      ],
      "execution_count": null,
      "outputs": []
    },
    {
      "cell_type": "code",
      "metadata": {
        "id": "MFFIzMPl7QRY"
      },
      "source": [
        "import pandas as pd\n",
        "pd.options.display.float_format = '${:,.3f}'.format\n",
        "df = pd.DataFrame([123.4567, 234.5678, 345.6789, 456.7890],\n",
        "                  index=['foo','bar','baz','quux'],\n",
        "                  columns=['cost'])\n",
        "print(df)"
      ],
      "execution_count": null,
      "outputs": []
    },
    {
      "cell_type": "code",
      "metadata": {
        "id": "3eA9VfvT7QRY"
      },
      "source": [
        "dir(object)"
      ],
      "execution_count": null,
      "outputs": []
    },
    {
      "cell_type": "code",
      "metadata": {
        "id": "o2BHj0q97QRY"
      },
      "source": [
        "class Person(object):\n",
        "    def __init__(self, name, surname):\n",
        "        if name is None or len(name) < 5:\n",
        "            raise ValueError('Invalid name')\n",
        "        self.name = name\n",
        "        self.surname = surname\n",
        "        \n",
        "    def introduce(self):\n",
        "        print('Hello! My name is %s %s' % (self.name, self.surname))\n",
        "        \n",
        "    def __eq__(self, other):\n",
        "        return self.surname == other.surname\n",
        "        \n",
        "    def __repr__(self):\n",
        "        return '%s, %s' % (self.surname, self.name)\n",
        "    \n",
        "    def __str__(self):\n",
        "        return self.__repr__()"
      ],
      "execution_count": null,
      "outputs": []
    },
    {
      "cell_type": "code",
      "metadata": {
        "id": "b5MEqMYh7QRY"
      },
      "source": [
        "newton = Person(None, 'Newton')"
      ],
      "execution_count": null,
      "outputs": []
    },
    {
      "cell_type": "code",
      "metadata": {
        "id": "YRkkTbNu7QRY"
      },
      "source": [
        "newton.introduce()"
      ],
      "execution_count": null,
      "outputs": []
    },
    {
      "cell_type": "code",
      "metadata": {
        "id": "IvshFoMb7QRY"
      },
      "source": [
        "elg = Person('Mohamed', 'Newton')\n",
        "elg.introduce()"
      ],
      "execution_count": null,
      "outputs": []
    },
    {
      "cell_type": "code",
      "metadata": {
        "id": "TWeUg0O97QRY"
      },
      "source": [
        "str(elg)"
      ],
      "execution_count": null,
      "outputs": []
    },
    {
      "cell_type": "code",
      "metadata": {
        "id": "XkcMaqtS7QRY"
      },
      "source": [
        "5//2, 5%2"
      ],
      "execution_count": null,
      "outputs": []
    },
    {
      "cell_type": "code",
      "metadata": {
        "id": "GDJBYxPo7QRZ"
      },
      "source": [
        "elg is newton"
      ],
      "execution_count": null,
      "outputs": []
    },
    {
      "cell_type": "code",
      "metadata": {
        "id": "8DrvuiK07QRZ"
      },
      "source": [
        "elg == newton"
      ],
      "execution_count": null,
      "outputs": []
    },
    {
      "cell_type": "code",
      "metadata": {
        "id": "EGySlf_p7QRZ"
      },
      "source": [
        "elg.__eq__(newton)"
      ],
      "execution_count": null,
      "outputs": []
    },
    {
      "cell_type": "code",
      "metadata": {
        "id": "uFYS1KvZ7QRZ"
      },
      "source": [
        "a, b = 'foo', 'bar'\n",
        "print(a)\n",
        "print(b)"
      ],
      "execution_count": null,
      "outputs": []
    },
    {
      "cell_type": "code",
      "metadata": {
        "id": "dpEAkdX27QRZ"
      },
      "source": [
        "?__str__"
      ],
      "execution_count": null,
      "outputs": []
    },
    {
      "cell_type": "markdown",
      "metadata": {
        "id": "cb-KpAbc7QRZ"
      },
      "source": [
        "**Expressions** such as"
      ]
    },
    {
      "cell_type": "code",
      "metadata": {
        "id": "PUJMZnt67QRZ"
      },
      "source": [
        "3 + 5"
      ],
      "execution_count": null,
      "outputs": []
    },
    {
      "cell_type": "code",
      "metadata": {
        "id": "jL9eqLbo7QRZ"
      },
      "source": [
        "2. * x + 7."
      ],
      "execution_count": null,
      "outputs": []
    },
    {
      "cell_type": "markdown",
      "metadata": {
        "id": "abpOh_MT7QRZ"
      },
      "source": [
        "evaluate to numbers (whether integers, or floating point numbers). They are known as **arithmetic** expressions."
      ]
    },
    {
      "cell_type": "markdown",
      "metadata": {
        "id": "GNgh1yzX7QRa"
      },
      "source": [
        "In addition, we can perform an array of other common operations on numerics:  "
      ]
    },
    {
      "cell_type": "code",
      "metadata": {
        "id": "09Je-MNq7QRa"
      },
      "source": [
        "print('Absolute value: ', abs(-5))\n",
        "print('Rounding: ', round(3.56))\n",
        "print('Maximum value: ', max(3,2,8,10,2,5))\n",
        "print('Minimum value: ', min(3,2,8,10,2,5))"
      ],
      "execution_count": null,
      "outputs": []
    },
    {
      "cell_type": "markdown",
      "metadata": {
        "id": "D-TCwZW57QRa"
      },
      "source": [
        "The `math` library provides us with many utilities a data scientist would find handy: "
      ]
    },
    {
      "cell_type": "code",
      "metadata": {
        "id": "aWrY7i1P7QRa"
      },
      "source": [
        "import math"
      ],
      "execution_count": null,
      "outputs": []
    },
    {
      "cell_type": "markdown",
      "metadata": {
        "id": "Oa8cPV9-7QRa"
      },
      "source": [
        "We can start make use of these utilities right out of the box:"
      ]
    },
    {
      "cell_type": "code",
      "metadata": {
        "id": "IkK2-2_S7QRa"
      },
      "source": [
        "print('Euler: ', math.e)\n",
        "print('Pi: ', math.pi)"
      ],
      "execution_count": null,
      "outputs": []
    },
    {
      "cell_type": "markdown",
      "metadata": {
        "id": "P9K0b4uG7QRa"
      },
      "source": [
        "# Collections"
      ]
    },
    {
      "cell_type": "markdown",
      "metadata": {
        "id": "kSbUT2V87QRa"
      },
      "source": [
        "## Lists\n",
        "\n",
        "Lists are arguably the most used data structure in python. Its core function is to allow storage and access of various elements. Financial data in particular is often represented as time-series, which are, at theier core, collections of observed values over time. To define a `list` we use square brackets `[]`:"
      ]
    },
    {
      "cell_type": "code",
      "metadata": {
        "id": "imWOxsex7QRa"
      },
      "source": [
        "my_list = [1,5,6,3]\n",
        "print(my_list, type(my_list))"
      ],
      "execution_count": null,
      "outputs": []
    },
    {
      "cell_type": "markdown",
      "metadata": {
        "id": "1KqBPF6_7QRb"
      },
      "source": [
        "Python allows us to combine elements of different types into the same `list`:"
      ]
    },
    {
      "cell_type": "code",
      "metadata": {
        "id": "LkYg0-B47QRb"
      },
      "source": [
        "my_list = [1, \"hello world\", True, math.pi]\n",
        "print(my_list)"
      ],
      "execution_count": null,
      "outputs": []
    },
    {
      "cell_type": "markdown",
      "metadata": {
        "id": "2s-T-HnB7QRb"
      },
      "source": [
        "Accessing elements of a `list` is performed using `[]`. Rememeber that index of the first element of the list is `0`, which means that in order to access *n*th element of a `list` you have to pass *n-1* as an index:"
      ]
    },
    {
      "cell_type": "code",
      "metadata": {
        "id": "zsIcRxUL7QRb"
      },
      "source": [
        "print(my_list[0])\n",
        "print(my_list[1])\n",
        "print(my_list[2])\n",
        "print(my_list[3])"
      ],
      "execution_count": null,
      "outputs": []
    },
    {
      "cell_type": "markdown",
      "metadata": {
        "id": "7oZ0iEAW7QRb"
      },
      "source": [
        "You may also access elements from the end of an array by using negative indexing:"
      ]
    },
    {
      "cell_type": "code",
      "metadata": {
        "id": "q1XZg0i87QRb"
      },
      "source": [
        "print(my_list[-1])\n",
        "print(my_list[-2])\n",
        "print(my_list[-3])\n",
        "print(my_list[-4])"
      ],
      "execution_count": null,
      "outputs": []
    },
    {
      "cell_type": "markdown",
      "metadata": {
        "id": "Bbn9XGBx7QRb"
      },
      "source": [
        "We may set an element in a `list` to a new value:"
      ]
    },
    {
      "cell_type": "code",
      "metadata": {
        "id": "8_dtYCQt7QRb"
      },
      "source": [
        "my_list[-1] = 4\n",
        "print(my_list)"
      ],
      "execution_count": null,
      "outputs": []
    },
    {
      "cell_type": "markdown",
      "metadata": {
        "id": "TmXF3s0Y7QRc"
      },
      "source": [
        "`list`s may also be sliced and diced in many different ways. We can select a range from the list:"
      ]
    },
    {
      "cell_type": "code",
      "metadata": {
        "id": "I2kFpkTR7QRc"
      },
      "source": [
        "my_list = ['problem','worthy','of','attack','proves','its','worth','by','fighting','back']\n",
        "print(my_list[3:6])"
      ],
      "execution_count": null,
      "outputs": []
    },
    {
      "cell_type": "markdown",
      "metadata": {
        "id": "1zZWP1nc7QRc"
      },
      "source": [
        "We may also select ranges without lower / upper boounds:"
      ]
    },
    {
      "cell_type": "code",
      "metadata": {
        "id": "mPKvkGXe7QRc"
      },
      "source": [
        "print(my_list[3:])\n",
        "print(my_list[:5])"
      ],
      "execution_count": null,
      "outputs": []
    },
    {
      "cell_type": "markdown",
      "metadata": {
        "id": "bfk64ily7QRc"
      },
      "source": [
        "You can select a step:"
      ]
    },
    {
      "cell_type": "code",
      "metadata": {
        "id": "NmDp9kEM7QRc"
      },
      "source": [
        "my_list[::2]"
      ],
      "execution_count": null,
      "outputs": []
    },
    {
      "cell_type": "markdown",
      "metadata": {
        "id": "B1GGZIME7QRc"
      },
      "source": [
        "Reverse the order by setting negative step size:"
      ]
    },
    {
      "cell_type": "code",
      "metadata": {
        "id": "jYknc99W7QRc"
      },
      "source": [
        "my_list[::-1]"
      ],
      "execution_count": null,
      "outputs": []
    },
    {
      "cell_type": "markdown",
      "metadata": {
        "id": "IIYfUehA7QRd"
      },
      "source": [
        "And combine these slicers in various ways:"
      ]
    },
    {
      "cell_type": "code",
      "metadata": {
        "id": "e9RDKlmV7QRd"
      },
      "source": [
        "my_list[2:10:3]"
      ],
      "execution_count": null,
      "outputs": []
    },
    {
      "cell_type": "markdown",
      "metadata": {
        "id": "Y6TmbG1w7QRd"
      },
      "source": [
        "Python gives us a few handy funcitons to generate lists of common spec, such as ordered numbers. We utilise `range()` numbers to do just that, just don't forget to wrap with a `list()` coercer to get an actual list back instead of `range`:"
      ]
    },
    {
      "cell_type": "code",
      "metadata": {
        "id": "ZtFjsGrK7QRd"
      },
      "source": [
        "range(10)"
      ],
      "execution_count": null,
      "outputs": []
    },
    {
      "cell_type": "code",
      "metadata": {
        "id": "eVbgLnHj7QRd"
      },
      "source": [
        "list(range(10))"
      ],
      "execution_count": null,
      "outputs": []
    },
    {
      "cell_type": "markdown",
      "metadata": {
        "id": "-A6DWREf7QRd"
      },
      "source": [
        "Conviniently, we can define a step as well:"
      ]
    },
    {
      "cell_type": "code",
      "metadata": {
        "id": "1Ea4f20a7QRd"
      },
      "source": [
        "list(range(1,10,2))"
      ],
      "execution_count": null,
      "outputs": []
    },
    {
      "cell_type": "markdown",
      "metadata": {
        "id": "1ezSJs0a7QRd"
      },
      "source": [
        "We can add elements to the end of the list via `append()` method:"
      ]
    },
    {
      "cell_type": "code",
      "metadata": {
        "id": "oqLk7DrU7QRe"
      },
      "source": [
        "my_list = list(range(0,10))\n",
        "my_list.append(25)\n",
        "my_list.append(25)\n",
        "print(my_list)"
      ],
      "execution_count": null,
      "outputs": []
    },
    {
      "cell_type": "markdown",
      "metadata": {
        "id": "WftuzJye7QRe"
      },
      "source": [
        "We may remove specific elements by calling `remove()` and supplying it with the value of an element we'd like to remove. Note that only the first instance of an element will be removed: "
      ]
    },
    {
      "cell_type": "code",
      "metadata": {
        "id": "W9Xu0DVw7QRe"
      },
      "source": [
        "my_list.remove(25)\n",
        "my_list.remove(my_list[5])\n",
        "print(my_list)"
      ],
      "execution_count": null,
      "outputs": []
    },
    {
      "cell_type": "markdown",
      "metadata": {
        "id": "ag9kJ8xy7QRe"
      },
      "source": [
        "Python lists are essential for many aspects of scientific computation; knowing how to manipulate data using Python lists is thus a very important skill to have in your toolbox. For a complete reference on methods available on Python `list`s refer to its documentation page. Common collection operations such as filtering, mapping and sorting are very convinient to execute using anonymous functions (lambdas): "
      ]
    },
    {
      "cell_type": "code",
      "metadata": {
        "id": "C8n4EbmL7QRe"
      },
      "source": [
        "list(filter(lambda x: x > 5, my_list))"
      ],
      "execution_count": null,
      "outputs": []
    },
    {
      "cell_type": "code",
      "metadata": {
        "id": "vjIoZ0y07QRe"
      },
      "source": [
        "list(map(lambda x: x*2, my_list))"
      ],
      "execution_count": null,
      "outputs": []
    },
    {
      "cell_type": "code",
      "metadata": {
        "id": "SvVZN75e7QRe"
      },
      "source": [
        "sorted(my_list, reverse=True)"
      ],
      "execution_count": null,
      "outputs": []
    },
    {
      "cell_type": "markdown",
      "metadata": {
        "id": "5j5PzsaS7QRf"
      },
      "source": [
        "## Dictionaries\n",
        "Python dictionaries are powerful abstractions that let us define key-value pairs. In other programming languages, such abstractions are also known as maps. We define dictionaries by using `{}` and separating keys and values by `,`. Elements can be accessed via `get()` method or via `[]` notation. Let's see some examples:"
      ]
    },
    {
      "cell_type": "code",
      "metadata": {
        "id": "Eci36E5-7QRf"
      },
      "source": [
        "book = {\n",
        "    'authors': ['Michael Berthold', 'David J. Hand'],\n",
        "    'title': 'Intelligent Data Analysis',\n",
        "    'publisher': 'Springer',\n",
        "    'year': 2003\n",
        "}"
      ],
      "execution_count": null,
      "outputs": []
    },
    {
      "cell_type": "code",
      "metadata": {
        "id": "CNySnIbS7QRf"
      },
      "source": [
        "book['authors']"
      ],
      "execution_count": null,
      "outputs": []
    },
    {
      "cell_type": "code",
      "metadata": {
        "id": "B04N2zyq7QRf"
      },
      "source": [
        "my_dict = {1:'one',2:'two',3:'three'}\n",
        "print(my_dict.get(1))\n",
        "print(my_dict[1])\n",
        "my_dict[4] = 'four'\n",
        "print(my_dict)"
      ],
      "execution_count": null,
      "outputs": []
    },
    {
      "cell_type": "markdown",
      "metadata": {
        "id": "KX1Gs36s7QRf"
      },
      "source": [
        "Since python is dynamically typed, we can define very convinient data structures. Let's see how we would define a dummy data-set of financial time-series:"
      ]
    },
    {
      "cell_type": "code",
      "metadata": {
        "id": "Zgwp7oA67QRf"
      },
      "source": [
        "my_dict = {\n",
        "    'AAPL':[200,201,200.1,205],\n",
        "    'GOOG':[700,750,640,720],\n",
        "    'AMZN':[900,850,920,910]\n",
        "}\n",
        "\n",
        "print (my_dict)"
      ],
      "execution_count": null,
      "outputs": []
    },
    {
      "cell_type": "markdown",
      "metadata": {
        "id": "DRKFmN9-7QRg"
      },
      "source": [
        "Here, each value corresponds to a list of dummy prices. As we go forth, we will see how powerful such data structures are."
      ]
    },
    {
      "cell_type": "markdown",
      "metadata": {
        "id": "3DpSmwsR7QRg"
      },
      "source": [
        "# Logic"
      ]
    },
    {
      "cell_type": "markdown",
      "metadata": {
        "id": "Xmwf0JF17QRg"
      },
      "source": [
        "Let us set `x` to the integer 10:"
      ]
    },
    {
      "cell_type": "code",
      "metadata": {
        "id": "UcmiZPGF7QRg"
      },
      "source": [
        "x = 10"
      ],
      "execution_count": null,
      "outputs": []
    },
    {
      "cell_type": "markdown",
      "metadata": {
        "id": "d6ylbiqQ7QRg"
      },
      "source": [
        "## Logical Operators"
      ]
    },
    {
      "cell_type": "markdown",
      "metadata": {
        "id": "79ZrtpsD7QRi"
      },
      "source": [
        ""
      ]
    },
    {
      "cell_type": "code",
      "metadata": {
        "id": "BH1IXQLH7QRi"
      },
      "source": [
        "x < 10"
      ],
      "execution_count": null,
      "outputs": []
    },
    {
      "cell_type": "code",
      "metadata": {
        "id": "NR3ZXDBP7QRi"
      },
      "source": [
        "type(x < 10)"
      ],
      "execution_count": null,
      "outputs": []
    },
    {
      "cell_type": "markdown",
      "metadata": {
        "id": "JxClZihg7QRi"
      },
      "source": [
        "Different **boolean expressions** can be obtained by using different **comparison operators**, such as **less than**:"
      ]
    },
    {
      "cell_type": "code",
      "metadata": {
        "id": "cdodsZhJ7QRi"
      },
      "source": [
        "x < 10"
      ],
      "execution_count": null,
      "outputs": []
    },
    {
      "cell_type": "markdown",
      "metadata": {
        "id": "--orEzld7QRi"
      },
      "source": [
        "**less than or equals**:"
      ]
    },
    {
      "cell_type": "code",
      "metadata": {
        "id": "X0eYMgmg7QRi"
      },
      "source": [
        "x <= 10"
      ],
      "execution_count": null,
      "outputs": []
    },
    {
      "cell_type": "markdown",
      "metadata": {
        "id": "_U1FkqTR7QRj"
      },
      "source": [
        "**equals**:"
      ]
    },
    {
      "cell_type": "code",
      "metadata": {
        "id": "sHQg55Ng7QRj"
      },
      "source": [
        "x == 10"
      ],
      "execution_count": null,
      "outputs": []
    },
    {
      "cell_type": "markdown",
      "metadata": {
        "id": "yFOAa8ri7QRj"
      },
      "source": [
        "**greater than or equals**:"
      ]
    },
    {
      "cell_type": "code",
      "metadata": {
        "id": "Dh0icq1b7QRj"
      },
      "source": [
        "x >= 10"
      ],
      "execution_count": null,
      "outputs": []
    },
    {
      "cell_type": "markdown",
      "metadata": {
        "id": "cQb9fTrQ7QRj"
      },
      "source": [
        "**greater than**:"
      ]
    },
    {
      "cell_type": "code",
      "metadata": {
        "id": "CUjMtCCZ7QRj"
      },
      "source": [
        "x > 10"
      ],
      "execution_count": null,
      "outputs": []
    },
    {
      "cell_type": "markdown",
      "metadata": {
        "id": "rGHFbIu67QRj"
      },
      "source": [
        "And these **comparison operators** can be combined with **logical operators**, such as `not`, `and`, and `or`:"
      ]
    },
    {
      "cell_type": "code",
      "metadata": {
        "id": "eV3WTZ037QRj"
      },
      "source": [
        "(x <= 10) and (x % 2 == 1)"
      ],
      "execution_count": null,
      "outputs": []
    },
    {
      "cell_type": "code",
      "metadata": {
        "id": "TqThl8HS7QRk"
      },
      "source": [
        "(x <= 10) or (x % 2 == 1)"
      ],
      "execution_count": null,
      "outputs": []
    },
    {
      "cell_type": "markdown",
      "metadata": {
        "id": "dQH4pyJH7QRk"
      },
      "source": [
        "We can also use the built-in function `all`:"
      ]
    },
    {
      "cell_type": "code",
      "metadata": {
        "id": "2J63GPaO7QRk"
      },
      "source": [
        "all([x > 1, 5 <= x, 5 > 3, 7 != 1])"
      ],
      "execution_count": null,
      "outputs": []
    },
    {
      "cell_type": "markdown",
      "metadata": {
        "id": "aGA1nwLG7QRk"
      },
      "source": [
        "which is equivalent to"
      ]
    },
    {
      "cell_type": "code",
      "metadata": {
        "id": "c8WtG6bP7QRk"
      },
      "source": [
        "x > 1 and 5 <= x and 5 > 3 and 7 != 1"
      ],
      "execution_count": null,
      "outputs": []
    },
    {
      "cell_type": "markdown",
      "metadata": {
        "id": "w-uB5rXw7QRk"
      },
      "source": [
        "Similarly,"
      ]
    },
    {
      "cell_type": "code",
      "metadata": {
        "id": "W-Q5K_ZD7QRk"
      },
      "source": [
        "all([x > 1, 5 <= x, x == 5, 5 > 3, 7 != 1])"
      ],
      "execution_count": null,
      "outputs": []
    },
    {
      "cell_type": "markdown",
      "metadata": {
        "id": "anpI-pj27QRk"
      },
      "source": [
        "is equivalent to"
      ]
    },
    {
      "cell_type": "code",
      "metadata": {
        "id": "RWRBZR8h7QRk"
      },
      "source": [
        "x > 1 and 5 <= x and x == 5 and 5 > 3 and 7 != 1"
      ],
      "execution_count": null,
      "outputs": []
    },
    {
      "cell_type": "markdown",
      "metadata": {
        "id": "a5uqEUOC7QRl"
      },
      "source": [
        "Another builtin function, `any`, enables us to write"
      ]
    },
    {
      "cell_type": "code",
      "metadata": {
        "id": "eAPxaAO37QRl"
      },
      "source": [
        "any([x > 1, 5 <= x, x == 5, 5 > 3, 7 != 1])"
      ],
      "execution_count": null,
      "outputs": []
    },
    {
      "cell_type": "markdown",
      "metadata": {
        "id": "ms-2e4bw7QRl"
      },
      "source": [
        "which is somewhat more succinct and arguably more readable than the equivalent"
      ]
    },
    {
      "cell_type": "code",
      "metadata": {
        "id": "J1LlK0KY7QRl"
      },
      "source": [
        "x > 1 or 5 <= x or x == 5 or 5 > 3 or 7 != 1"
      ],
      "execution_count": null,
      "outputs": []
    },
    {
      "cell_type": "markdown",
      "metadata": {
        "id": "n4_ct8vh7QRl"
      },
      "source": [
        "Each data type can also be evaluated to `True` or `False`. As a general rule, objects like `string` will evaluate to `False` if they do not contain anything and `True` otherwise:"
      ]
    },
    {
      "cell_type": "code",
      "metadata": {
        "id": "Mpf1AFci7QRl"
      },
      "source": [
        "print(bool())\n",
        "print(bool(''))\n",
        "print(bool(' '))\n",
        "print(bool(1))"
      ],
      "execution_count": null,
      "outputs": []
    },
    {
      "cell_type": "markdown",
      "metadata": {
        "id": "8Rk8Y1r97QRl"
      },
      "source": [
        "## Flow of control\n",
        "\n",
        "We can control the flow of our programs using the basic logic operators and `if` statements. If statment executes if the boolean expression that it evaluates is `True` and `else` block will execute if the block is not `True`. Else-if or `elif` lets us set a specific boolean expression to evaluate if the base case is not `True`."
      ]
    },
    {
      "cell_type": "code",
      "metadata": {
        "id": "3x1ePPa57QRl"
      },
      "source": [
        "#If-else statement skeleton\n",
        "if 'Condition':\n",
        "    #do something if the 'Condition' is True\n",
        "    print('in the if block')\n",
        "else:\n",
        "    #do something otherwise\n",
        "    print('in the else block')\n",
        "#note that 'Condition' will evaluate to True as it is a non-empty string"
      ],
      "execution_count": null,
      "outputs": []
    },
    {
      "cell_type": "code",
      "metadata": {
        "id": "BWTBBr9i7QRm"
      },
      "source": [
        "a = 6\n",
        "if a == 6:\n",
        "    print('a is equal to 6')\n",
        "else: print ('Error')"
      ],
      "execution_count": null,
      "outputs": []
    },
    {
      "cell_type": "markdown",
      "metadata": {
        "id": "QFcyZpNK7QRm"
      },
      "source": [
        "We can also have nested `if-else` statements:"
      ]
    },
    {
      "cell_type": "code",
      "metadata": {
        "id": "la0eEKNI7QRm"
      },
      "source": [
        "a = 9\n",
        "\n",
        "if a % 2 == 0:\n",
        "    print('a is divisible by 2')\n",
        "    if a % 3 == 0:\n",
        "        print('a is divisible by 2 and 3')\n",
        "if a % 3 == 0:\n",
        "    print('a is divisible by 3')\n",
        "else:\n",
        "    print('a is devisible by neither 2 or 3')"
      ],
      "execution_count": null,
      "outputs": []
    },
    {
      "cell_type": "markdown",
      "metadata": {
        "id": "52jXLT0Q7QRm"
      },
      "source": [
        "We can use Pythonic syntactic sugar constructs such as `in` and `and` to check the membership of element/s in some structure. For example:"
      ]
    },
    {
      "cell_type": "code",
      "metadata": {
        "id": "RT_MlOxr7QRm"
      },
      "source": [
        "string = 'I love Python'\n",
        "if 'y' or 'z' in string:\n",
        "    print('This is my string!')"
      ],
      "execution_count": null,
      "outputs": []
    },
    {
      "cell_type": "markdown",
      "metadata": {
        "id": "U9NeLhj-7QRm"
      },
      "source": [
        "# Iteration\n",
        "It is an essential tool of any programmer to go through a collection of elements and perform operations on each of them. For a data scientist, this skill is ever so important across many stages of the process: data collection, cleaning and analysis.\n",
        "\n",
        "**Loops** allow us to repeat blocks of code multiple times. For example:"
      ]
    },
    {
      "cell_type": "markdown",
      "metadata": {
        "id": "FL4dCbnm7QRm"
      },
      "source": [
        "## While loop\n",
        "\n",
        "While loop is a basic loop that will execute if some condition is `True` and stops executing when the condition is `False`:"
      ]
    },
    {
      "cell_type": "code",
      "metadata": {
        "id": "DQUbZ4on7QRm"
      },
      "source": [
        "a = True\n",
        "while a:\n",
        "    print('inside while loop')\n",
        "    a = False"
      ],
      "execution_count": null,
      "outputs": []
    },
    {
      "cell_type": "markdown",
      "metadata": {
        "id": "5GR1XpPC7QRn"
      },
      "source": [
        "Here is another example:"
      ]
    },
    {
      "cell_type": "code",
      "metadata": {
        "id": "KL6sUBzY7QRn"
      },
      "source": [
        "x = 0\n",
        "while x < 10:\n",
        "    print(x)\n",
        "    x = x + 1"
      ],
      "execution_count": null,
      "outputs": []
    },
    {
      "cell_type": "markdown",
      "metadata": {
        "id": "0xN0hIcp7QRn"
      },
      "source": [
        "We start by setting the variable `x` to 0. We then repeat the indented **block**, consisting of the lines `print(x)` and `x = x + 1`, while the condition `x < 10` holds. The second line in this block, `x = x + 1`, keeps incrementing the variable `x` by 1, so eventually the condition `x < 10` will end up being false. Thus we get ten **iterations** of the loop. If we check the value of the variable `x` after we have left the loop, we find that it is"
      ]
    },
    {
      "cell_type": "code",
      "metadata": {
        "id": "adMqUwRV7QRn"
      },
      "source": [
        "x"
      ],
      "execution_count": null,
      "outputs": []
    },
    {
      "cell_type": "markdown",
      "metadata": {
        "id": "euvcUTr97QRn"
      },
      "source": [
        "We can escape the loop by issuing a `break` command:"
      ]
    },
    {
      "cell_type": "code",
      "metadata": {
        "id": "NxtVvkaB7QRn"
      },
      "source": [
        "a = 0\n",
        "while True:\n",
        "    a += 1\n",
        "    print(a)\n",
        "    if a == 10:\n",
        "        break"
      ],
      "execution_count": null,
      "outputs": []
    },
    {
      "cell_type": "markdown",
      "metadata": {
        "id": "1F4o-1Ns7QRn"
      },
      "source": [
        "## For loop\n",
        "\n",
        "For loop is one of the most convinient iteration techniques out there. We use for loops to iterate through lists, dictionaries, ranges and other data structures. Unlike `while` loop, `for` loop will by default go through every element in the list and perform a given task. "
      ]
    },
    {
      "cell_type": "code",
      "metadata": {
        "id": "YOwelTIi7QRn"
      },
      "source": [
        "a = 0\n",
        "for i in range(10):\n",
        "    a += i\n",
        "print(a)"
      ],
      "execution_count": null,
      "outputs": []
    },
    {
      "cell_type": "markdown",
      "metadata": {
        "id": "X74Crqu97QRn"
      },
      "source": [
        "There is more than one way to iterate through dictionaries:"
      ]
    },
    {
      "cell_type": "code",
      "metadata": {
        "id": "4tsD_NOD7QRn"
      },
      "source": [
        "my_dict = {\n",
        "    'AAPL':[200,201,200.1,205],\n",
        "    'GOOG':[700,750,640,720],\n",
        "    'AMZN':[900,850,920,910]\n",
        "}"
      ],
      "execution_count": null,
      "outputs": []
    },
    {
      "cell_type": "code",
      "metadata": {
        "id": "SSaG030E7QRo"
      },
      "source": [
        "for (ticker, prices) in my_dict.items():\n",
        "    print(ticker, prices[0])"
      ],
      "execution_count": null,
      "outputs": []
    },
    {
      "cell_type": "code",
      "metadata": {
        "id": "re7Ib2Ua7QRo"
      },
      "source": [
        "for i in my_dict:\n",
        "    print(i)"
      ],
      "execution_count": null,
      "outputs": []
    },
    {
      "cell_type": "markdown",
      "metadata": {
        "id": "27HYzypN7QRo"
      },
      "source": [
        "Calling `items()` on dictionary gives access to keys and values:"
      ]
    },
    {
      "cell_type": "code",
      "metadata": {
        "id": "T6YqZAsD7QRo"
      },
      "source": [
        "for key, value in my_dict.items():\n",
        "    print(key, value[0])"
      ],
      "execution_count": null,
      "outputs": []
    },
    {
      "cell_type": "markdown",
      "metadata": {
        "id": "0yiDqAbz7QRo"
      },
      "source": [
        "# Functions\n",
        "\n",
        "Funcitons have a huge singinficance for promgrammers and data scientists alike. Functions allow us to describe a piece of logic that we can reuse in future. This lets us leverage power of computation and perform an arbitrary task on large sets of data. Functions are defined using `def` key-word and anonymous functions can be defined via `lambda` key-word. We use `return` to get a value from the function. We use `()` and pass corresponding parameters to run functions. "
      ]
    },
    {
      "cell_type": "code",
      "metadata": {
        "id": "89GeMtbG7QRo"
      },
      "source": [
        "#function that does not return anything:\n",
        "def printer(a):\n",
        "    print(a)\n",
        "\n",
        "printer('hello world')"
      ],
      "execution_count": null,
      "outputs": []
    },
    {
      "cell_type": "code",
      "metadata": {
        "id": "w5w9PPpw7QRo"
      },
      "source": [
        "def area(length, width):\n",
        "    return length * width\n",
        "\n",
        "print(area(2,5))"
      ],
      "execution_count": null,
      "outputs": []
    },
    {
      "cell_type": "code",
      "metadata": {
        "id": "eurPDtab7QRo"
      },
      "source": [
        "double = lambda x: x**2\n",
        "double(10)"
      ],
      "execution_count": null,
      "outputs": []
    },
    {
      "cell_type": "code",
      "metadata": {
        "id": "E_cyjICp7QRo"
      },
      "source": [
        "type(area)"
      ],
      "execution_count": null,
      "outputs": []
    },
    {
      "cell_type": "code",
      "metadata": {
        "id": "OLRqNtcQ7QRo"
      },
      "source": [
        "type(double)"
      ],
      "execution_count": null,
      "outputs": []
    },
    {
      "cell_type": "markdown",
      "metadata": {
        "id": "iAOvaFnI7QRo"
      },
      "source": [
        "We are only scratching the surface of functions here and highlighting details of a programming skillset of a data scientist. Python has a wide array of other functionalities that make it useful beyond data science and mathematical computation.  "
      ]
    },
    {
      "cell_type": "markdown",
      "metadata": {
        "id": "PEH-hQIO7QRo"
      },
      "source": [
        "This concludes the lecture / tutorial on Python programming for data science. Please be sure to ask any questions!"
      ]
    },
    {
      "cell_type": "markdown",
      "metadata": {
        "id": "8sLvxFfD7QRo"
      },
      "source": [
        "## Recommendation\n",
        "\n",
        "To learn more about Python, you may wish to consult the official Python documentation: https://docs.python.org/3/\n",
        "\n",
        "You may also wish to look at the following books:\n",
        "\n",
        "* Wes McKinney. *Python for Data Analysis*, 2nd Edition. O’Reilly Media, Inc., 2017. This book goes through the foundations of the Python programming language, the Jupyter environment, industry-standard Python libraries, especially Pandas, and applications to time series data.\n",
        "* Yves Hilpisch. *Python for Finance*, 2nd Edition. O’Reilly Media, Inc., 2019. This book goes through the foundations of the Python programming language, industry-standard Python libraries, including Pandas, an introduction to object-oriented programming, and applications to automated trading, derivatives, and portfolio valuation.\n",
        "* Francois Chollet. *Deep Learning with Python*. Manning Publications, 2018. This book focusses on Deep Learning (DL), rather than Python, but considers how Python libraries could be used to facilitate DL. It does not cover the fundamentals of Python in great depth.\n",
        "\n",
        "If you have a question check whether it is already answered on StackOverflow: https://stackoverflow.com/\n",
        "\n",
        "Very often, if you google your Python programming question, you end up on StackOverflow.\n",
        "\n",
        "If you are using Python for data science, check out\n",
        "* https://www.kaggle.com/ (great for data science in general)\n",
        "* https://www.quandl.com/ (a great source of financial and alternative data)."
      ]
    },
    {
      "cell_type": "code",
      "metadata": {
        "id": "WIDQ8uTW7QRo"
      },
      "source": [
        ""
      ],
      "execution_count": null,
      "outputs": []
    }
  ]
}